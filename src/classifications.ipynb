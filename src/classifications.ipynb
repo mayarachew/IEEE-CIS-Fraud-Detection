{
 "cells": [
  {
   "cell_type": "markdown",
   "metadata": {},
   "source": [
    "# IEEE-CIS Fraud Detection - Classifications"
   ]
  },
  {
   "cell_type": "markdown",
   "metadata": {},
   "source": [
    "## Imports"
   ]
  },
  {
   "cell_type": "code",
   "execution_count": 1,
   "metadata": {},
   "outputs": [],
   "source": [
    "import pandas as pd\n",
    "import numpy as np\n",
    "import plotly.graph_objects as go\n",
    "from PIL import Image\n",
    "from functions.balance_dataset import balance_dataset \n",
    "from functions.test_hyperparameters import test_hyperparameters, test_hyperparameters_grid\n",
    "from functions.create_classifier import create_classifier, plot_confusion_matrix \n",
    "from sklearn.preprocessing import MinMaxScaler\n",
    "from sklearn.naive_bayes import MultinomialNB \n",
    "from sklearn.ensemble import RandomForestClassifier \n",
    "from sklearn.svm import SVC \n",
    "from sklearn.neural_network import MLPClassifier\n",
    "from sklearn.model_selection import train_test_split\n",
    "import random\n",
    "\n",
    "import warnings\n",
    "warnings.filterwarnings(\"ignore\")"
   ]
  },
  {
   "cell_type": "markdown",
   "metadata": {},
   "source": [
    "## Config"
   ]
  },
  {
   "cell_type": "code",
   "execution_count": 2,
   "metadata": {},
   "outputs": [],
   "source": [
    "SEED_VAL = 42\n",
    "random.seed(SEED_VAL)\n",
    "np.random.seed(SEED_VAL)"
   ]
  },
  {
   "cell_type": "markdown",
   "metadata": {},
   "source": [
    "## Read files"
   ]
  },
  {
   "cell_type": "code",
   "execution_count": 4,
   "metadata": {},
   "outputs": [],
   "source": [
    "# !unzip '../data/train_transaction.zip' -d '../data'"
   ]
  },
  {
   "cell_type": "code",
   "execution_count": 5,
   "metadata": {},
   "outputs": [],
   "source": [
    "transaction_df = pd.read_csv(\"../data/train_transaction.csv\")"
   ]
  },
  {
   "cell_type": "code",
   "execution_count": null,
   "metadata": {},
   "outputs": [
    {
     "name": "stdout",
     "output_type": "stream",
     "text": [
      "(590540, 394)\n"
     ]
    }
   ],
   "source": [
    "print(transaction_df.shape)"
   ]
  },
  {
   "cell_type": "code",
   "execution_count": 5,
   "metadata": {},
   "outputs": [
    {
     "data": {
      "text/html": [
       "<div>\n",
       "<style scoped>\n",
       "    .dataframe tbody tr th:only-of-type {\n",
       "        vertical-align: middle;\n",
       "    }\n",
       "\n",
       "    .dataframe tbody tr th {\n",
       "        vertical-align: top;\n",
       "    }\n",
       "\n",
       "    .dataframe thead th {\n",
       "        text-align: right;\n",
       "    }\n",
       "</style>\n",
       "<table border=\"1\" class=\"dataframe\">\n",
       "  <thead>\n",
       "    <tr style=\"text-align: right;\">\n",
       "      <th></th>\n",
       "      <th>TransactionID</th>\n",
       "      <th>isFraud</th>\n",
       "      <th>TransactionDT</th>\n",
       "      <th>TransactionAmt</th>\n",
       "      <th>ProductCD</th>\n",
       "      <th>card1</th>\n",
       "      <th>card2</th>\n",
       "      <th>card3</th>\n",
       "      <th>card4</th>\n",
       "      <th>card5</th>\n",
       "      <th>...</th>\n",
       "      <th>V330</th>\n",
       "      <th>V331</th>\n",
       "      <th>V332</th>\n",
       "      <th>V333</th>\n",
       "      <th>V334</th>\n",
       "      <th>V335</th>\n",
       "      <th>V336</th>\n",
       "      <th>V337</th>\n",
       "      <th>V338</th>\n",
       "      <th>V339</th>\n",
       "    </tr>\n",
       "  </thead>\n",
       "  <tbody>\n",
       "    <tr>\n",
       "      <th>0</th>\n",
       "      <td>2987000</td>\n",
       "      <td>0</td>\n",
       "      <td>86400</td>\n",
       "      <td>68.5</td>\n",
       "      <td>W</td>\n",
       "      <td>13926</td>\n",
       "      <td>NaN</td>\n",
       "      <td>150.0</td>\n",
       "      <td>discover</td>\n",
       "      <td>142.0</td>\n",
       "      <td>...</td>\n",
       "      <td>NaN</td>\n",
       "      <td>NaN</td>\n",
       "      <td>NaN</td>\n",
       "      <td>NaN</td>\n",
       "      <td>NaN</td>\n",
       "      <td>NaN</td>\n",
       "      <td>NaN</td>\n",
       "      <td>NaN</td>\n",
       "      <td>NaN</td>\n",
       "      <td>NaN</td>\n",
       "    </tr>\n",
       "    <tr>\n",
       "      <th>1</th>\n",
       "      <td>2987001</td>\n",
       "      <td>0</td>\n",
       "      <td>86401</td>\n",
       "      <td>29.0</td>\n",
       "      <td>W</td>\n",
       "      <td>2755</td>\n",
       "      <td>404.0</td>\n",
       "      <td>150.0</td>\n",
       "      <td>mastercard</td>\n",
       "      <td>102.0</td>\n",
       "      <td>...</td>\n",
       "      <td>NaN</td>\n",
       "      <td>NaN</td>\n",
       "      <td>NaN</td>\n",
       "      <td>NaN</td>\n",
       "      <td>NaN</td>\n",
       "      <td>NaN</td>\n",
       "      <td>NaN</td>\n",
       "      <td>NaN</td>\n",
       "      <td>NaN</td>\n",
       "      <td>NaN</td>\n",
       "    </tr>\n",
       "    <tr>\n",
       "      <th>2</th>\n",
       "      <td>2987002</td>\n",
       "      <td>0</td>\n",
       "      <td>86469</td>\n",
       "      <td>59.0</td>\n",
       "      <td>W</td>\n",
       "      <td>4663</td>\n",
       "      <td>490.0</td>\n",
       "      <td>150.0</td>\n",
       "      <td>visa</td>\n",
       "      <td>166.0</td>\n",
       "      <td>...</td>\n",
       "      <td>NaN</td>\n",
       "      <td>NaN</td>\n",
       "      <td>NaN</td>\n",
       "      <td>NaN</td>\n",
       "      <td>NaN</td>\n",
       "      <td>NaN</td>\n",
       "      <td>NaN</td>\n",
       "      <td>NaN</td>\n",
       "      <td>NaN</td>\n",
       "      <td>NaN</td>\n",
       "    </tr>\n",
       "    <tr>\n",
       "      <th>3</th>\n",
       "      <td>2987003</td>\n",
       "      <td>0</td>\n",
       "      <td>86499</td>\n",
       "      <td>50.0</td>\n",
       "      <td>W</td>\n",
       "      <td>18132</td>\n",
       "      <td>567.0</td>\n",
       "      <td>150.0</td>\n",
       "      <td>mastercard</td>\n",
       "      <td>117.0</td>\n",
       "      <td>...</td>\n",
       "      <td>NaN</td>\n",
       "      <td>NaN</td>\n",
       "      <td>NaN</td>\n",
       "      <td>NaN</td>\n",
       "      <td>NaN</td>\n",
       "      <td>NaN</td>\n",
       "      <td>NaN</td>\n",
       "      <td>NaN</td>\n",
       "      <td>NaN</td>\n",
       "      <td>NaN</td>\n",
       "    </tr>\n",
       "    <tr>\n",
       "      <th>4</th>\n",
       "      <td>2987004</td>\n",
       "      <td>0</td>\n",
       "      <td>86506</td>\n",
       "      <td>50.0</td>\n",
       "      <td>H</td>\n",
       "      <td>4497</td>\n",
       "      <td>514.0</td>\n",
       "      <td>150.0</td>\n",
       "      <td>mastercard</td>\n",
       "      <td>102.0</td>\n",
       "      <td>...</td>\n",
       "      <td>0.0</td>\n",
       "      <td>0.0</td>\n",
       "      <td>0.0</td>\n",
       "      <td>0.0</td>\n",
       "      <td>0.0</td>\n",
       "      <td>0.0</td>\n",
       "      <td>0.0</td>\n",
       "      <td>0.0</td>\n",
       "      <td>0.0</td>\n",
       "      <td>0.0</td>\n",
       "    </tr>\n",
       "  </tbody>\n",
       "</table>\n",
       "<p>5 rows × 394 columns</p>\n",
       "</div>"
      ],
      "text/plain": [
       "   TransactionID  isFraud  TransactionDT  TransactionAmt ProductCD  card1  \\\n",
       "0        2987000        0          86400            68.5         W  13926   \n",
       "1        2987001        0          86401            29.0         W   2755   \n",
       "2        2987002        0          86469            59.0         W   4663   \n",
       "3        2987003        0          86499            50.0         W  18132   \n",
       "4        2987004        0          86506            50.0         H   4497   \n",
       "\n",
       "   card2  card3       card4  card5  ... V330  V331  V332  V333  V334 V335  \\\n",
       "0    NaN  150.0    discover  142.0  ...  NaN   NaN   NaN   NaN   NaN  NaN   \n",
       "1  404.0  150.0  mastercard  102.0  ...  NaN   NaN   NaN   NaN   NaN  NaN   \n",
       "2  490.0  150.0        visa  166.0  ...  NaN   NaN   NaN   NaN   NaN  NaN   \n",
       "3  567.0  150.0  mastercard  117.0  ...  NaN   NaN   NaN   NaN   NaN  NaN   \n",
       "4  514.0  150.0  mastercard  102.0  ...  0.0   0.0   0.0   0.0   0.0  0.0   \n",
       "\n",
       "  V336  V337  V338  V339  \n",
       "0  NaN   NaN   NaN   NaN  \n",
       "1  NaN   NaN   NaN   NaN  \n",
       "2  NaN   NaN   NaN   NaN  \n",
       "3  NaN   NaN   NaN   NaN  \n",
       "4  0.0   0.0   0.0   0.0  \n",
       "\n",
       "[5 rows x 394 columns]"
      ]
     },
     "execution_count": 5,
     "metadata": {},
     "output_type": "execute_result"
    }
   ],
   "source": [
    "transaction_df.head()"
   ]
  },
  {
   "cell_type": "markdown",
   "metadata": {},
   "source": [
    "## Preprocessing"
   ]
  },
  {
   "cell_type": "markdown",
   "metadata": {},
   "source": [
    "### Preprocess attributes"
   ]
  },
  {
   "cell_type": "markdown",
   "metadata": {},
   "source": [
    "All columns"
   ]
  },
  {
   "cell_type": "code",
   "execution_count": 6,
   "metadata": {},
   "outputs": [
    {
     "name": "stdout",
     "output_type": "stream",
     "text": [
      "['TransactionID', 'isFraud', 'TransactionDT', 'TransactionAmt', 'ProductCD', 'card1', 'card2', 'card3', 'card4', 'card5', 'card6', 'addr1', 'addr2', 'dist1', 'dist2', 'P_emaildomain', 'R_emaildomain', 'C1', 'C2', 'C3', 'C4', 'C5', 'C6', 'C7', 'C8', 'C9', 'C10', 'C11', 'C12', 'C13', 'C14', 'D1', 'D2', 'D3', 'D4', 'D5', 'D6', 'D7', 'D8', 'D9', 'D10', 'D11', 'D12', 'D13', 'D14', 'D15', 'M1', 'M2', 'M3', 'M4', 'M5', 'M6', 'M7', 'M8', 'M9', 'V1', 'V2', 'V3', 'V4', 'V5', 'V6', 'V7', 'V8', 'V9', 'V10', 'V11', 'V12', 'V13', 'V14', 'V15', 'V16', 'V17', 'V18', 'V19', 'V20', 'V21', 'V22', 'V23', 'V24', 'V25', 'V26', 'V27', 'V28', 'V29', 'V30', 'V31', 'V32', 'V33', 'V34', 'V35', 'V36', 'V37', 'V38', 'V39', 'V40', 'V41', 'V42', 'V43', 'V44', 'V45', 'V46', 'V47', 'V48', 'V49', 'V50', 'V51', 'V52', 'V53', 'V54', 'V55', 'V56', 'V57', 'V58', 'V59', 'V60', 'V61', 'V62', 'V63', 'V64', 'V65', 'V66', 'V67', 'V68', 'V69', 'V70', 'V71', 'V72', 'V73', 'V74', 'V75', 'V76', 'V77', 'V78', 'V79', 'V80', 'V81', 'V82', 'V83', 'V84', 'V85', 'V86', 'V87', 'V88', 'V89', 'V90', 'V91', 'V92', 'V93', 'V94', 'V95', 'V96', 'V97', 'V98', 'V99', 'V100', 'V101', 'V102', 'V103', 'V104', 'V105', 'V106', 'V107', 'V108', 'V109', 'V110', 'V111', 'V112', 'V113', 'V114', 'V115', 'V116', 'V117', 'V118', 'V119', 'V120', 'V121', 'V122', 'V123', 'V124', 'V125', 'V126', 'V127', 'V128', 'V129', 'V130', 'V131', 'V132', 'V133', 'V134', 'V135', 'V136', 'V137', 'V138', 'V139', 'V140', 'V141', 'V142', 'V143', 'V144', 'V145', 'V146', 'V147', 'V148', 'V149', 'V150', 'V151', 'V152', 'V153', 'V154', 'V155', 'V156', 'V157', 'V158', 'V159', 'V160', 'V161', 'V162', 'V163', 'V164', 'V165', 'V166', 'V167', 'V168', 'V169', 'V170', 'V171', 'V172', 'V173', 'V174', 'V175', 'V176', 'V177', 'V178', 'V179', 'V180', 'V181', 'V182', 'V183', 'V184', 'V185', 'V186', 'V187', 'V188', 'V189', 'V190', 'V191', 'V192', 'V193', 'V194', 'V195', 'V196', 'V197', 'V198', 'V199', 'V200', 'V201', 'V202', 'V203', 'V204', 'V205', 'V206', 'V207', 'V208', 'V209', 'V210', 'V211', 'V212', 'V213', 'V214', 'V215', 'V216', 'V217', 'V218', 'V219', 'V220', 'V221', 'V222', 'V223', 'V224', 'V225', 'V226', 'V227', 'V228', 'V229', 'V230', 'V231', 'V232', 'V233', 'V234', 'V235', 'V236', 'V237', 'V238', 'V239', 'V240', 'V241', 'V242', 'V243', 'V244', 'V245', 'V246', 'V247', 'V248', 'V249', 'V250', 'V251', 'V252', 'V253', 'V254', 'V255', 'V256', 'V257', 'V258', 'V259', 'V260', 'V261', 'V262', 'V263', 'V264', 'V265', 'V266', 'V267', 'V268', 'V269', 'V270', 'V271', 'V272', 'V273', 'V274', 'V275', 'V276', 'V277', 'V278', 'V279', 'V280', 'V281', 'V282', 'V283', 'V284', 'V285', 'V286', 'V287', 'V288', 'V289', 'V290', 'V291', 'V292', 'V293', 'V294', 'V295', 'V296', 'V297', 'V298', 'V299', 'V300', 'V301', 'V302', 'V303', 'V304', 'V305', 'V306', 'V307', 'V308', 'V309', 'V310', 'V311', 'V312', 'V313', 'V314', 'V315', 'V316', 'V317', 'V318', 'V319', 'V320', 'V321', 'V322', 'V323', 'V324', 'V325', 'V326', 'V327', 'V328', 'V329', 'V330', 'V331', 'V332', 'V333', 'V334', 'V335', 'V336', 'V337', 'V338', 'V339']\n"
     ]
    }
   ],
   "source": [
    "print(transaction_df.columns.tolist())"
   ]
  },
  {
   "cell_type": "markdown",
   "metadata": {},
   "source": [
    "Remove NaN values"
   ]
  },
  {
   "cell_type": "code",
   "execution_count": 7,
   "metadata": {},
   "outputs": [],
   "source": [
    "transaction_df = transaction_df.replace(np.nan, 0)"
   ]
  },
  {
   "cell_type": "markdown",
   "metadata": {},
   "source": [
    "Limit to 5000 samples"
   ]
  },
  {
   "cell_type": "code",
   "execution_count": 8,
   "metadata": {},
   "outputs": [],
   "source": [
    "transaction_df_samples = transaction_df[:5000]\n",
    "\n",
    "X_df = transaction_df_samples.drop('isFraud', axis=1)\n",
    "y_df = transaction_df_samples['isFraud']"
   ]
  },
  {
   "cell_type": "markdown",
   "metadata": {},
   "source": [
    "Transform categorical attributes on dummy variables\n",
    "\n",
    "Categorical features:\n",
    "- ProductCD\n",
    "- card1 - card6\n",
    "- addr1, addr2\n",
    "- P_emaildomain\n",
    "- R_emaildomain\n",
    "- M1 - M9"
   ]
  },
  {
   "cell_type": "code",
   "execution_count": 9,
   "metadata": {},
   "outputs": [],
   "source": [
    "ProductCD_data = pd.get_dummies(X_df['ProductCD']).add_prefix('ProductCD_')\n",
    "P_emaildomain_data = pd.get_dummies(X_df['P_emaildomain']).add_prefix('P_emaildomain_')\n",
    "R_emaildomain_data = pd.get_dummies(X_df['R_emaildomain']).add_prefix('R_emaildomain_')\n",
    "\n",
    "card1_data = pd.get_dummies(X_df['card1']).add_prefix('card1_')\n",
    "card2_data = pd.get_dummies(X_df['card2']).add_prefix('card2_')\n",
    "card3_data = pd.get_dummies(X_df['card3']).add_prefix('card3_')\n",
    "card4_data = pd.get_dummies(X_df['card4']).add_prefix('card4_')\n",
    "card5_data = pd.get_dummies(X_df['card5']).add_prefix('card5_')\n",
    "card6_data = pd.get_dummies(X_df['card6']).add_prefix('card6_')\n",
    "\n",
    "addr1_data = pd.get_dummies(X_df['addr1']).add_prefix('addr1_')\n",
    "addr2_data = pd.get_dummies(X_df['addr2']).add_prefix('addr2_')\n",
    "\n",
    "M1_data = pd.get_dummies(X_df['M1']).add_prefix('M1_')\n",
    "M2_data = pd.get_dummies(X_df['M2']).add_prefix('M2_')\n",
    "M3_data = pd.get_dummies(X_df['M3']).add_prefix('M3_')\n",
    "M4_data = pd.get_dummies(X_df['M4']).add_prefix('M4_')\n",
    "M5_data = pd.get_dummies(X_df['M5']).add_prefix('M5_')\n",
    "M6_data = pd.get_dummies(X_df['M6']).add_prefix('M6_')\n",
    "M7_data = pd.get_dummies(X_df['M7']).add_prefix('M7_')\n",
    "M8_data = pd.get_dummies(X_df['M8']).add_prefix('M8_')\n",
    "M9_data = pd.get_dummies(X_df['M9']).add_prefix('M9_')\n",
    "\n",
    "X_df = X_df[X_df.columns.drop(['TransactionID','ProductCD', 'P_emaildomain', 'R_emaildomain', 'card1', 'card2', 'card3', 'card4', 'card5', 'card6', 'addr1', 'addr2', 'M1', 'M2', 'M3', 'M4', 'M5', 'M6', 'M7', 'M8', 'M9'])]\n",
    "\n",
    "X_df = pd.concat([X_df, ProductCD_data, P_emaildomain_data, R_emaildomain_data, \n",
    "                    card1_data, card2_data, card3_data, card4_data, card5_data, card6_data,\n",
    "                    addr1_data, addr2_data,\n",
    "                    M1_data, M2_data, M3_data, M4_data, M5_data, M6_data, M7_data, M8_data, M9_data], join = 'outer', axis=1)\n"
   ]
  },
  {
   "cell_type": "code",
   "execution_count": 10,
   "metadata": {},
   "outputs": [
    {
     "data": {
      "text/html": [
       "<div>\n",
       "<style scoped>\n",
       "    .dataframe tbody tr th:only-of-type {\n",
       "        vertical-align: middle;\n",
       "    }\n",
       "\n",
       "    .dataframe tbody tr th {\n",
       "        vertical-align: top;\n",
       "    }\n",
       "\n",
       "    .dataframe thead th {\n",
       "        text-align: right;\n",
       "    }\n",
       "</style>\n",
       "<table border=\"1\" class=\"dataframe\">\n",
       "  <thead>\n",
       "    <tr style=\"text-align: right;\">\n",
       "      <th></th>\n",
       "      <th>TransactionDT</th>\n",
       "      <th>TransactionAmt</th>\n",
       "      <th>dist1</th>\n",
       "      <th>dist2</th>\n",
       "      <th>C1</th>\n",
       "      <th>C2</th>\n",
       "      <th>C3</th>\n",
       "      <th>C4</th>\n",
       "      <th>C5</th>\n",
       "      <th>C6</th>\n",
       "      <th>...</th>\n",
       "      <th>M6_T</th>\n",
       "      <th>M7_0</th>\n",
       "      <th>M7_F</th>\n",
       "      <th>M7_T</th>\n",
       "      <th>M8_0</th>\n",
       "      <th>M8_F</th>\n",
       "      <th>M8_T</th>\n",
       "      <th>M9_0</th>\n",
       "      <th>M9_F</th>\n",
       "      <th>M9_T</th>\n",
       "    </tr>\n",
       "  </thead>\n",
       "  <tbody>\n",
       "    <tr>\n",
       "      <th>0</th>\n",
       "      <td>86400</td>\n",
       "      <td>68.5</td>\n",
       "      <td>19.0</td>\n",
       "      <td>0.0</td>\n",
       "      <td>1.0</td>\n",
       "      <td>1.0</td>\n",
       "      <td>0.0</td>\n",
       "      <td>0.0</td>\n",
       "      <td>0.0</td>\n",
       "      <td>1.0</td>\n",
       "      <td>...</td>\n",
       "      <td>1</td>\n",
       "      <td>1</td>\n",
       "      <td>0</td>\n",
       "      <td>0</td>\n",
       "      <td>1</td>\n",
       "      <td>0</td>\n",
       "      <td>0</td>\n",
       "      <td>1</td>\n",
       "      <td>0</td>\n",
       "      <td>0</td>\n",
       "    </tr>\n",
       "    <tr>\n",
       "      <th>1</th>\n",
       "      <td>86401</td>\n",
       "      <td>29.0</td>\n",
       "      <td>0.0</td>\n",
       "      <td>0.0</td>\n",
       "      <td>1.0</td>\n",
       "      <td>1.0</td>\n",
       "      <td>0.0</td>\n",
       "      <td>0.0</td>\n",
       "      <td>0.0</td>\n",
       "      <td>1.0</td>\n",
       "      <td>...</td>\n",
       "      <td>1</td>\n",
       "      <td>1</td>\n",
       "      <td>0</td>\n",
       "      <td>0</td>\n",
       "      <td>1</td>\n",
       "      <td>0</td>\n",
       "      <td>0</td>\n",
       "      <td>1</td>\n",
       "      <td>0</td>\n",
       "      <td>0</td>\n",
       "    </tr>\n",
       "    <tr>\n",
       "      <th>2</th>\n",
       "      <td>86469</td>\n",
       "      <td>59.0</td>\n",
       "      <td>287.0</td>\n",
       "      <td>0.0</td>\n",
       "      <td>1.0</td>\n",
       "      <td>1.0</td>\n",
       "      <td>0.0</td>\n",
       "      <td>0.0</td>\n",
       "      <td>0.0</td>\n",
       "      <td>1.0</td>\n",
       "      <td>...</td>\n",
       "      <td>0</td>\n",
       "      <td>0</td>\n",
       "      <td>1</td>\n",
       "      <td>0</td>\n",
       "      <td>0</td>\n",
       "      <td>1</td>\n",
       "      <td>0</td>\n",
       "      <td>0</td>\n",
       "      <td>1</td>\n",
       "      <td>0</td>\n",
       "    </tr>\n",
       "    <tr>\n",
       "      <th>3</th>\n",
       "      <td>86499</td>\n",
       "      <td>50.0</td>\n",
       "      <td>0.0</td>\n",
       "      <td>0.0</td>\n",
       "      <td>2.0</td>\n",
       "      <td>5.0</td>\n",
       "      <td>0.0</td>\n",
       "      <td>0.0</td>\n",
       "      <td>0.0</td>\n",
       "      <td>4.0</td>\n",
       "      <td>...</td>\n",
       "      <td>0</td>\n",
       "      <td>1</td>\n",
       "      <td>0</td>\n",
       "      <td>0</td>\n",
       "      <td>1</td>\n",
       "      <td>0</td>\n",
       "      <td>0</td>\n",
       "      <td>1</td>\n",
       "      <td>0</td>\n",
       "      <td>0</td>\n",
       "    </tr>\n",
       "    <tr>\n",
       "      <th>4</th>\n",
       "      <td>86506</td>\n",
       "      <td>50.0</td>\n",
       "      <td>0.0</td>\n",
       "      <td>0.0</td>\n",
       "      <td>1.0</td>\n",
       "      <td>1.0</td>\n",
       "      <td>0.0</td>\n",
       "      <td>0.0</td>\n",
       "      <td>0.0</td>\n",
       "      <td>1.0</td>\n",
       "      <td>...</td>\n",
       "      <td>0</td>\n",
       "      <td>1</td>\n",
       "      <td>0</td>\n",
       "      <td>0</td>\n",
       "      <td>1</td>\n",
       "      <td>0</td>\n",
       "      <td>0</td>\n",
       "      <td>1</td>\n",
       "      <td>0</td>\n",
       "      <td>0</td>\n",
       "    </tr>\n",
       "  </tbody>\n",
       "</table>\n",
       "<p>5 rows × 2263 columns</p>\n",
       "</div>"
      ],
      "text/plain": [
       "   TransactionDT  TransactionAmt  dist1  dist2   C1   C2   C3   C4   C5   C6  \\\n",
       "0          86400            68.5   19.0    0.0  1.0  1.0  0.0  0.0  0.0  1.0   \n",
       "1          86401            29.0    0.0    0.0  1.0  1.0  0.0  0.0  0.0  1.0   \n",
       "2          86469            59.0  287.0    0.0  1.0  1.0  0.0  0.0  0.0  1.0   \n",
       "3          86499            50.0    0.0    0.0  2.0  5.0  0.0  0.0  0.0  4.0   \n",
       "4          86506            50.0    0.0    0.0  1.0  1.0  0.0  0.0  0.0  1.0   \n",
       "\n",
       "   ...  M6_T  M7_0  M7_F  M7_T  M8_0  M8_F  M8_T  M9_0  M9_F  M9_T  \n",
       "0  ...     1     1     0     0     1     0     0     1     0     0  \n",
       "1  ...     1     1     0     0     1     0     0     1     0     0  \n",
       "2  ...     0     0     1     0     0     1     0     0     1     0  \n",
       "3  ...     0     1     0     0     1     0     0     1     0     0  \n",
       "4  ...     0     1     0     0     1     0     0     1     0     0  \n",
       "\n",
       "[5 rows x 2263 columns]"
      ]
     },
     "execution_count": 10,
     "metadata": {},
     "output_type": "execute_result"
    }
   ],
   "source": [
    "X_df.head()"
   ]
  },
  {
   "cell_type": "code",
   "execution_count": 11,
   "metadata": {},
   "outputs": [
    {
     "data": {
      "text/plain": [
       "(5000, 2263)"
      ]
     },
     "execution_count": 11,
     "metadata": {},
     "output_type": "execute_result"
    }
   ],
   "source": [
    "X_df.shape"
   ]
  },
  {
   "cell_type": "markdown",
   "metadata": {},
   "source": [
    "### Split dataset"
   ]
  },
  {
   "cell_type": "code",
   "execution_count": 11,
   "metadata": {},
   "outputs": [
    {
     "name": "stdout",
     "output_type": "stream",
     "text": [
      "Shape of train dataset (3000, 2263)\n",
      "Shape of validation dataset (1000, 2263)\n",
      "Shape of test dataset (1000, 2263)\n"
     ]
    }
   ],
   "source": [
    "X_train, X_test, y_train, y_test = train_test_split(X_df, y_df, test_size=0.2, random_state=SEED_VAL)\n",
    "X_train, X_val, y_train, y_val = train_test_split(X_train, y_train, test_size=0.25, random_state=SEED_VAL)\n",
    "\n",
    "print('Shape of train dataset', X_train.shape)\n",
    "print('Shape of validation dataset', X_val.shape)\n",
    "print('Shape of test dataset', X_test.shape)"
   ]
  },
  {
   "cell_type": "markdown",
   "metadata": {},
   "source": [
    "### Balance dataset - choose %"
   ]
  },
  {
   "cell_type": "markdown",
   "metadata": {},
   "source": [
    "Analyzing the proportion of fraudulent samples:"
   ]
  },
  {
   "cell_type": "code",
   "execution_count": 12,
   "metadata": {},
   "outputs": [
    {
     "data": {
      "text/plain": [
       "0    0.982\n",
       "1    0.018\n",
       "Name: isFraud, dtype: float64"
      ]
     },
     "execution_count": 12,
     "metadata": {},
     "output_type": "execute_result"
    }
   ],
   "source": [
    "y_train.value_counts(normalize=True)"
   ]
  },
  {
   "cell_type": "markdown",
   "metadata": {},
   "source": [
    "The fraudulent samples are approximately 4% of the dataset, so we are dealing with an unbalanced dataset."
   ]
  },
  {
   "cell_type": "markdown",
   "metadata": {},
   "source": [
    "Define not balanced dataset"
   ]
  },
  {
   "cell_type": "code",
   "execution_count": 13,
   "metadata": {},
   "outputs": [],
   "source": [
    "X_train_not_balanced_04 = X_train\n",
    "y_train_not_balanced_04 = y_train"
   ]
  },
  {
   "cell_type": "markdown",
   "metadata": {},
   "source": [
    "##### Define balanced dataset using oversampling"
   ]
  },
  {
   "cell_type": "code",
   "execution_count": 14,
   "metadata": {},
   "outputs": [
    {
     "name": "stdout",
     "output_type": "stream",
     "text": [
      "10%:\n",
      "X_train.shape (3275, 2263)\n",
      "\n",
      "20%:\n",
      "X_train.shape (3685, 2263)\n",
      "\n",
      "30%:\n",
      "X_train.shape (4212, 2263)\n",
      "\n",
      "40%:\n",
      "X_train.shape (4910, 2263)\n",
      "\n",
      "50%:\n",
      "X_train.shape (5892, 2263)\n"
     ]
    }
   ],
   "source": [
    "X_train_balanced_10, y_train_balanced_10 = balance_dataset('oversampling', X_train, y_train, 0.112) # 10% fraud\n",
    "X_train_balanced_20, y_train_balanced_20 = balance_dataset('oversampling', X_train, y_train, 0.251) # 20% fraud\n",
    "X_train_balanced_30, y_train_balanced_30 = balance_dataset('oversampling', X_train, y_train, 0.43)  # 30% fraud\n",
    "X_train_balanced_40, y_train_balanced_40 = balance_dataset('oversampling', X_train, y_train, 0.667) # 40% fraud\n",
    "X_train_balanced_50, y_train_balanced_50 = balance_dataset('oversampling', X_train, y_train, 1)     # 50% fraud\n",
    "\n",
    "print('10%:')\n",
    "print('X_train.shape', X_train_balanced_10.shape)\n",
    "\n",
    "print('\\n20%:')\n",
    "print('X_train.shape', X_train_balanced_20.shape)\n",
    "\n",
    "print('\\n30%:')\n",
    "print('X_train.shape', X_train_balanced_30.shape)\n",
    "\n",
    "print('\\n40%:')\n",
    "print('X_train.shape', X_train_balanced_40.shape)\n",
    "\n",
    "print('\\n50%:')\n",
    "print('X_train.shape', X_train_balanced_50.shape)"
   ]
  },
  {
   "cell_type": "code",
   "execution_count": 20,
   "metadata": {},
   "outputs": [
    {
     "data": {
      "text/plain": [
       "0    0.5\n",
       "1    0.5\n",
       "Name: isFraud, dtype: float64"
      ]
     },
     "execution_count": 20,
     "metadata": {},
     "output_type": "execute_result"
    }
   ],
   "source": [
    "y_train_balanced_50.value_counts(normalize=True)"
   ]
  },
  {
   "cell_type": "markdown",
   "metadata": {},
   "source": [
    "##### Define balanced dataset using undersampling"
   ]
  },
  {
   "cell_type": "code",
   "execution_count": 18,
   "metadata": {},
   "outputs": [
    {
     "name": "stdout",
     "output_type": "stream",
     "text": [
      "10%:\n",
      "X_train.shape (536, 2263)\n",
      "\n",
      "20%:\n",
      "X_train.shape (269, 2263)\n",
      "\n",
      "30%:\n",
      "X_train.shape (179, 2263)\n",
      "\n",
      "40%:\n",
      "X_train.shape (134, 2263)\n",
      "\n",
      "50%:\n",
      "X_train.shape (108, 2263)\n"
     ]
    }
   ],
   "source": [
    "X_train_balanced_us_10, y_train_balanced_us_10 = balance_dataset('undersampling', X_train, y_train, 0.112) # 10% fraud\n",
    "X_train_balanced_us_20, y_train_balanced_us_20 = balance_dataset('undersampling', X_train, y_train, 0.251) # 20% fraud\n",
    "X_train_balanced_us_30, y_train_balanced_us_30 = balance_dataset('undersampling', X_train, y_train, 0.43)  # 30% fraud\n",
    "X_train_balanced_us_40, y_train_balanced_us_40 = balance_dataset('undersampling', X_train, y_train, 0.667) # 40% fraud\n",
    "X_train_balanced_us_50, y_train_balanced_us_50 = balance_dataset('undersampling', X_train, y_train, 1)     # 50% fraud\n",
    "\n",
    "print('10%:')\n",
    "print('X_train.shape', X_train_balanced_us_10.shape)\n",
    "\n",
    "print('\\n20%:')\n",
    "print('X_train.shape', X_train_balanced_us_20.shape)\n",
    "\n",
    "print('\\n30%:')\n",
    "print('X_train.shape', X_train_balanced_us_30.shape)\n",
    "\n",
    "print('\\n40%:')\n",
    "print('X_train.shape', X_train_balanced_us_40.shape)\n",
    "\n",
    "print('\\n50%:')\n",
    "print('X_train.shape', X_train_balanced_us_50.shape)"
   ]
  },
  {
   "cell_type": "code",
   "execution_count": 19,
   "metadata": {},
   "outputs": [
    {
     "data": {
      "text/plain": [
       "0    0.5\n",
       "1    0.5\n",
       "Name: isFraud, dtype: float64"
      ]
     },
     "execution_count": 19,
     "metadata": {},
     "output_type": "execute_result"
    }
   ],
   "source": [
    "y_train_balanced_us_50.value_counts(normalize=True)"
   ]
  },
  {
   "cell_type": "markdown",
   "metadata": {},
   "source": [
    "#### Normalize data for Naive Bayes"
   ]
  },
  {
   "cell_type": "code",
   "execution_count": 20,
   "metadata": {},
   "outputs": [],
   "source": [
    "scaler = MinMaxScaler()\n",
    "\n",
    "X_train_not_balanced_04_normalized = scaler.fit(X_train_not_balanced_04).transform(X_train_not_balanced_04)\n",
    "\n",
    "X_train_balanced_10_normalized = scaler.fit(X_train_balanced_10).transform(X_train_balanced_10)\n",
    "X_train_balanced_20_normalized = scaler.fit(X_train_balanced_20).transform(X_train_balanced_20)\n",
    "X_train_balanced_30_normalized = scaler.fit(X_train_balanced_30).transform(X_train_balanced_30)\n",
    "X_train_balanced_40_normalized = scaler.fit(X_train_balanced_40).transform(X_train_balanced_40)\n",
    "X_train_balanced_50_normalized = scaler.fit(X_train_balanced_50).transform(X_train_balanced_50)\n",
    "\n",
    "X_train_balanced_us_10_normalized = scaler.fit(X_train_balanced_us_10).transform(X_train_balanced_us_10)\n",
    "X_train_balanced_us_20_normalized = scaler.fit(X_train_balanced_us_20).transform(X_train_balanced_us_20)\n",
    "X_train_balanced_us_30_normalized = scaler.fit(X_train_balanced_us_30).transform(X_train_balanced_us_30)\n",
    "X_train_balanced_us_40_normalized = scaler.fit(X_train_balanced_us_40).transform(X_train_balanced_us_40)\n",
    "X_train_balanced_us_50_normalized = scaler.fit(X_train_balanced_us_50).transform(X_train_balanced_us_50)\n",
    "\n",
    "X_val_normalized = scaler.fit(X_val).transform(X_val)\n",
    "\n",
    "X_test_normalized = scaler.fit(X_test).transform(X_test)"
   ]
  },
  {
   "cell_type": "markdown",
   "metadata": {},
   "source": [
    "#### Classification - original data (0.04%)"
   ]
  },
  {
   "cell_type": "markdown",
   "metadata": {},
   "source": [
    "##### Test hyperparameters"
   ]
  },
  {
   "cell_type": "code",
   "execution_count": 24,
   "metadata": {},
   "outputs": [
    {
     "name": "stdout",
     "output_type": "stream",
     "text": [
      "Best hyperparameters based on f1 score for Naive Bayes: {'alpha': 1}\n",
      "Best hyperparameters based on f1 score for SVM: {'kernel': 'poly', 'C': 1000}\n",
      "Best hyperparameters based on f1 score for Random Forest: {'n_estimators': 1000, 'min_samples_split': 2, 'min_samples_leaf': 1, 'max_features': 'log2', 'max_depth': 100, 'criterion': 'gini'}\n",
      "Best hyperparameters based on f1 score for Multilayer Perceptron: {'solver': 'adam', 'learning_rate': 'constant', 'hidden_layer_sizes': (40,), 'alpha': 1, 'activation': 'relu'}\n"
     ]
    }
   ],
   "source": [
    "test_hyperparameters('Naive Bayes', X_train_not_balanced_04_normalized, y_train_not_balanced_04)\n",
    "test_hyperparameters('SVM', X_train_not_balanced_04, y_train_not_balanced_04)\n",
    "test_hyperparameters('Random Forest', X_train_not_balanced_04, y_train_not_balanced_04)\n",
    "test_hyperparameters('Multilayer Perceptron', X_train_not_balanced_04, y_train_not_balanced_04)"
   ]
  },
  {
   "cell_type": "markdown",
   "metadata": {},
   "source": [
    "##### Classificate"
   ]
  },
  {
   "cell_type": "markdown",
   "metadata": {},
   "source": [
    "Naive Bayes"
   ]
  },
  {
   "cell_type": "code",
   "execution_count": 25,
   "metadata": {},
   "outputs": [
    {
     "name": "stdout",
     "output_type": "stream",
     "text": [
      "Classification report: \n",
      "              precision    recall  f1-score   support\n",
      "\n",
      "           0       0.98      0.93      0.95       973\n",
      "           1       0.06      0.15      0.08        27\n",
      "\n",
      "    accuracy                           0.91      1000\n",
      "   macro avg       0.52      0.54      0.52      1000\n",
      "weighted avg       0.95      0.91      0.93      1000\n",
      "\n",
      "Confusion Matrix: \n"
     ]
    },
    {
     "data": {
      "image/png": "[encoded data removed]",
      "text/plain": [
       "<Figure size 432x288 with 2 Axes>"
      ]
     },
     "metadata": {
      "needs_background": "light"
     },
     "output_type": "display_data"
    }
   ],
   "source": [
    "nb_clf = MultinomialNB(alpha=1)\n",
    "\n",
    "y_pred = create_classifier(nb_clf, X_train_not_balanced_04_normalized, y_train_not_balanced_04, \n",
    "                          X_val_normalized, y_val)\n",
    "\n",
    "print('Confusion Matrix: ')\n",
    "plot_confusion_matrix(nb_clf, X_val_normalized, y_val)"
   ]
  },
  {
   "cell_type": "markdown",
   "metadata": {},
   "source": [
    "Support Vector Machine"
   ]
  },
  {
   "cell_type": "code",
   "execution_count": 26,
   "metadata": {},
   "outputs": [
    {
     "name": "stdout",
     "output_type": "stream",
     "text": [
      "Classification report: \n",
      "              precision    recall  f1-score   support\n",
      "\n",
      "           0       0.97      0.98      0.98       973\n",
      "           1       0.00      0.00      0.00        27\n",
      "\n",
      "    accuracy                           0.95      1000\n",
      "   macro avg       0.49      0.49      0.49      1000\n",
      "weighted avg       0.95      0.95      0.95      1000\n",
      "\n",
      "Confusion Matrix: \n"
     ]
    },
    {
     "data": {
      "image/png": "[encoded data removed]",
      "text/plain": [
       "<Figure size 432x288 with 2 Axes>"
      ]
     },
     "metadata": {
      "needs_background": "light"
     },
     "output_type": "display_data"
    }
   ],
   "source": [
    "svm_clf = SVC(kernel='sigmoid', C=1000, random_state=SEED_VAL)\n",
    "\n",
    "y_pred = create_classifier(svm_clf, X_train_not_balanced_04, y_train_not_balanced_04, \n",
    "                          X_val, y_val)\n",
    "\n",
    "print('Confusion Matrix: ')\n",
    "plot_confusion_matrix(svm_clf, X_val, y_val)"
   ]
  },
  {
   "cell_type": "markdown",
   "metadata": {},
   "source": [
    "Random Forest"
   ]
  },
  {
   "cell_type": "code",
   "execution_count": 27,
   "metadata": {},
   "outputs": [
    {
     "name": "stdout",
     "output_type": "stream",
     "text": [
      "Classification report: \n",
      "              precision    recall  f1-score   support\n",
      "\n",
      "           0       0.97      1.00      0.99       973\n",
      "           1       1.00      0.04      0.07        27\n",
      "\n",
      "    accuracy                           0.97      1000\n",
      "   macro avg       0.99      0.52      0.53      1000\n",
      "weighted avg       0.97      0.97      0.96      1000\n",
      "\n",
      "Confusion Matrix: \n"
     ]
    },
    {
     "data": {
      "image/png": "[encoded data removed]",
      "text/plain": [
       "<Figure size 432x288 with 2 Axes>"
      ]
     },
     "metadata": {
      "needs_background": "light"
     },
     "output_type": "display_data"
    }
   ],
   "source": [
    "rf_clf = RandomForestClassifier(n_estimators=600, min_samples_split=2, min_samples_leaf=2, max_features='auto', max_depth=40, criterion='gini', random_state=SEED_VAL)\n",
    "\n",
    "y_pred = create_classifier(rf_clf, X_train_not_balanced_04, y_train_not_balanced_04, \n",
    "                          X_val, y_val)\n",
    "\n",
    "print('Confusion Matrix: ')\n",
    "plot_confusion_matrix(rf_clf, X_val, y_val)"
   ]
  },
  {
   "cell_type": "markdown",
   "metadata": {},
   "source": [
    "Multilayer Perceptron"
   ]
  },
  {
   "cell_type": "code",
   "execution_count": 28,
   "metadata": {},
   "outputs": [
    {
     "name": "stdout",
     "output_type": "stream",
     "text": [
      "Classification report: \n",
      "              precision    recall  f1-score   support\n",
      "\n",
      "           0       0.97      1.00      0.99       973\n",
      "           1       0.50      0.04      0.07        27\n",
      "\n",
      "    accuracy                           0.97      1000\n",
      "   macro avg       0.74      0.52      0.53      1000\n",
      "weighted avg       0.96      0.97      0.96      1000\n",
      "\n",
      "Confusion Matrix: \n"
     ]
    },
    {
     "data": {
      "image/png": "[encoded data removed]",
      "text/plain": [
       "<Figure size 432x288 with 2 Axes>"
      ]
     },
     "metadata": {
      "needs_background": "light"
     },
     "output_type": "display_data"
    }
   ],
   "source": [
    "mlp_clf = MLPClassifier(solver='adam', learning_rate='constant', hidden_layer_sizes=(500,), alpha=0.01, activation='relu', random_state=SEED_VAL)\n",
    "\n",
    "y_pred = create_classifier(mlp_clf, X_train_not_balanced_04, y_train_not_balanced_04, \n",
    "                          X_val, y_val)\n",
    "\n",
    "print('Confusion Matrix: ')\n",
    "plot_confusion_matrix(mlp_clf, X_val, y_val)"
   ]
  },
  {
   "cell_type": "markdown",
   "metadata": {},
   "source": [
    "#### Classification - oversampling data"
   ]
  },
  {
   "cell_type": "markdown",
   "metadata": {},
   "source": [
    "##### Test Hyperparameters"
   ]
  },
  {
   "cell_type": "markdown",
   "metadata": {},
   "source": [
    "PCA unbalanced (10% fraud)"
   ]
  },
  {
   "cell_type": "code",
   "execution_count": 29,
   "metadata": {},
   "outputs": [
    {
     "name": "stdout",
     "output_type": "stream",
     "text": [
      "Best hyperparameters based on f1 score for Naive Bayes: {'alpha': 0.0001}\n",
      "Best hyperparameters based on f1 score for SVM: {'kernel': 'poly', 'C': 1000}\n",
      "Best hyperparameters based on f1 score for Random Forest: {'n_estimators': 600, 'min_samples_split': 2, 'min_samples_leaf': 1, 'max_features': 'sqrt', 'max_depth': 60, 'criterion': 'gini'}\n",
      "Best hyperparameters based on f1 score for Multilayer Perceptron: {'solver': 'adam', 'learning_rate': 'constant', 'hidden_layer_sizes': (10,), 'alpha': 0.01, 'activation': 'relu'}\n"
     ]
    }
   ],
   "source": [
    "test_hyperparameters('Naive Bayes', X_train_balanced_10_normalized, y_train_balanced_10)\n",
    "test_hyperparameters('SVM', X_train_balanced_10, y_train_balanced_10)\n",
    "test_hyperparameters('Random Forest', X_train_balanced_10, y_train_balanced_10)\n",
    "test_hyperparameters('Multilayer Perceptron', X_train_balanced_10, y_train_balanced_10)"
   ]
  },
  {
   "cell_type": "markdown",
   "metadata": {},
   "source": [
    "PCA unbalanced (20% fraud)"
   ]
  },
  {
   "cell_type": "code",
   "execution_count": 30,
   "metadata": {},
   "outputs": [
    {
     "name": "stdout",
     "output_type": "stream",
     "text": [
      "Best hyperparameters based on f1 score for Naive Bayes: {'alpha': 0.0001}\n",
      "Best hyperparameters based on f1 score for SVM: {'kernel': 'poly', 'C': 1000}\n",
      "Best hyperparameters based on f1 score for Random Forest: {'n_estimators': 1000, 'min_samples_split': 5, 'min_samples_leaf': 1, 'max_features': 'sqrt', 'max_depth': 80, 'criterion': 'gini'}\n",
      "Best hyperparameters based on f1 score for Multilayer Perceptron: {'solver': 'sgd', 'learning_rate': 'constant', 'hidden_layer_sizes': (300,), 'alpha': 1, 'activation': 'tanh'}\n"
     ]
    }
   ],
   "source": [
    "test_hyperparameters('Naive Bayes', X_train_balanced_20_normalized, y_train_balanced_20)\n",
    "test_hyperparameters('SVM', X_train_balanced_20, y_train_balanced_20)\n",
    "test_hyperparameters('Random Forest', X_train_balanced_20, y_train_balanced_20)\n",
    "test_hyperparameters('Multilayer Perceptron', X_train_balanced_20, y_train_balanced_20)"
   ]
  },
  {
   "cell_type": "markdown",
   "metadata": {},
   "source": [
    "PCA unbalanced (30% fraud)"
   ]
  },
  {
   "cell_type": "code",
   "execution_count": 31,
   "metadata": {},
   "outputs": [
    {
     "name": "stdout",
     "output_type": "stream",
     "text": [
      "Best hyperparameters based on f1 score for Naive Bayes: {'alpha': 0.0001}\n",
      "Best hyperparameters based on f1 score for SVM: {'kernel': 'rbf', 'C': 1000}\n",
      "Best hyperparameters based on f1 score for Random Forest: {'n_estimators': 1000, 'min_samples_split': 10, 'min_samples_leaf': 1, 'max_features': 'auto', 'max_depth': 80, 'criterion': 'entropy'}\n",
      "Best hyperparameters based on f1 score for Multilayer Perceptron: {'solver': 'adam', 'learning_rate': 'constant', 'hidden_layer_sizes': (100,), 'alpha': 0.01, 'activation': 'relu'}\n"
     ]
    }
   ],
   "source": [
    "test_hyperparameters('Naive Bayes', X_train_balanced_30_normalized, y_train_balanced_30)\n",
    "test_hyperparameters('SVM', X_train_balanced_30, y_train_balanced_30)\n",
    "test_hyperparameters('Random Forest', X_train_balanced_30, y_train_balanced_30)\n",
    "test_hyperparameters('Multilayer Perceptron', X_train_balanced_30, y_train_balanced_30)"
   ]
  },
  {
   "cell_type": "markdown",
   "metadata": {},
   "source": [
    "PCA unbalanced (40% fraud)"
   ]
  },
  {
   "cell_type": "code",
   "execution_count": 32,
   "metadata": {},
   "outputs": [
    {
     "name": "stdout",
     "output_type": "stream",
     "text": [
      "Best hyperparameters based on f1 score for Naive Bayes: {'alpha': 0.0001}\n",
      "Best hyperparameters based on f1 score for SVM: {'kernel': 'rbf', 'C': 1000}\n",
      "Best hyperparameters based on f1 score for Random Forest: {'n_estimators': 800, 'min_samples_split': 10, 'min_samples_leaf': 1, 'max_features': 'auto', 'max_depth': None, 'criterion': 'entropy'}\n",
      "Best hyperparameters based on f1 score for Multilayer Perceptron: {'solver': 'adam', 'learning_rate': 'constant', 'hidden_layer_sizes': (500,), 'alpha': 0.01, 'activation': 'relu'}\n"
     ]
    }
   ],
   "source": [
    "test_hyperparameters('Naive Bayes', X_train_balanced_40_normalized, y_train_balanced_40)\n",
    "test_hyperparameters('SVM', X_train_balanced_40, y_train_balanced_40)\n",
    "test_hyperparameters('Random Forest', X_train_balanced_40, y_train_balanced_40)\n",
    "test_hyperparameters('Multilayer Perceptron', X_train_balanced_40, y_train_balanced_40)"
   ]
  },
  {
   "cell_type": "markdown",
   "metadata": {},
   "source": [
    "PCA unbalanced (50% fraud)"
   ]
  },
  {
   "cell_type": "code",
   "execution_count": 33,
   "metadata": {},
   "outputs": [
    {
     "name": "stdout",
     "output_type": "stream",
     "text": [
      "Best hyperparameters based on f1 score for Naive Bayes: {'alpha': 0.0001}\n",
      "Best hyperparameters based on f1 score for SVM: {'kernel': 'rbf', 'C': 1000}\n",
      "Best hyperparameters based on f1 score for Random Forest: {'n_estimators': 800, 'min_samples_split': 10, 'min_samples_leaf': 1, 'max_features': 'auto', 'max_depth': 80, 'criterion': 'gini'}\n",
      "Best hyperparameters based on f1 score for Multilayer Perceptron: {'solver': 'adam', 'learning_rate': 'constant', 'hidden_layer_sizes': (300,), 'alpha': 0.001, 'activation': 'relu'}\n"
     ]
    }
   ],
   "source": [
    "test_hyperparameters('Naive Bayes', X_train_balanced_50_normalized, y_train_balanced_50)\n",
    "test_hyperparameters('SVM', X_train_balanced_50, y_train_balanced_50)\n",
    "test_hyperparameters('Random Forest', X_train_balanced_50, y_train_balanced_50)\n",
    "test_hyperparameters('Multilayer Perceptron', X_train_balanced_50, y_train_balanced_50)"
   ]
  },
  {
   "cell_type": "markdown",
   "metadata": {},
   "source": [
    "##### Classificate (10% fraud)"
   ]
  },
  {
   "cell_type": "markdown",
   "metadata": {},
   "source": [
    "Naive Bayes"
   ]
  },
  {
   "cell_type": "code",
   "execution_count": 34,
   "metadata": {},
   "outputs": [
    {
     "name": "stdout",
     "output_type": "stream",
     "text": [
      "Classification report: \n",
      "              precision    recall  f1-score   support\n",
      "\n",
      "           0       0.99      0.93      0.96       973\n",
      "           1       0.18      0.56      0.27        27\n",
      "\n",
      "    accuracy                           0.92      1000\n",
      "   macro avg       0.58      0.74      0.62      1000\n",
      "weighted avg       0.97      0.92      0.94      1000\n",
      "\n",
      "Confusion Matrix: \n"
     ]
    },
    {
     "data": {
      "image/png": "[encoded data removed]",
      "text/plain": [
       "<Figure size 432x288 with 2 Axes>"
      ]
     },
     "metadata": {
      "needs_background": "light"
     },
     "output_type": "display_data"
    }
   ],
   "source": [
    "nb_clf = MultinomialNB(alpha=0.0001)\n",
    "\n",
    "y_pred = create_classifier(nb_clf, X_train_balanced_10_normalized, y_train_balanced_10, \n",
    "                          X_val_normalized, y_val)\n",
    "\n",
    "print('Confusion Matrix: ')\n",
    "plot_confusion_matrix(nb_clf, X_val_normalized, y_val)"
   ]
  },
  {
   "cell_type": "markdown",
   "metadata": {},
   "source": [
    "Support Vector Machine"
   ]
  },
  {
   "cell_type": "code",
   "execution_count": 35,
   "metadata": {},
   "outputs": [
    {
     "name": "stdout",
     "output_type": "stream",
     "text": [
      "Classification report: \n",
      "              precision    recall  f1-score   support\n",
      "\n",
      "           0       0.98      0.90      0.94       973\n",
      "           1       0.08      0.33      0.13        27\n",
      "\n",
      "    accuracy                           0.88      1000\n",
      "   macro avg       0.53      0.61      0.53      1000\n",
      "weighted avg       0.96      0.88      0.91      1000\n",
      "\n",
      "Confusion Matrix: \n"
     ]
    },
    {
     "data": {
      "image/png": "[encoded data removed]",
      "text/plain": [
       "<Figure size 432x288 with 2 Axes>"
      ]
     },
     "metadata": {
      "needs_background": "light"
     },
     "output_type": "display_data"
    }
   ],
   "source": [
    "svm_clf = SVC(kernel='sigmoid', C=100, random_state=SEED_VAL)\n",
    "\n",
    "y_pred = create_classifier(svm_clf, X_train_balanced_10, y_train_balanced_10, \n",
    "                          X_val, y_val)\n",
    "\n",
    "print('Confusion Matrix: ')\n",
    "plot_confusion_matrix(svm_clf, X_val, y_val)"
   ]
  },
  {
   "cell_type": "markdown",
   "metadata": {},
   "source": [
    "Random Forest"
   ]
  },
  {
   "cell_type": "code",
   "execution_count": 36,
   "metadata": {},
   "outputs": [
    {
     "name": "stdout",
     "output_type": "stream",
     "text": [
      "Classification report: \n",
      "              precision    recall  f1-score   support\n",
      "\n",
      "           0       0.98      1.00      0.99       973\n",
      "           1       1.00      0.15      0.26        27\n",
      "\n",
      "    accuracy                           0.98      1000\n",
      "   macro avg       0.99      0.57      0.62      1000\n",
      "weighted avg       0.98      0.98      0.97      1000\n",
      "\n",
      "Confusion Matrix: \n"
     ]
    },
    {
     "data": {
      "image/png": "[encoded data removed]",
      "text/plain": [
       "<Figure size 432x288 with 2 Axes>"
      ]
     },
     "metadata": {
      "needs_background": "light"
     },
     "output_type": "display_data"
    }
   ],
   "source": [
    "rf_clf = RandomForestClassifier(n_estimators=200, min_samples_split=2, min_samples_leaf=1, max_features='auto', max_depth=20, criterion='entropy', random_state=SEED_VAL)\n",
    "\n",
    "y_pred = create_classifier(rf_clf, X_train_balanced_10, y_train_balanced_10, \n",
    "                          X_val, y_val)\n",
    "\n",
    "print('Confusion Matrix: ')\n",
    "plot_confusion_matrix(rf_clf, X_val, y_val)"
   ]
  },
  {
   "cell_type": "markdown",
   "metadata": {},
   "source": [
    "Multilayer Perceptron"
   ]
  },
  {
   "cell_type": "code",
   "execution_count": 37,
   "metadata": {},
   "outputs": [
    {
     "name": "stdout",
     "output_type": "stream",
     "text": [
      "Classification report: \n",
      "              precision    recall  f1-score   support\n",
      "\n",
      "           0       0.98      0.99      0.98       973\n",
      "           1       0.30      0.11      0.16        27\n",
      "\n",
      "    accuracy                           0.97      1000\n",
      "   macro avg       0.64      0.55      0.57      1000\n",
      "weighted avg       0.96      0.97      0.96      1000\n",
      "\n",
      "Confusion Matrix: \n"
     ]
    },
    {
     "data": {
      "image/png": "[encoded data removed]",
      "text/plain": [
       "<Figure size 432x288 with 2 Axes>"
      ]
     },
     "metadata": {
      "needs_background": "light"
     },
     "output_type": "display_data"
    }
   ],
   "source": [
    "mlp_clf = MLPClassifier(solver='adam', learning_rate='constant', hidden_layer_sizes=(500,), alpha=0.01, activation='relu', random_state=SEED_VAL)\n",
    "\n",
    "y_pred = create_classifier(mlp_clf, X_train_balanced_10, y_train_balanced_10, \n",
    "                          X_val, y_val)\n",
    "\n",
    "print('Confusion Matrix: ')\n",
    "plot_confusion_matrix(mlp_clf, X_val, y_val)"
   ]
  },
  {
   "cell_type": "markdown",
   "metadata": {},
   "source": [
    "##### Classificate (20% fraud)"
   ]
  },
  {
   "cell_type": "markdown",
   "metadata": {},
   "source": [
    "Naive Bayes"
   ]
  },
  {
   "cell_type": "code",
   "execution_count": 38,
   "metadata": {},
   "outputs": [
    {
     "name": "stdout",
     "output_type": "stream",
     "text": [
      "Classification report: \n",
      "              precision    recall  f1-score   support\n",
      "\n",
      "           0       0.99      0.93      0.96       973\n",
      "           1       0.17      0.56      0.27        27\n",
      "\n",
      "    accuracy                           0.92      1000\n",
      "   macro avg       0.58      0.74      0.61      1000\n",
      "weighted avg       0.96      0.92      0.94      1000\n",
      "\n",
      "Confusion Matrix: \n"
     ]
    },
    {
     "data": {
      "image/png": "[encoded data removed]",
      "text/plain": [
       "<Figure size 432x288 with 2 Axes>"
      ]
     },
     "metadata": {
      "needs_background": "light"
     },
     "output_type": "display_data"
    }
   ],
   "source": [
    "nb_clf = MultinomialNB(alpha=0.0001)\n",
    "\n",
    "y_pred = create_classifier(nb_clf, X_train_balanced_20_normalized, y_train_balanced_20, \n",
    "                          X_val_normalized, y_val)\n",
    "\n",
    "print('Confusion Matrix: ')\n",
    "plot_confusion_matrix(nb_clf, X_val_normalized, y_val)"
   ]
  },
  {
   "cell_type": "markdown",
   "metadata": {},
   "source": [
    "Support Vector Machine"
   ]
  },
  {
   "cell_type": "code",
   "execution_count": 39,
   "metadata": {},
   "outputs": [
    {
     "name": "stdout",
     "output_type": "stream",
     "text": [
      "Classification report: \n",
      "              precision    recall  f1-score   support\n",
      "\n",
      "           0       0.97      0.82      0.89       973\n",
      "           1       0.02      0.15      0.04        27\n",
      "\n",
      "    accuracy                           0.80      1000\n",
      "   macro avg       0.50      0.48      0.46      1000\n",
      "weighted avg       0.95      0.80      0.87      1000\n",
      "\n",
      "Confusion Matrix: \n"
     ]
    },
    {
     "data": {
      "image/png": "[encoded data removed]",
      "text/plain": [
       "<Figure size 432x288 with 2 Axes>"
      ]
     },
     "metadata": {
      "needs_background": "light"
     },
     "output_type": "display_data"
    }
   ],
   "source": [
    "svm_clf = SVC(kernel='sigmoid', C=10, random_state=SEED_VAL)\n",
    "\n",
    "y_pred = create_classifier(svm_clf, X_train_balanced_20, y_train_balanced_20, \n",
    "                          X_val, y_val)\n",
    "\n",
    "print('Confusion Matrix: ')\n",
    "plot_confusion_matrix(svm_clf, X_val, y_val)"
   ]
  },
  {
   "cell_type": "markdown",
   "metadata": {},
   "source": [
    "Random Forest"
   ]
  },
  {
   "cell_type": "code",
   "execution_count": 40,
   "metadata": {},
   "outputs": [
    {
     "name": "stdout",
     "output_type": "stream",
     "text": [
      "Classification report: \n",
      "              precision    recall  f1-score   support\n",
      "\n",
      "           0       0.98      1.00      0.99       973\n",
      "           1       1.00      0.22      0.36        27\n",
      "\n",
      "    accuracy                           0.98      1000\n",
      "   macro avg       0.99      0.61      0.68      1000\n",
      "weighted avg       0.98      0.98      0.97      1000\n",
      "\n",
      "Confusion Matrix: \n"
     ]
    },
    {
     "data": {
      "image/png": "[encoded data removed]",
      "text/plain": [
       "<Figure size 432x288 with 2 Axes>"
      ]
     },
     "metadata": {
      "needs_background": "light"
     },
     "output_type": "display_data"
    }
   ],
   "source": [
    "rf_clf = RandomForestClassifier(n_estimators=800, min_samples_split=2, min_samples_leaf=2, max_features='sqrt', max_depth=40, criterion='gini', random_state=SEED_VAL)\n",
    "\n",
    "y_pred = create_classifier(rf_clf, X_train_balanced_20, y_train_balanced_20, \n",
    "                          X_val, y_val)\n",
    "\n",
    "print('Confusion Matrix: ')\n",
    "plot_confusion_matrix(rf_clf, X_val, y_val)"
   ]
  },
  {
   "cell_type": "markdown",
   "metadata": {},
   "source": [
    "Multilayer Perceptron"
   ]
  },
  {
   "cell_type": "code",
   "execution_count": 41,
   "metadata": {},
   "outputs": [
    {
     "name": "stdout",
     "output_type": "stream",
     "text": [
      "Classification report: \n",
      "              precision    recall  f1-score   support\n",
      "\n",
      "           0       0.98      0.97      0.98       973\n",
      "           1       0.21      0.26      0.23        27\n",
      "\n",
      "    accuracy                           0.95      1000\n",
      "   macro avg       0.60      0.62      0.60      1000\n",
      "weighted avg       0.96      0.95      0.96      1000\n",
      "\n",
      "Confusion Matrix: \n"
     ]
    },
    {
     "data": {
      "image/png": "[encoded data removed]",
      "text/plain": [
       "<Figure size 432x288 with 2 Axes>"
      ]
     },
     "metadata": {
      "needs_background": "light"
     },
     "output_type": "display_data"
    }
   ],
   "source": [
    "mlp_clf = MLPClassifier(solver='adam', learning_rate='constant', hidden_layer_sizes=(40,), alpha=0.01, activation='relu', random_state=SEED_VAL)\n",
    "\n",
    "y_pred = create_classifier(mlp_clf, X_train_balanced_20, y_train_balanced_20, \n",
    "                          X_val, y_val)\n",
    "\n",
    "print('Confusion Matrix: ')\n",
    "plot_confusion_matrix(mlp_clf, X_val, y_val)"
   ]
  },
  {
   "cell_type": "markdown",
   "metadata": {},
   "source": [
    "##### Classificate (30% fraud)"
   ]
  },
  {
   "cell_type": "markdown",
   "metadata": {},
   "source": [
    "Naive Bayes"
   ]
  },
  {
   "cell_type": "code",
   "execution_count": 42,
   "metadata": {},
   "outputs": [
    {
     "name": "stdout",
     "output_type": "stream",
     "text": [
      "Classification report: \n",
      "              precision    recall  f1-score   support\n",
      "\n",
      "           0       0.99      0.93      0.96       973\n",
      "           1       0.17      0.56      0.27        27\n",
      "\n",
      "    accuracy                           0.92      1000\n",
      "   macro avg       0.58      0.74      0.61      1000\n",
      "weighted avg       0.96      0.92      0.94      1000\n",
      "\n",
      "Confusion Matrix: \n"
     ]
    },
    {
     "data": {
      "image/png": "[encoded data removed]",
      "text/plain": [
       "<Figure size 432x288 with 2 Axes>"
      ]
     },
     "metadata": {
      "needs_background": "light"
     },
     "output_type": "display_data"
    }
   ],
   "source": [
    "nb_clf = MultinomialNB(alpha=0.0001)\n",
    "\n",
    "y_pred = create_classifier(nb_clf, X_train_balanced_30_normalized, y_train_balanced_30, \n",
    "                          X_val_normalized, y_val)\n",
    "\n",
    "print('Confusion Matrix: ')\n",
    "plot_confusion_matrix(nb_clf, X_val_normalized, y_val)"
   ]
  },
  {
   "cell_type": "markdown",
   "metadata": {},
   "source": [
    "Support Vector Machine"
   ]
  },
  {
   "cell_type": "code",
   "execution_count": 43,
   "metadata": {},
   "outputs": [
    {
     "name": "stdout",
     "output_type": "stream",
     "text": [
      "Classification report: \n",
      "              precision    recall  f1-score   support\n",
      "\n",
      "           0       0.97      0.78      0.87       973\n",
      "           1       0.03      0.26      0.06        27\n",
      "\n",
      "    accuracy                           0.77      1000\n",
      "   macro avg       0.50      0.52      0.46      1000\n",
      "weighted avg       0.95      0.77      0.85      1000\n",
      "\n",
      "Confusion Matrix: \n"
     ]
    },
    {
     "data": {
      "image/png": "[encoded data removed]",
      "text/plain": [
       "<Figure size 432x288 with 2 Axes>"
      ]
     },
     "metadata": {
      "needs_background": "light"
     },
     "output_type": "display_data"
    }
   ],
   "source": [
    "svm_clf = SVC(kernel='sigmoid', C=1, random_state=SEED_VAL)\n",
    "\n",
    "y_pred = create_classifier(svm_clf, X_train_balanced_30, y_train_balanced_30, \n",
    "                          X_val, y_val)\n",
    "\n",
    "print('Confusion Matrix: ')\n",
    "plot_confusion_matrix(svm_clf, X_val, y_val)"
   ]
  },
  {
   "cell_type": "markdown",
   "metadata": {},
   "source": [
    "Random Forest"
   ]
  },
  {
   "cell_type": "code",
   "execution_count": 44,
   "metadata": {},
   "outputs": [
    {
     "name": "stdout",
     "output_type": "stream",
     "text": [
      "Classification report: \n",
      "              precision    recall  f1-score   support\n",
      "\n",
      "           0       0.98      1.00      0.99       973\n",
      "           1       1.00      0.15      0.26        27\n",
      "\n",
      "    accuracy                           0.98      1000\n",
      "   macro avg       0.99      0.57      0.62      1000\n",
      "weighted avg       0.98      0.98      0.97      1000\n",
      "\n",
      "Confusion Matrix: \n"
     ]
    },
    {
     "data": {
      "image/png": "[encoded data removed]",
      "text/plain": [
       "<Figure size 432x288 with 2 Axes>"
      ]
     },
     "metadata": {
      "needs_background": "light"
     },
     "output_type": "display_data"
    }
   ],
   "source": [
    "rf_clf = RandomForestClassifier(n_estimators=800, min_samples_split=5, min_samples_leaf=1, max_features='auto', max_depth=60, criterion='gini', random_state=SEED_VAL)\n",
    "\n",
    "y_pred = create_classifier(rf_clf, X_train_balanced_30, y_train_balanced_30, \n",
    "                          X_val, y_val)\n",
    "\n",
    "print('Confusion Matrix: ')\n",
    "plot_confusion_matrix(rf_clf, X_val, y_val)"
   ]
  },
  {
   "cell_type": "markdown",
   "metadata": {},
   "source": [
    "Multilayer Perceptron"
   ]
  },
  {
   "cell_type": "code",
   "execution_count": 45,
   "metadata": {},
   "outputs": [
    {
     "name": "stdout",
     "output_type": "stream",
     "text": [
      "Classification report: \n",
      "              precision    recall  f1-score   support\n",
      "\n",
      "           0       0.99      0.95      0.97       973\n",
      "           1       0.22      0.48      0.31        27\n",
      "\n",
      "    accuracy                           0.94      1000\n",
      "   macro avg       0.60      0.72      0.64      1000\n",
      "weighted avg       0.96      0.94      0.95      1000\n",
      "\n",
      "Confusion Matrix: \n"
     ]
    },
    {
     "data": {
      "image/png": "[encoded data removed]",
      "text/plain": [
       "<Figure size 432x288 with 2 Axes>"
      ]
     },
     "metadata": {
      "needs_background": "light"
     },
     "output_type": "display_data"
    }
   ],
   "source": [
    "mlp_clf = MLPClassifier(solver='adam', learning_rate='constant', hidden_layer_sizes=(300,), alpha=0.1, activation='relu', random_state=SEED_VAL)\n",
    "\n",
    "y_pred = create_classifier(mlp_clf, X_train_balanced_30, y_train_balanced_30, \n",
    "                          X_val, y_val)\n",
    "\n",
    "print('Confusion Matrix: ')\n",
    "plot_confusion_matrix(mlp_clf, X_val, y_val)"
   ]
  },
  {
   "cell_type": "markdown",
   "metadata": {},
   "source": [
    "##### Classificate (40% fraud)"
   ]
  },
  {
   "cell_type": "markdown",
   "metadata": {},
   "source": [
    "Naive Bayes"
   ]
  },
  {
   "cell_type": "code",
   "execution_count": 46,
   "metadata": {},
   "outputs": [
    {
     "name": "stdout",
     "output_type": "stream",
     "text": [
      "Classification report: \n",
      "              precision    recall  f1-score   support\n",
      "\n",
      "           0       0.99      0.93      0.96       973\n",
      "           1       0.17      0.56      0.26        27\n",
      "\n",
      "    accuracy                           0.92      1000\n",
      "   macro avg       0.58      0.74      0.61      1000\n",
      "weighted avg       0.96      0.92      0.94      1000\n",
      "\n",
      "Confusion Matrix: \n"
     ]
    },
    {
     "data": {
      "image/png": "[encoded data removed]",
      "text/plain": [
       "<Figure size 432x288 with 2 Axes>"
      ]
     },
     "metadata": {
      "needs_background": "light"
     },
     "output_type": "display_data"
    }
   ],
   "source": [
    "nb_clf = MultinomialNB(alpha=0.0001)\n",
    "\n",
    "y_pred = create_classifier(nb_clf, X_train_balanced_40_normalized, y_train_balanced_40, \n",
    "                          X_val_normalized, y_val)\n",
    "\n",
    "print('Confusion Matrix: ')\n",
    "plot_confusion_matrix(nb_clf, X_val_normalized, y_val)"
   ]
  },
  {
   "cell_type": "markdown",
   "metadata": {},
   "source": [
    "Support Vector Machine"
   ]
  },
  {
   "cell_type": "code",
   "execution_count": 21,
   "metadata": {},
   "outputs": [
    {
     "name": "stdout",
     "output_type": "stream",
     "text": [
      "Classification report: \n",
      "              precision    recall  f1-score   support\n",
      "\n",
      "           0       0.98      0.98      0.98       973\n",
      "           1       0.15      0.15      0.15        27\n",
      "\n",
      "    accuracy                           0.95      1000\n",
      "   macro avg       0.57      0.56      0.56      1000\n",
      "weighted avg       0.95      0.95      0.95      1000\n",
      "\n",
      "Confusion Matrix: \n"
     ]
    },
    {
     "data": {
      "image/png": "[encoded data removed]",
      "text/plain": [
       "<Figure size 432x288 with 2 Axes>"
      ]
     },
     "metadata": {
      "needs_background": "light"
     },
     "output_type": "display_data"
    }
   ],
   "source": [
    "svm_clf = SVC(kernel='rbf', C=1000, random_state=SEED_VAL)\n",
    "\n",
    "y_pred = create_classifier(svm_clf, X_train_balanced_40, y_train_balanced_40, \n",
    "                          X_val, y_val)\n",
    "\n",
    "print('Confusion Matrix: ')\n",
    "plot_confusion_matrix(svm_clf, X_val, y_val)"
   ]
  },
  {
   "cell_type": "markdown",
   "metadata": {},
   "source": [
    "Random Forest"
   ]
  },
  {
   "cell_type": "code",
   "execution_count": 22,
   "metadata": {},
   "outputs": [
    {
     "name": "stdout",
     "output_type": "stream",
     "text": [
      "Classification report: \n",
      "              precision    recall  f1-score   support\n",
      "\n",
      "           0       0.98      1.00      0.99       973\n",
      "           1       1.00      0.15      0.26        27\n",
      "\n",
      "    accuracy                           0.98      1000\n",
      "   macro avg       0.99      0.57      0.62      1000\n",
      "weighted avg       0.98      0.98      0.97      1000\n",
      "\n",
      "Confusion Matrix: \n"
     ]
    },
    {
     "data": {
      "image/png": "[encoded data removed]",
      "text/plain": [
       "<Figure size 432x288 with 2 Axes>"
      ]
     },
     "metadata": {
      "needs_background": "light"
     },
     "output_type": "display_data"
    }
   ],
   "source": [
    "rf_clf = RandomForestClassifier(n_estimators=800, min_samples_split=10, min_samples_leaf=1, max_features='auto', max_depth=None, criterion='entropy', random_state=SEED_VAL)\n",
    "\n",
    "y_pred = create_classifier(rf_clf, X_train_balanced_40, y_train_balanced_40, \n",
    "                          X_val, y_val)\n",
    "\n",
    "print('Confusion Matrix: ')\n",
    "plot_confusion_matrix(rf_clf, X_val, y_val)"
   ]
  },
  {
   "cell_type": "markdown",
   "metadata": {},
   "source": [
    "Multilayer Perceptron"
   ]
  },
  {
   "cell_type": "code",
   "execution_count": 25,
   "metadata": {},
   "outputs": [
    {
     "name": "stdout",
     "output_type": "stream",
     "text": [
      "Classification report: \n",
      "              precision    recall  f1-score   support\n",
      "\n",
      "           0       0.98      0.98      0.98       973\n",
      "           1       0.17      0.15      0.16        27\n",
      "\n",
      "    accuracy                           0.96      1000\n",
      "   macro avg       0.58      0.56      0.57      1000\n",
      "weighted avg       0.95      0.96      0.96      1000\n",
      "\n",
      "Confusion Matrix: \n"
     ]
    },
    {
     "data": {
      "image/png": "[encoded data removed]",
      "text/plain": [
       "<Figure size 432x288 with 2 Axes>"
      ]
     },
     "metadata": {
      "needs_background": "light"
     },
     "output_type": "display_data"
    }
   ],
   "source": [
    "mlp_clf = MLPClassifier(solver='adam', learning_rate='constant', hidden_layer_sizes=(500,), alpha=0.01, activation='relu', random_state=SEED_VAL)\n",
    "\n",
    "y_pred = create_classifier(mlp_clf, X_train_balanced_40, y_train_balanced_40, \n",
    "                          X_val, y_val)\n",
    "\n",
    "print('Confusion Matrix: ')\n",
    "plot_confusion_matrix(mlp_clf, X_val, y_val)"
   ]
  },
  {
   "cell_type": "markdown",
   "metadata": {},
   "source": [
    "##### Classificate (50% fraud)"
   ]
  },
  {
   "cell_type": "markdown",
   "metadata": {},
   "source": [
    "Naive Bayes"
   ]
  },
  {
   "cell_type": "code",
   "execution_count": 26,
   "metadata": {},
   "outputs": [
    {
     "name": "stdout",
     "output_type": "stream",
     "text": [
      "Classification report: \n",
      "              precision    recall  f1-score   support\n",
      "\n",
      "           0       0.99      0.93      0.96       973\n",
      "           1       0.18      0.56      0.27        27\n",
      "\n",
      "    accuracy                           0.92      1000\n",
      "   macro avg       0.58      0.74      0.61      1000\n",
      "weighted avg       0.97      0.92      0.94      1000\n",
      "\n",
      "Confusion Matrix: \n"
     ]
    },
    {
     "data": {
      "image/png": "[encoded data removed]",
      "text/plain": [
       "<Figure size 432x288 with 2 Axes>"
      ]
     },
     "metadata": {
      "needs_background": "light"
     },
     "output_type": "display_data"
    }
   ],
   "source": [
    "nb_clf = MultinomialNB(alpha=0.0001)\n",
    "\n",
    "y_pred = create_classifier(nb_clf, X_train_balanced_50_normalized, y_train_balanced_50, \n",
    "                          X_val_normalized, y_val)\n",
    "\n",
    "print('Confusion Matrix: ')\n",
    "plot_confusion_matrix(nb_clf, X_val_normalized, y_val)"
   ]
  },
  {
   "cell_type": "markdown",
   "metadata": {},
   "source": [
    "Support Vector Machine"
   ]
  },
  {
   "cell_type": "code",
   "execution_count": 27,
   "metadata": {},
   "outputs": [
    {
     "name": "stdout",
     "output_type": "stream",
     "text": [
      "Classification report: \n",
      "              precision    recall  f1-score   support\n",
      "\n",
      "           0       0.99      0.70      0.82       973\n",
      "           1       0.05      0.63      0.10        27\n",
      "\n",
      "    accuracy                           0.69      1000\n",
      "   macro avg       0.52      0.66      0.46      1000\n",
      "weighted avg       0.96      0.69      0.80      1000\n",
      "\n",
      "Confusion Matrix: \n"
     ]
    },
    {
     "data": {
      "image/png": "[encoded data removed]",
      "text/plain": [
       "<Figure size 432x288 with 2 Axes>"
      ]
     },
     "metadata": {
      "needs_background": "light"
     },
     "output_type": "display_data"
    }
   ],
   "source": [
    "svm_clf = SVC(kernel='rbf', C=1000, random_state=SEED_VAL)\n",
    "\n",
    "y_pred = create_classifier(svm_clf, X_train_balanced_50, y_train_balanced_50, \n",
    "                          X_val, y_val)\n",
    "\n",
    "print('Confusion Matrix: ')\n",
    "plot_confusion_matrix(svm_clf, X_val, y_val)"
   ]
  },
  {
   "cell_type": "markdown",
   "metadata": {},
   "source": [
    "Random Forest"
   ]
  },
  {
   "cell_type": "code",
   "execution_count": 28,
   "metadata": {},
   "outputs": [
    {
     "name": "stdout",
     "output_type": "stream",
     "text": [
      "Classification report: \n",
      "              precision    recall  f1-score   support\n",
      "\n",
      "           0       0.98      1.00      0.99       973\n",
      "           1       1.00      0.15      0.26        27\n",
      "\n",
      "    accuracy                           0.98      1000\n",
      "   macro avg       0.99      0.57      0.62      1000\n",
      "weighted avg       0.98      0.98      0.97      1000\n",
      "\n",
      "Confusion Matrix: \n"
     ]
    },
    {
     "data": {
      "image/png": "[encoded data removed]",
      "text/plain": [
       "<Figure size 432x288 with 2 Axes>"
      ]
     },
     "metadata": {
      "needs_background": "light"
     },
     "output_type": "display_data"
    }
   ],
   "source": [
    "rf_clf = RandomForestClassifier(n_estimators=800, min_samples_split=10, min_samples_leaf=1, max_features='auto', max_depth=80, criterion='gini', random_state=SEED_VAL)\n",
    "\n",
    "y_pred = create_classifier(rf_clf, X_train_balanced_50, y_train_balanced_50, \n",
    "                          X_val, y_val)\n",
    "\n",
    "print('Confusion Matrix: ')\n",
    "plot_confusion_matrix(rf_clf, X_val, y_val)"
   ]
  },
  {
   "cell_type": "markdown",
   "metadata": {},
   "source": [
    "Multilayer Perceptron"
   ]
  },
  {
   "cell_type": "code",
   "execution_count": 91,
   "metadata": {},
   "outputs": [
    {
     "name": "stdout",
     "output_type": "stream",
     "text": [
      "Classification report: \n",
      "              precision    recall  f1-score   support\n",
      "\n",
      "           0       0.98      0.99      0.98       973\n",
      "           1       0.20      0.11      0.14        27\n",
      "\n",
      "    accuracy                           0.96      1000\n",
      "   macro avg       0.59      0.55      0.56      1000\n",
      "weighted avg       0.95      0.96      0.96      1000\n",
      "\n",
      "Confusion Matrix: \n"
     ]
    },
    {
     "data": {
      "image/png": "[encoded data removed]",
      "text/plain": [
       "<Figure size 432x288 with 2 Axes>"
      ]
     },
     "metadata": {
      "needs_background": "light"
     },
     "output_type": "display_data"
    }
   ],
   "source": [
    "mlp_clf = MLPClassifier(solver='adam', learning_rate='constant', hidden_layer_sizes=(300,), alpha=0.0001, activation='relu', random_state=SEED_VAL)\n",
    "\n",
    "y_pred = create_classifier(mlp_clf, X_train_balanced_50, y_train_balanced_50, \n",
    "                          X_val, y_val)\n",
    "\n",
    "print('Confusion Matrix: ')\n",
    "plot_confusion_matrix(mlp_clf, X_val, y_val)"
   ]
  },
  {
   "cell_type": "markdown",
   "metadata": {},
   "source": [
    "#### Classification - undersampling data"
   ]
  },
  {
   "cell_type": "markdown",
   "metadata": {},
   "source": [
    "##### Test Hyperparameters"
   ]
  },
  {
   "cell_type": "markdown",
   "metadata": {},
   "source": [
    "PCA unbalanced (10% fraud)"
   ]
  },
  {
   "cell_type": "code",
   "execution_count": 54,
   "metadata": {},
   "outputs": [
    {
     "name": "stdout",
     "output_type": "stream",
     "text": [
      "Best hyperparameters based on f1 score for Naive Bayes: {'alpha': 1}\n",
      "Best hyperparameters based on f1 score for SVM: {'kernel': 'poly', 'C': 1000}\n",
      "Best hyperparameters based on f1 score for Random Forest: {'n_estimators': 200, 'min_samples_split': 2, 'min_samples_leaf': 1, 'max_features': 'auto', 'max_depth': 20, 'criterion': 'entropy'}\n",
      "Best hyperparameters based on f1 score for Multilayer Perceptron: {'solver': 'adam', 'learning_rate': 'constant', 'hidden_layer_sizes': (500,), 'alpha': 0.01, 'activation': 'relu'}\n"
     ]
    }
   ],
   "source": [
    "test_hyperparameters('Naive Bayes', X_train_balanced_us_10_normalized, y_train_balanced_us_10)\n",
    "test_hyperparameters('SVM', X_train_balanced_us_10, y_train_balanced_us_10)\n",
    "test_hyperparameters('Random Forest', X_train_balanced_us_10, y_train_balanced_us_10)\n",
    "test_hyperparameters('Multilayer Perceptron', X_train_balanced_us_10, y_train_balanced_us_10)"
   ]
  },
  {
   "cell_type": "markdown",
   "metadata": {},
   "source": [
    "PCA unbalanced (20% fraud)"
   ]
  },
  {
   "cell_type": "code",
   "execution_count": 55,
   "metadata": {},
   "outputs": [
    {
     "name": "stdout",
     "output_type": "stream",
     "text": [
      "Best hyperparameters based on f1 score for Naive Bayes: {'alpha': 0.0001}\n",
      "Best hyperparameters based on f1 score for SVM: {'kernel': 'poly', 'C': 1000}\n",
      "Best hyperparameters based on f1 score for Random Forest: {'n_estimators': 200, 'min_samples_split': 10, 'min_samples_leaf': 2, 'max_features': 'auto', 'max_depth': 100, 'criterion': 'entropy'}\n",
      "Best hyperparameters based on f1 score for Multilayer Perceptron: {'solver': 'adam', 'learning_rate': 'constant', 'hidden_layer_sizes': (10,), 'alpha': 0.001, 'activation': 'relu'}\n"
     ]
    }
   ],
   "source": [
    "test_hyperparameters('Naive Bayes', X_train_balanced_us_20_normalized, y_train_balanced_us_20)\n",
    "test_hyperparameters('SVM', X_train_balanced_us_20, y_train_balanced_us_20)\n",
    "test_hyperparameters('Random Forest', X_train_balanced_us_20, y_train_balanced_us_20)\n",
    "test_hyperparameters('Multilayer Perceptron', X_train_balanced_us_20, y_train_balanced_us_20)"
   ]
  },
  {
   "cell_type": "markdown",
   "metadata": {},
   "source": [
    "PCA unbalanced (30% fraud)"
   ]
  },
  {
   "cell_type": "code",
   "execution_count": 56,
   "metadata": {},
   "outputs": [
    {
     "name": "stdout",
     "output_type": "stream",
     "text": [
      "Best hyperparameters based on f1 score for Naive Bayes: {'alpha': 1}\n",
      "Best hyperparameters based on f1 score for SVM: {'kernel': 'poly', 'C': 1000}\n",
      "Best hyperparameters based on f1 score for Random Forest: {'n_estimators': 800, 'min_samples_split': 5, 'min_samples_leaf': 1, 'max_features': 'auto', 'max_depth': 60, 'criterion': 'gini'}\n",
      "Best hyperparameters based on f1 score for Multilayer Perceptron: {'solver': 'adam', 'learning_rate': 'constant', 'hidden_layer_sizes': (300,), 'alpha': 0.1, 'activation': 'relu'}\n"
     ]
    }
   ],
   "source": [
    "test_hyperparameters('Naive Bayes', X_train_balanced_us_30_normalized, y_train_balanced_us_30)\n",
    "test_hyperparameters('SVM', X_train_balanced_us_30, y_train_balanced_us_30)\n",
    "test_hyperparameters('Random Forest', X_train_balanced_us_30, y_train_balanced_us_30)\n",
    "test_hyperparameters('Multilayer Perceptron', X_train_balanced_us_30, y_train_balanced_us_30)"
   ]
  },
  {
   "cell_type": "markdown",
   "metadata": {},
   "source": [
    "PCA unbalanced (40% fraud)"
   ]
  },
  {
   "cell_type": "code",
   "execution_count": 57,
   "metadata": {},
   "outputs": [
    {
     "name": "stdout",
     "output_type": "stream",
     "text": [
      "Best hyperparameters based on f1 score for Naive Bayes: {'alpha': 0.1}\n",
      "Best hyperparameters based on f1 score for SVM: {'kernel': 'sigmoid', 'C': 1000}\n",
      "Best hyperparameters based on f1 score for Random Forest: {'n_estimators': 1000, 'min_samples_split': 5, 'min_samples_leaf': 2, 'max_features': 'auto', 'max_depth': 100, 'criterion': 'gini'}\n",
      "Best hyperparameters based on f1 score for Multilayer Perceptron: {'solver': 'adam', 'learning_rate': 'constant', 'hidden_layer_sizes': (40,), 'alpha': 0.1, 'activation': 'relu'}\n"
     ]
    }
   ],
   "source": [
    "test_hyperparameters('Naive Bayes', X_train_balanced_us_40_normalized, y_train_balanced_us_40)\n",
    "test_hyperparameters('SVM', X_train_balanced_us_40, y_train_balanced_us_40)\n",
    "test_hyperparameters('Random Forest', X_train_balanced_us_40, y_train_balanced_us_40)\n",
    "test_hyperparameters('Multilayer Perceptron', X_train_balanced_us_40, y_train_balanced_us_40)"
   ]
  },
  {
   "cell_type": "markdown",
   "metadata": {},
   "source": [
    "PCA unbalanced (50% fraud)"
   ]
  },
  {
   "cell_type": "code",
   "execution_count": 58,
   "metadata": {},
   "outputs": [
    {
     "name": "stdout",
     "output_type": "stream",
     "text": [
      "Best hyperparameters based on f1 score for Naive Bayes: {'alpha': 0.01}\n",
      "Best hyperparameters based on f1 score for SVM: {'kernel': 'poly', 'C': 1000}\n",
      "Best hyperparameters based on f1 score for Random Forest: {'n_estimators': 800, 'min_samples_split': 5, 'min_samples_leaf': 2, 'max_features': 'sqrt', 'max_depth': 100, 'criterion': 'entropy'}\n",
      "Best hyperparameters based on f1 score for Multilayer Perceptron: {'solver': 'adam', 'learning_rate': 'constant', 'hidden_layer_sizes': (300,), 'alpha': 0.0001, 'activation': 'relu'}\n"
     ]
    }
   ],
   "source": [
    "test_hyperparameters('Naive Bayes', X_train_balanced_us_50_normalized, y_train_balanced_us_50)\n",
    "test_hyperparameters('SVM', X_train_balanced_us_50, y_train_balanced_us_50)\n",
    "test_hyperparameters('Random Forest', X_train_balanced_us_50, y_train_balanced_us_50)\n",
    "test_hyperparameters('Multilayer Perceptron', X_train_balanced_us_50, y_train_balanced_us_50)"
   ]
  },
  {
   "cell_type": "markdown",
   "metadata": {},
   "source": [
    "##### Classificate (10% fraud)"
   ]
  },
  {
   "cell_type": "markdown",
   "metadata": {},
   "source": [
    "Naive Bayes"
   ]
  },
  {
   "cell_type": "code",
   "execution_count": 59,
   "metadata": {},
   "outputs": [
    {
     "name": "stdout",
     "output_type": "stream",
     "text": [
      "Classification report: \n",
      "              precision    recall  f1-score   support\n",
      "\n",
      "           0       0.98      0.91      0.95       973\n",
      "           1       0.09      0.30      0.13        27\n",
      "\n",
      "    accuracy                           0.90      1000\n",
      "   macro avg       0.53      0.60      0.54      1000\n",
      "weighted avg       0.95      0.90      0.92      1000\n",
      "\n",
      "Confusion Matrix: \n"
     ]
    },
    {
     "data": {
      "image/png": "[encoded data removed]",
      "text/plain": [
       "<Figure size 432x288 with 2 Axes>"
      ]
     },
     "metadata": {
      "needs_background": "light"
     },
     "output_type": "display_data"
    }
   ],
   "source": [
    "nb_clf = MultinomialNB(alpha=1)\n",
    "\n",
    "y_pred = create_classifier(nb_clf, X_train_balanced_us_10_normalized, y_train_balanced_us_10, \n",
    "                          X_val_normalized, y_val)\n",
    "\n",
    "print('Confusion Matrix: ')\n",
    "plot_confusion_matrix(nb_clf, X_val_normalized, y_val) "
   ]
  },
  {
   "cell_type": "markdown",
   "metadata": {},
   "source": [
    "Support Vector Machine"
   ]
  },
  {
   "cell_type": "code",
   "execution_count": 31,
   "metadata": {},
   "outputs": [
    {
     "name": "stdout",
     "output_type": "stream",
     "text": [
      "Classification report: \n",
      "              precision    recall  f1-score   support\n",
      "\n",
      "           0       0.98      0.90      0.94       973\n",
      "           1       0.09      0.37      0.15        27\n",
      "\n",
      "    accuracy                           0.88      1000\n",
      "   macro avg       0.54      0.63      0.54      1000\n",
      "weighted avg       0.96      0.88      0.92      1000\n",
      "\n",
      "Confusion Matrix: \n"
     ]
    },
    {
     "data": {
      "image/png": "[encoded data removed]",
      "text/plain": [
       "<Figure size 432x288 with 2 Axes>"
      ]
     },
     "metadata": {
      "needs_background": "light"
     },
     "output_type": "display_data"
    }
   ],
   "source": [
    "svm_clf = SVC(kernel='sigmoid', C=100, random_state=SEED_VAL)\n",
    "\n",
    "y_pred = create_classifier(svm_clf, X_train_balanced_us_10, y_train_balanced_us_10, \n",
    "                          X_val, y_val)\n",
    "\n",
    "print('Confusion Matrix: ')\n",
    "plot_confusion_matrix(svm_clf, X_val, y_val)"
   ]
  },
  {
   "cell_type": "markdown",
   "metadata": {},
   "source": [
    "Random Forest"
   ]
  },
  {
   "cell_type": "code",
   "execution_count": 33,
   "metadata": {},
   "outputs": [
    {
     "name": "stdout",
     "output_type": "stream",
     "text": [
      "Classification report: \n",
      "              precision    recall  f1-score   support\n",
      "\n",
      "           0       0.98      0.99      0.99       973\n",
      "           1       0.44      0.15      0.22        27\n",
      "\n",
      "    accuracy                           0.97      1000\n",
      "   macro avg       0.71      0.57      0.60      1000\n",
      "weighted avg       0.96      0.97      0.97      1000\n",
      "\n",
      "Confusion Matrix: \n"
     ]
    },
    {
     "data": {
      "image/png": "[encoded data removed]",
      "text/plain": [
       "<Figure size 432x288 with 2 Axes>"
      ]
     },
     "metadata": {
      "needs_background": "light"
     },
     "output_type": "display_data"
    }
   ],
   "source": [
    "rf_clf = RandomForestClassifier(n_estimators=200, min_samples_split=2, min_samples_leaf=1, max_features='auto', max_depth=20, criterion='entropy', random_state=SEED_VAL)\n",
    "\n",
    "y_pred = create_classifier(rf_clf, X_train_balanced_us_10, y_train_balanced_us_10, \n",
    "                          X_val, y_val)\n",
    "\n",
    "print('Confusion Matrix: ')\n",
    "plot_confusion_matrix(rf_clf, X_val, y_val)"
   ]
  },
  {
   "cell_type": "markdown",
   "metadata": {},
   "source": [
    "Multilayer Perceptron"
   ]
  },
  {
   "cell_type": "code",
   "execution_count": 34,
   "metadata": {},
   "outputs": [
    {
     "name": "stdout",
     "output_type": "stream",
     "text": [
      "Classification report: \n",
      "              precision    recall  f1-score   support\n",
      "\n",
      "           0       0.97      0.99      0.98       973\n",
      "           1       0.14      0.07      0.10        27\n",
      "\n",
      "    accuracy                           0.96      1000\n",
      "   macro avg       0.56      0.53      0.54      1000\n",
      "weighted avg       0.95      0.96      0.96      1000\n",
      "\n",
      "Confusion Matrix: \n"
     ]
    },
    {
     "data": {
      "image/png": "[encoded data removed]",
      "text/plain": [
       "<Figure size 432x288 with 2 Axes>"
      ]
     },
     "metadata": {
      "needs_background": "light"
     },
     "output_type": "display_data"
    }
   ],
   "source": [
    "mlp_clf = MLPClassifier(solver='adam', learning_rate='constant', hidden_layer_sizes=(300,), alpha=0.0001, activation='relu', random_state=SEED_VAL)\n",
    "\n",
    "y_pred = create_classifier(mlp_clf, X_train_balanced_us_10, y_train_balanced_us_10, \n",
    "                          X_val, y_val)\n",
    "\n",
    "print('Confusion Matrix: ')\n",
    "plot_confusion_matrix(mlp_clf, X_val, y_val)"
   ]
  },
  {
   "cell_type": "markdown",
   "metadata": {},
   "source": [
    "##### Classificate (20% fraud)"
   ]
  },
  {
   "cell_type": "markdown",
   "metadata": {},
   "source": [
    "Naive Bayes"
   ]
  },
  {
   "cell_type": "code",
   "execution_count": 63,
   "metadata": {},
   "outputs": [
    {
     "name": "stdout",
     "output_type": "stream",
     "text": [
      "Classification report: \n",
      "              precision    recall  f1-score   support\n",
      "\n",
      "           0       0.99      0.88      0.93       973\n",
      "           1       0.11      0.56      0.19        27\n",
      "\n",
      "    accuracy                           0.87      1000\n",
      "   macro avg       0.55      0.72      0.56      1000\n",
      "weighted avg       0.96      0.87      0.91      1000\n",
      "\n",
      "Confusion Matrix: \n"
     ]
    },
    {
     "data": {
      "image/png": "[encoded data removed]",
      "text/plain": [
       "<Figure size 432x288 with 2 Axes>"
      ]
     },
     "metadata": {
      "needs_background": "light"
     },
     "output_type": "display_data"
    }
   ],
   "source": [
    "nb_clf = MultinomialNB(alpha=0.0001)\n",
    "\n",
    "y_pred = create_classifier(nb_clf, X_train_balanced_us_20_normalized, y_train_balanced_us_20, \n",
    "                          X_val_normalized, y_val)\n",
    "\n",
    "print('Confusion Matrix: ')\n",
    "plot_confusion_matrix(nb_clf, X_val_normalized, y_val)"
   ]
  },
  {
   "cell_type": "markdown",
   "metadata": {},
   "source": [
    "Support Vector Machine"
   ]
  },
  {
   "cell_type": "code",
   "execution_count": 36,
   "metadata": {},
   "outputs": [
    {
     "name": "stdout",
     "output_type": "stream",
     "text": [
      "Classification report: \n",
      "              precision    recall  f1-score   support\n",
      "\n",
      "           0       0.98      0.77      0.87       973\n",
      "           1       0.06      0.52      0.11        27\n",
      "\n",
      "    accuracy                           0.77      1000\n",
      "   macro avg       0.52      0.65      0.49      1000\n",
      "weighted avg       0.96      0.77      0.84      1000\n",
      "\n",
      "Confusion Matrix: \n"
     ]
    },
    {
     "data": {
      "image/png": "[encoded data removed]",
      "text/plain": [
       "<Figure size 432x288 with 2 Axes>"
      ]
     },
     "metadata": {
      "needs_background": "light"
     },
     "output_type": "display_data"
    }
   ],
   "source": [
    "svm_clf = SVC(kernel='sigmoid', C=1000, random_state=SEED_VAL)\n",
    "\n",
    "y_pred = create_classifier(svm_clf, X_train_balanced_us_20, y_train_balanced_us_20, \n",
    "                          X_val, y_val)\n",
    "\n",
    "print('Confusion Matrix: ')\n",
    "plot_confusion_matrix(svm_clf, X_val, y_val)"
   ]
  },
  {
   "cell_type": "markdown",
   "metadata": {},
   "source": [
    "Random Forest"
   ]
  },
  {
   "cell_type": "code",
   "execution_count": 38,
   "metadata": {},
   "outputs": [
    {
     "name": "stdout",
     "output_type": "stream",
     "text": [
      "Classification report: \n",
      "              precision    recall  f1-score   support\n",
      "\n",
      "           0       0.98      0.98      0.98       973\n",
      "           1       0.31      0.30      0.30        27\n",
      "\n",
      "    accuracy                           0.96      1000\n",
      "   macro avg       0.64      0.64      0.64      1000\n",
      "weighted avg       0.96      0.96      0.96      1000\n",
      "\n",
      "Confusion Matrix: \n"
     ]
    },
    {
     "data": {
      "image/png": "[encoded data removed]",
      "text/plain": [
       "<Figure size 432x288 with 2 Axes>"
      ]
     },
     "metadata": {
      "needs_background": "light"
     },
     "output_type": "display_data"
    }
   ],
   "source": [
    "rf_clf = RandomForestClassifier(n_estimators=600, min_samples_split=2, min_samples_leaf=1, max_features='sqrt', max_depth=60, criterion='gini', random_state=SEED_VAL)\n",
    "\n",
    "y_pred = create_classifier(rf_clf, X_train_balanced_us_20, y_train_balanced_us_20, \n",
    "                          X_val, y_val)\n",
    "\n",
    "print('Confusion Matrix: ')\n",
    "plot_confusion_matrix(rf_clf, X_val, y_val)"
   ]
  },
  {
   "cell_type": "markdown",
   "metadata": {},
   "source": [
    "Multilayer Perceptron"
   ]
  },
  {
   "cell_type": "code",
   "execution_count": 39,
   "metadata": {},
   "outputs": [
    {
     "name": "stdout",
     "output_type": "stream",
     "text": [
      "Classification report: \n",
      "              precision    recall  f1-score   support\n",
      "\n",
      "           0       0.98      0.95      0.96       973\n",
      "           1       0.12      0.26      0.16        27\n",
      "\n",
      "    accuracy                           0.93      1000\n",
      "   macro avg       0.55      0.60      0.56      1000\n",
      "weighted avg       0.96      0.93      0.94      1000\n",
      "\n",
      "Confusion Matrix: \n"
     ]
    },
    {
     "data": {
      "image/png": "[encoded data removed]",
      "text/plain": [
       "<Figure size 432x288 with 2 Axes>"
      ]
     },
     "metadata": {
      "needs_background": "light"
     },
     "output_type": "display_data"
    }
   ],
   "source": [
    "mlp_clf = MLPClassifier(solver='adam', learning_rate='constant', hidden_layer_sizes=(10,), alpha=0.001, activation='relu', random_state=SEED_VAL)\n",
    "\n",
    "y_pred = create_classifier(mlp_clf, X_train_balanced_us_20, y_train_balanced_us_20, \n",
    "                          X_val, y_val)\n",
    "\n",
    "print('Confusion Matrix: ')\n",
    "plot_confusion_matrix(mlp_clf, X_val, y_val)"
   ]
  },
  {
   "cell_type": "markdown",
   "metadata": {},
   "source": [
    "##### Classificate (30% fraud)"
   ]
  },
  {
   "cell_type": "markdown",
   "metadata": {},
   "source": [
    "Naive Bayes"
   ]
  },
  {
   "cell_type": "code",
   "execution_count": 40,
   "metadata": {},
   "outputs": [
    {
     "name": "stdout",
     "output_type": "stream",
     "text": [
      "Classification report: \n",
      "              precision    recall  f1-score   support\n",
      "\n",
      "           0       0.98      0.89      0.93       973\n",
      "           1       0.09      0.37      0.14        27\n",
      "\n",
      "    accuracy                           0.88      1000\n",
      "   macro avg       0.53      0.63      0.54      1000\n",
      "weighted avg       0.96      0.88      0.91      1000\n",
      "\n",
      "Confusion Matrix: \n"
     ]
    },
    {
     "data": {
      "image/png": "[encoded data removed]",
      "text/plain": [
       "<Figure size 432x288 with 2 Axes>"
      ]
     },
     "metadata": {
      "needs_background": "light"
     },
     "output_type": "display_data"
    }
   ],
   "source": [
    "nb_clf = MultinomialNB(alpha=1)\n",
    "\n",
    "y_pred = create_classifier(nb_clf, X_train_balanced_us_30_normalized, y_train_balanced_us_30, \n",
    "                          X_val_normalized, y_val)\n",
    "\n",
    "print('Confusion Matrix: ')\n",
    "plot_confusion_matrix(nb_clf, X_val_normalized, y_val)"
   ]
  },
  {
   "cell_type": "markdown",
   "metadata": {},
   "source": [
    "Support Vector Machine"
   ]
  },
  {
   "cell_type": "code",
   "execution_count": 53,
   "metadata": {},
   "outputs": [
    {
     "name": "stdout",
     "output_type": "stream",
     "text": [
      "Classification report: \n",
      "              precision    recall  f1-score   support\n",
      "\n",
      "           0       0.98      0.90      0.94       973\n",
      "           1       0.08      0.33      0.13        27\n",
      "\n",
      "    accuracy                           0.88      1000\n",
      "   macro avg       0.53      0.62      0.54      1000\n",
      "weighted avg       0.96      0.88      0.92      1000\n",
      "\n",
      "Confusion Matrix: \n"
     ]
    },
    {
     "data": {
      "image/png": "[encoded data removed]",
      "text/plain": [
       "<Figure size 432x288 with 2 Axes>"
      ]
     },
     "metadata": {
      "needs_background": "light"
     },
     "output_type": "display_data"
    }
   ],
   "source": [
    "svm_clf = SVC(kernel='sigmoid', C=10, random_state=SEED_VAL)\n",
    "\n",
    "y_pred = create_classifier(svm_clf, X_train_balanced_us_30, y_train_balanced_us_30, \n",
    "                          X_val, y_val)\n",
    "\n",
    "print('Confusion Matrix: ')\n",
    "plot_confusion_matrix(svm_clf, X_val, y_val)"
   ]
  },
  {
   "cell_type": "markdown",
   "metadata": {},
   "source": [
    "Random Forest"
   ]
  },
  {
   "cell_type": "code",
   "execution_count": 55,
   "metadata": {},
   "outputs": [
    {
     "name": "stdout",
     "output_type": "stream",
     "text": [
      "Classification report: \n",
      "              precision    recall  f1-score   support\n",
      "\n",
      "           0       0.98      0.97      0.97       973\n",
      "           1       0.21      0.30      0.24        27\n",
      "\n",
      "    accuracy                           0.95      1000\n",
      "   macro avg       0.59      0.63      0.61      1000\n",
      "weighted avg       0.96      0.95      0.95      1000\n",
      "\n",
      "Confusion Matrix: \n"
     ]
    },
    {
     "data": {
      "image/png": "[encoded data removed]",
      "text/plain": [
       "<Figure size 432x288 with 2 Axes>"
      ]
     },
     "metadata": {
      "needs_background": "light"
     },
     "output_type": "display_data"
    }
   ],
   "source": [
    "rf_clf = RandomForestClassifier(n_estimators=600, min_samples_split=2, min_samples_leaf=1, max_features='log2', max_depth=80, criterion='entropy', random_state=SEED_VAL)\n",
    "\n",
    "y_pred = create_classifier(rf_clf, X_train_balanced_us_30, y_train_balanced_us_30, \n",
    "                          X_val, y_val)\n",
    "\n",
    "print('Confusion Matrix: ')\n",
    "plot_confusion_matrix(rf_clf, X_val, y_val)"
   ]
  },
  {
   "cell_type": "markdown",
   "metadata": {},
   "source": [
    "Multilayer Perceptron"
   ]
  },
  {
   "cell_type": "code",
   "execution_count": 63,
   "metadata": {},
   "outputs": [
    {
     "name": "stdout",
     "output_type": "stream",
     "text": [
      "Classification report: \n",
      "              precision    recall  f1-score   support\n",
      "\n",
      "           0       0.98      0.94      0.96       973\n",
      "           1       0.11      0.26      0.15        27\n",
      "\n",
      "    accuracy                           0.92      1000\n",
      "   macro avg       0.54      0.60      0.56      1000\n",
      "weighted avg       0.96      0.92      0.94      1000\n",
      "\n",
      "Confusion Matrix: \n"
     ]
    },
    {
     "data": {
      "image/png": "[encoded data removed]",
      "text/plain": [
       "<Figure size 432x288 with 2 Axes>"
      ]
     },
     "metadata": {
      "needs_background": "light"
     },
     "output_type": "display_data"
    }
   ],
   "source": [
    "mlp_clf = MLPClassifier(solver='adam', learning_rate='constant', hidden_layer_sizes=(600,), alpha=0.1, activation='relu', random_state=SEED_VAL)\n",
    "\n",
    "y_pred = create_classifier(mlp_clf, X_train_balanced_us_30, y_train_balanced_us_30, \n",
    "                          X_val, y_val)\n",
    "\n",
    "print('Confusion Matrix: ')\n",
    "plot_confusion_matrix(mlp_clf, X_val, y_val)"
   ]
  },
  {
   "cell_type": "markdown",
   "metadata": {},
   "source": [
    "##### Classificate (40% fraud)"
   ]
  },
  {
   "cell_type": "markdown",
   "metadata": {},
   "source": [
    "Naive Bayes"
   ]
  },
  {
   "cell_type": "code",
   "execution_count": 65,
   "metadata": {},
   "outputs": [
    {
     "name": "stdout",
     "output_type": "stream",
     "text": [
      "Classification report: \n",
      "              precision    recall  f1-score   support\n",
      "\n",
      "           0       0.98      0.86      0.92       973\n",
      "           1       0.09      0.48      0.15        27\n",
      "\n",
      "    accuracy                           0.85      1000\n",
      "   macro avg       0.54      0.67      0.53      1000\n",
      "weighted avg       0.96      0.85      0.90      1000\n",
      "\n",
      "Confusion Matrix: \n"
     ]
    },
    {
     "data": {
      "image/png": "[encoded data removed]",
      "text/plain": [
       "<Figure size 432x288 with 2 Axes>"
      ]
     },
     "metadata": {
      "needs_background": "light"
     },
     "output_type": "display_data"
    }
   ],
   "source": [
    "nb_clf = MultinomialNB(alpha=0.001)\n",
    "\n",
    "y_pred = create_classifier(nb_clf, X_train_balanced_us_40_normalized, y_train_balanced_us_40, \n",
    "                          X_val_normalized, y_val)\n",
    "\n",
    "print('Confusion Matrix: ')\n",
    "plot_confusion_matrix(nb_clf, X_val_normalized, y_val)"
   ]
  },
  {
   "cell_type": "markdown",
   "metadata": {},
   "source": [
    "Support Vector Machine"
   ]
  },
  {
   "cell_type": "code",
   "execution_count": 77,
   "metadata": {},
   "outputs": [
    {
     "name": "stdout",
     "output_type": "stream",
     "text": [
      "Classification report: \n",
      "              precision    recall  f1-score   support\n",
      "\n",
      "           0       0.98      0.56      0.71       973\n",
      "           1       0.04      0.67      0.08        27\n",
      "\n",
      "    accuracy                           0.56      1000\n",
      "   macro avg       0.51      0.61      0.39      1000\n",
      "weighted avg       0.96      0.56      0.70      1000\n",
      "\n",
      "Confusion Matrix: \n"
     ]
    },
    {
     "data": {
      "image/png": "[encoded data removed]",
      "text/plain": [
       "<Figure size 432x288 with 2 Axes>"
      ]
     },
     "metadata": {
      "needs_background": "light"
     },
     "output_type": "display_data"
    }
   ],
   "source": [
    "svm_clf = SVC(kernel='sigmoid', C=1000, random_state=SEED_VAL)\n",
    "\n",
    "y_pred = create_classifier(svm_clf, X_train_balanced_us_40, y_train_balanced_us_40, \n",
    "                          X_val, y_val)\n",
    "\n",
    "print('Confusion Matrix: ')\n",
    "plot_confusion_matrix(svm_clf, X_val, y_val)"
   ]
  },
  {
   "cell_type": "markdown",
   "metadata": {},
   "source": [
    "Random Forest"
   ]
  },
  {
   "cell_type": "code",
   "execution_count": 78,
   "metadata": {},
   "outputs": [
    {
     "name": "stdout",
     "output_type": "stream",
     "text": [
      "Classification report: \n",
      "              precision    recall  f1-score   support\n",
      "\n",
      "           0       0.99      0.89      0.94       973\n",
      "           1       0.14      0.67      0.24        27\n",
      "\n",
      "    accuracy                           0.88      1000\n",
      "   macro avg       0.57      0.78      0.59      1000\n",
      "weighted avg       0.97      0.88      0.92      1000\n",
      "\n",
      "Confusion Matrix: \n"
     ]
    },
    {
     "data": {
      "image/png": "[encoded data removed]",
      "text/plain": [
       "<Figure size 432x288 with 2 Axes>"
      ]
     },
     "metadata": {
      "needs_background": "light"
     },
     "output_type": "display_data"
    }
   ],
   "source": [
    "rf_clf = RandomForestClassifier(n_estimators=1000, min_samples_split=5, min_samples_leaf=2, max_features='auto', max_depth=100, criterion='gini', random_state=SEED_VAL)\n",
    "\n",
    "y_pred = create_classifier(rf_clf, X_train_balanced_us_40, y_train_balanced_us_40, \n",
    "                          X_val, y_val)\n",
    "\n",
    "print('Confusion Matrix: ')\n",
    "plot_confusion_matrix(rf_clf, X_val, y_val)"
   ]
  },
  {
   "cell_type": "markdown",
   "metadata": {},
   "source": [
    "Multilayer Perceptron"
   ]
  },
  {
   "cell_type": "code",
   "execution_count": 80,
   "metadata": {},
   "outputs": [
    {
     "name": "stdout",
     "output_type": "stream",
     "text": [
      "Classification report: \n",
      "              precision    recall  f1-score   support\n",
      "\n",
      "           0       0.98      0.86      0.92       973\n",
      "           1       0.09      0.48      0.15        27\n",
      "\n",
      "    accuracy                           0.85      1000\n",
      "   macro avg       0.53      0.67      0.53      1000\n",
      "weighted avg       0.96      0.85      0.90      1000\n",
      "\n",
      "Confusion Matrix: \n"
     ]
    },
    {
     "data": {
      "image/png": "[encoded data removed]",
      "text/plain": [
       "<Figure size 432x288 with 2 Axes>"
      ]
     },
     "metadata": {
      "needs_background": "light"
     },
     "output_type": "display_data"
    }
   ],
   "source": [
    "mlp_clf = MLPClassifier(solver='adam', learning_rate='constant', hidden_layer_sizes=(400,), alpha=0.001, activation='relu', random_state=SEED_VAL)\n",
    "\n",
    "y_pred = create_classifier(mlp_clf, X_train_balanced_us_40, y_train_balanced_us_40, \n",
    "                          X_val, y_val)\n",
    "\n",
    "print('Confusion Matrix: ')\n",
    "plot_confusion_matrix(mlp_clf, X_val, y_val)"
   ]
  },
  {
   "cell_type": "markdown",
   "metadata": {},
   "source": [
    "##### Classificate (50% fraud)"
   ]
  },
  {
   "cell_type": "markdown",
   "metadata": {},
   "source": [
    "Naive Bayes"
   ]
  },
  {
   "cell_type": "code",
   "execution_count": 111,
   "metadata": {},
   "outputs": [
    {
     "name": "stdout",
     "output_type": "stream",
     "text": [
      "Classification report: \n",
      "              precision    recall  f1-score   support\n",
      "\n",
      "           0       0.98      0.85      0.91       973\n",
      "           1       0.08      0.48      0.14        27\n",
      "\n",
      "    accuracy                           0.84      1000\n",
      "   macro avg       0.53      0.66      0.52      1000\n",
      "weighted avg       0.96      0.84      0.89      1000\n",
      "\n",
      "Confusion Matrix: \n"
     ]
    },
    {
     "data": {
      "image/png": "[encoded data removed]",
      "text/plain": [
       "<Figure size 432x288 with 2 Axes>"
      ]
     },
     "metadata": {
      "needs_background": "light"
     },
     "output_type": "display_data"
    }
   ],
   "source": [
    "nb_clf = MultinomialNB(alpha=0.01)\n",
    "\n",
    "y_pred = create_classifier(nb_clf, X_train_balanced_us_50_normalized, y_train_balanced_us_50, \n",
    "                          X_val_normalized, y_val)\n",
    "\n",
    "print('Confusion Matrix: ')\n",
    "plot_confusion_matrix(nb_clf, X_val_normalized, y_val)"
   ]
  },
  {
   "cell_type": "markdown",
   "metadata": {},
   "source": [
    "Support Vector Machine"
   ]
  },
  {
   "cell_type": "code",
   "execution_count": 85,
   "metadata": {},
   "outputs": [
    {
     "name": "stdout",
     "output_type": "stream",
     "text": [
      "Classification report: \n",
      "              precision    recall  f1-score   support\n",
      "\n",
      "           0       0.98      0.64      0.77       973\n",
      "           1       0.04      0.59      0.08        27\n",
      "\n",
      "    accuracy                           0.64      1000\n",
      "   macro avg       0.51      0.61      0.43      1000\n",
      "weighted avg       0.96      0.64      0.75      1000\n",
      "\n",
      "Confusion Matrix: \n"
     ]
    },
    {
     "data": {
      "image/png": "[encoded data removed]",
      "text/plain": [
       "<Figure size 432x288 with 2 Axes>"
      ]
     },
     "metadata": {
      "needs_background": "light"
     },
     "output_type": "display_data"
    }
   ],
   "source": [
    "svm_clf = SVC(kernel='poly', C=1000, random_state=SEED_VAL)\n",
    "\n",
    "y_pred = create_classifier(svm_clf, X_train_balanced_us_50, y_train_balanced_us_50, \n",
    "                          X_val, y_val)\n",
    "\n",
    "print('Confusion Matrix: ')\n",
    "plot_confusion_matrix(svm_clf, X_val, y_val)"
   ]
  },
  {
   "cell_type": "markdown",
   "metadata": {},
   "source": [
    "Random Forest"
   ]
  },
  {
   "cell_type": "code",
   "execution_count": 86,
   "metadata": {},
   "outputs": [
    {
     "name": "stdout",
     "output_type": "stream",
     "text": [
      "Classification report: \n",
      "              precision    recall  f1-score   support\n",
      "\n",
      "           0       0.99      0.83      0.91       973\n",
      "           1       0.10      0.70      0.18        27\n",
      "\n",
      "    accuracy                           0.83      1000\n",
      "   macro avg       0.55      0.77      0.54      1000\n",
      "weighted avg       0.97      0.83      0.89      1000\n",
      "\n",
      "Confusion Matrix: \n"
     ]
    },
    {
     "data": {
      "image/png": "[encoded data removed]",
      "text/plain": [
       "<Figure size 432x288 with 2 Axes>"
      ]
     },
     "metadata": {
      "needs_background": "light"
     },
     "output_type": "display_data"
    }
   ],
   "source": [
    "rf_clf = RandomForestClassifier(n_estimators=800, min_samples_split=5, min_samples_leaf=2, max_features='sqrt', max_depth=100, criterion='entropy', random_state=SEED_VAL)\n",
    "\n",
    "y_pred = create_classifier(rf_clf, X_train_balanced_us_50, y_train_balanced_us_50, \n",
    "                          X_val, y_val)\n",
    "\n",
    "print('Confusion Matrix: ')\n",
    "plot_confusion_matrix(rf_clf, X_val, y_val)"
   ]
  },
  {
   "cell_type": "markdown",
   "metadata": {},
   "source": [
    "Multilayer Perceptron"
   ]
  },
  {
   "cell_type": "code",
   "execution_count": 90,
   "metadata": {},
   "outputs": [
    {
     "name": "stdout",
     "output_type": "stream",
     "text": [
      "Classification report: \n",
      "              precision    recall  f1-score   support\n",
      "\n",
      "           0       0.98      0.84      0.91       973\n",
      "           1       0.08      0.48      0.13        27\n",
      "\n",
      "    accuracy                           0.83      1000\n",
      "   macro avg       0.53      0.66      0.52      1000\n",
      "weighted avg       0.96      0.83      0.89      1000\n",
      "\n",
      "Confusion Matrix: \n"
     ]
    },
    {
     "data": {
      "image/png": "[encoded data removed]",
      "text/plain": [
       "<Figure size 432x288 with 2 Axes>"
      ]
     },
     "metadata": {
      "needs_background": "light"
     },
     "output_type": "display_data"
    }
   ],
   "source": [
    "mlp_clf = MLPClassifier(solver='adam', learning_rate='constant', hidden_layer_sizes=(600,), alpha=0.001, activation='relu', random_state=SEED_VAL)\n",
    "\n",
    "y_pred = create_classifier(mlp_clf, X_train_balanced_us_50, y_train_balanced_us_50, \n",
    "                          X_val, y_val)\n",
    "\n",
    "print('Confusion Matrix: ')\n",
    "plot_confusion_matrix(mlp_clf, X_val, y_val)"
   ]
  },
  {
   "cell_type": "markdown",
   "metadata": {},
   "source": [
    "## Classification"
   ]
  },
  {
   "cell_type": "markdown",
   "metadata": {},
   "source": [
    "### Balance dataset"
   ]
  },
  {
   "cell_type": "code",
   "execution_count": 15,
   "metadata": {},
   "outputs": [
    {
     "name": "stdout",
     "output_type": "stream",
     "text": [
      "20%:\n",
      "X_train.shape (3685, 2263)\n"
     ]
    }
   ],
   "source": [
    "X_train_balanced_20, y_train_balanced_20 = balance_dataset('oversampling', X_train, y_train, 0.251) # 20% fraud\n",
    "\n",
    "print('20%:')\n",
    "print('X_train.shape', X_train_balanced_20.shape)"
   ]
  },
  {
   "cell_type": "markdown",
   "metadata": {},
   "source": [
    "### Normalize data for Naive Bayes"
   ]
  },
  {
   "cell_type": "code",
   "execution_count": 16,
   "metadata": {},
   "outputs": [],
   "source": [
    "scaler = MinMaxScaler()\n",
    "\n",
    "X_train_balanced_20_normalized = scaler.fit(X_train_balanced_20).transform(X_train_balanced_20)\n",
    "X_val_normalized = scaler.fit(X_val).transform(X_val)\n",
    "X_test_normalized = scaler.fit(X_test).transform(X_test)"
   ]
  },
  {
   "cell_type": "markdown",
   "metadata": {},
   "source": [
    "##### Test Hyperparameters"
   ]
  },
  {
   "cell_type": "code",
   "execution_count": 17,
   "metadata": {},
   "outputs": [
    {
     "name": "stdout",
     "output_type": "stream",
     "text": [
      "Best hyperparameters based on f1 score for Naive Bayes: {'alpha': 0.0001}\n",
      "Best hyperparameters based on f1 score for SVM: {'C': 1000, 'kernel': 'poly'}\n",
      "Best hyperparameters based on f1 score for Random Forest: {'criterion': 'gini', 'max_depth': 40, 'max_features': 'auto', 'min_samples_leaf': 1, 'min_samples_split': 2, 'n_estimators': 200}\n",
      "Best hyperparameters based on f1 score for Multilayer Perceptron: {'activation': 'relu', 'alpha': 1, 'hidden_layer_sizes': (500,), 'learning_rate': 'constant', 'solver': 'adam'}\n"
     ]
    }
   ],
   "source": [
    "test_hyperparameters_grid('Naive Bayes', X_train_balanced_20_normalized, y_train_balanced_20)\n",
    "test_hyperparameters_grid('SVM', X_train_balanced_20, y_train_balanced_20)\n",
    "test_hyperparameters_grid('Random Forest', X_train_balanced_20, y_train_balanced_20)\n",
    "test_hyperparameters_grid('Multilayer Perceptron', X_train_balanced_20, y_train_balanced_20)"
   ]
  },
  {
   "cell_type": "markdown",
   "metadata": {},
   "source": [
    "### Classificate"
   ]
  },
  {
   "cell_type": "markdown",
   "metadata": {},
   "source": [
    "#### Naive Bayes"
   ]
  },
  {
   "cell_type": "code",
   "execution_count": 18,
   "metadata": {},
   "outputs": [
    {
     "name": "stdout",
     "output_type": "stream",
     "text": [
      "Classification report: \n",
      "              precision    recall  f1-score   support\n",
      "\n",
      "           0       0.98      0.93      0.96       972\n",
      "           1       0.13      0.36      0.19        28\n",
      "\n",
      "    accuracy                           0.92      1000\n",
      "   macro avg       0.56      0.64      0.57      1000\n",
      "weighted avg       0.96      0.92      0.93      1000\n",
      "\n",
      "Confusion Matrix: \n"
     ]
    },
    {
     "data": {
      "image/png": "[encoded data removed]",
      "text/plain": [
       "<Figure size 432x288 with 2 Axes>"
      ]
     },
     "metadata": {
      "needs_background": "light"
     },
     "output_type": "display_data"
    }
   ],
   "source": [
    "nb_clf = MultinomialNB(alpha=0.0001)\n",
    "\n",
    "y_pred = create_classifier(nb_clf, X_train_balanced_20_normalized, y_train_balanced_20, \n",
    "                          X_test_normalized, y_test)\n",
    "\n",
    "print('Confusion Matrix: ')\n",
    "plot_confusion_matrix(nb_clf, X_test_normalized, y_test)"
   ]
  },
  {
   "cell_type": "markdown",
   "metadata": {},
   "source": [
    "#### Support Vector Machine"
   ]
  },
  {
   "cell_type": "code",
   "execution_count": 23,
   "metadata": {},
   "outputs": [
    {
     "name": "stdout",
     "output_type": "stream",
     "text": [
      "Classification report: \n",
      "              precision    recall  f1-score   support\n",
      "\n",
      "           0       0.97      1.00      0.99       972\n",
      "           1       0.33      0.04      0.06        28\n",
      "\n",
      "    accuracy                           0.97      1000\n",
      "   macro avg       0.65      0.52      0.52      1000\n",
      "weighted avg       0.96      0.97      0.96      1000\n",
      "\n",
      "Confusion Matrix: \n"
     ]
    },
    {
     "data": {
      "image/png": "[encoded data removed]",
      "text/plain": [
       "<Figure size 432x288 with 2 Axes>"
      ]
     },
     "metadata": {
      "needs_background": "light"
     },
     "output_type": "display_data"
    }
   ],
   "source": [
    "svm_clf = SVC(kernel='poly', C=1000, random_state=SEED_VAL)\n",
    "\n",
    "y_pred = create_classifier(svm_clf, X_train_balanced_20, y_train_balanced_20, \n",
    "                          X_test, y_test)\n",
    "\n",
    "print('Confusion Matrix: ')\n",
    "plot_confusion_matrix(svm_clf, X_test, y_test)"
   ]
  },
  {
   "cell_type": "markdown",
   "metadata": {},
   "source": [
    "#### Random Forest"
   ]
  },
  {
   "cell_type": "code",
   "execution_count": 20,
   "metadata": {},
   "outputs": [
    {
     "name": "stdout",
     "output_type": "stream",
     "text": [
      "Classification report: \n",
      "              precision    recall  f1-score   support\n",
      "\n",
      "           0       0.98      1.00      0.99       972\n",
      "           1       1.00      0.25      0.40        28\n",
      "\n",
      "    accuracy                           0.98      1000\n",
      "   macro avg       0.99      0.62      0.69      1000\n",
      "weighted avg       0.98      0.98      0.97      1000\n",
      "\n",
      "Confusion Matrix: \n"
     ]
    },
    {
     "data": {
      "image/png": "[encoded data removed]",
      "text/plain": [
       "<Figure size 432x288 with 2 Axes>"
      ]
     },
     "metadata": {
      "needs_background": "light"
     },
     "output_type": "display_data"
    }
   ],
   "source": [
    "rf_clf = RandomForestClassifier(criterion='gini', max_depth=40, max_features='auto', min_samples_leaf=1, min_samples_split=2, n_estimators=200, random_state=SEED_VAL)\n",
    "\n",
    "y_pred = create_classifier(rf_clf, X_train_balanced_20, y_train_balanced_20, \n",
    "                          X_test, y_test)\n",
    "\n",
    "print('Confusion Matrix: ')\n",
    "plot_confusion_matrix(rf_clf, X_test, y_test)"
   ]
  },
  {
   "cell_type": "markdown",
   "metadata": {},
   "source": [
    "#### Multilayer Perceptron"
   ]
  },
  {
   "cell_type": "code",
   "execution_count": 22,
   "metadata": {},
   "outputs": [
    {
     "name": "stdout",
     "output_type": "stream",
     "text": [
      "Classification report: \n",
      "              precision    recall  f1-score   support\n",
      "\n",
      "           0       0.98      0.99      0.98       972\n",
      "           1       0.33      0.14      0.20        28\n",
      "\n",
      "    accuracy                           0.97      1000\n",
      "   macro avg       0.65      0.57      0.59      1000\n",
      "weighted avg       0.96      0.97      0.96      1000\n",
      "\n",
      "Confusion Matrix: \n"
     ]
    },
    {
     "data": {
      "image/png": "[encoded data removed]",
      "text/plain": [
       "<Figure size 432x288 with 2 Axes>"
      ]
     },
     "metadata": {
      "needs_background": "light"
     },
     "output_type": "display_data"
    }
   ],
   "source": [
    "mlp_clf = MLPClassifier(activation='relu', alpha=1, hidden_layer_sizes=(500,), learning_rate='constant', solver='adam', random_state=SEED_VAL)\n",
    "\n",
    "y_pred = create_classifier(mlp_clf, X_train_balanced_20, y_train_balanced_20, \n",
    "                          X_test, y_test)\n",
    "\n",
    "print('Confusion Matrix: ')\n",
    "plot_confusion_matrix(mlp_clf, X_test, y_test)"
   ]
  }
 ],
 "metadata": {
  "interpreter": {
   "hash": "453071c72c80de92b7692a33dbeefc920793dd11aacf5fbb1339ac2b396bb92f"
  },
  "kernelspec": {
   "display_name": "Python 3.8.10 ('.venv': venv)",
   "language": "python",
   "name": "python3"
  },
  "language_info": {
   "codemirror_mode": {
    "name": "ipython",
    "version": 3
   },
   "file_extension": ".py",
   "mimetype": "text/x-python",
   "name": "python",
   "nbconvert_exporter": "python",
   "pygments_lexer": "ipython3",
   "version": "3.8.10"
  },
  "orig_nbformat": 4
 },
 "nbformat": 4,
 "nbformat_minor": 2
}

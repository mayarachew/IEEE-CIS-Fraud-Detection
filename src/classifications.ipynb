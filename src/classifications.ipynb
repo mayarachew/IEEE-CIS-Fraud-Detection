{
 "cells": [
  {
   "cell_type": "markdown",
   "metadata": {},
   "source": [
    "# IEEE-CIS Fraud Detection - Classifications"
   ]
  },
  {
   "cell_type": "markdown",
   "metadata": {},
   "source": [
    "## Imports"
   ]
  },
  {
   "cell_type": "code",
   "execution_count": 17,
   "metadata": {},
   "outputs": [],
   "source": [
    "# Dataset\n",
    "import pandas as pd\n",
    "import numpy as np\n",
    "\n",
    "# Graph\n",
    "import plotly.graph_objects as go\n",
    "\n",
    "import warnings\n",
    "warnings.filterwarnings(\"ignore\")\n",
    "\n",
    "# Math\n",
    "from PIL import Image\n",
    "\n",
    "# Imbalanced dataset\n",
    "from imblearn.over_sampling import RandomOverSampler \n",
    "\n",
    "from functions.balance_dataset import balance_dataset \n",
    "from functions.test_hyperparameters import test_hyperparameters \n",
    "from sklearn.preprocessing import MinMaxScaler\n",
    "from sklearn.model_selection import GridSearchCV \n",
    "from sklearn.naive_bayes import MultinomialNB \n",
    "from sklearn.ensemble import RandomForestClassifier \n",
    "from sklearn.svm import SVC \n",
    "from sklearn.neural_network import MLPClassifier\n",
    "from functions.create_classifier import create_classifier, plot_confusion_matrix \n",
    "from sklearn.model_selection import train_test_split"
   ]
  },
  {
   "cell_type": "markdown",
   "metadata": {},
   "source": [
    "## Read files"
   ]
  },
  {
   "cell_type": "code",
   "execution_count": null,
   "metadata": {},
   "outputs": [
    {
     "name": "stdout",
     "output_type": "stream",
     "text": [
      "Archive:  ../data/test_transaction.zip\n",
      "  inflating: ../data/test_transaction.csv  \n"
     ]
    }
   ],
   "source": [
    "# !unzip '../data/train_transaction.zip' -d '../data'\n",
    "!unzip '../data/test_transaction.zip' -d '../data'"
   ]
  },
  {
   "cell_type": "code",
   "execution_count": 2,
   "metadata": {},
   "outputs": [],
   "source": [
    "train_transaction_df = pd.read_csv(\"../data/train_transaction.csv\")"
   ]
  },
  {
   "cell_type": "code",
   "execution_count": 4,
   "metadata": {},
   "outputs": [
    {
     "name": "stdout",
     "output_type": "stream",
     "text": [
      "(590540, 394)\n",
      "(506691, 393)\n"
     ]
    }
   ],
   "source": [
    "print(train_transaction_df.shape)"
   ]
  },
  {
   "cell_type": "code",
   "execution_count": 5,
   "metadata": {},
   "outputs": [
    {
     "data": {
      "text/html": [
       "<div>\n",
       "<style scoped>\n",
       "    .dataframe tbody tr th:only-of-type {\n",
       "        vertical-align: middle;\n",
       "    }\n",
       "\n",
       "    .dataframe tbody tr th {\n",
       "        vertical-align: top;\n",
       "    }\n",
       "\n",
       "    .dataframe thead th {\n",
       "        text-align: right;\n",
       "    }\n",
       "</style>\n",
       "<table border=\"1\" class=\"dataframe\">\n",
       "  <thead>\n",
       "    <tr style=\"text-align: right;\">\n",
       "      <th></th>\n",
       "      <th>TransactionID</th>\n",
       "      <th>isFraud</th>\n",
       "      <th>TransactionDT</th>\n",
       "      <th>TransactionAmt</th>\n",
       "      <th>ProductCD</th>\n",
       "      <th>card1</th>\n",
       "      <th>card2</th>\n",
       "      <th>card3</th>\n",
       "      <th>card4</th>\n",
       "      <th>card5</th>\n",
       "      <th>...</th>\n",
       "      <th>V330</th>\n",
       "      <th>V331</th>\n",
       "      <th>V332</th>\n",
       "      <th>V333</th>\n",
       "      <th>V334</th>\n",
       "      <th>V335</th>\n",
       "      <th>V336</th>\n",
       "      <th>V337</th>\n",
       "      <th>V338</th>\n",
       "      <th>V339</th>\n",
       "    </tr>\n",
       "  </thead>\n",
       "  <tbody>\n",
       "    <tr>\n",
       "      <th>0</th>\n",
       "      <td>2987000</td>\n",
       "      <td>0</td>\n",
       "      <td>86400</td>\n",
       "      <td>68.5</td>\n",
       "      <td>W</td>\n",
       "      <td>13926</td>\n",
       "      <td>NaN</td>\n",
       "      <td>150.0</td>\n",
       "      <td>discover</td>\n",
       "      <td>142.0</td>\n",
       "      <td>...</td>\n",
       "      <td>NaN</td>\n",
       "      <td>NaN</td>\n",
       "      <td>NaN</td>\n",
       "      <td>NaN</td>\n",
       "      <td>NaN</td>\n",
       "      <td>NaN</td>\n",
       "      <td>NaN</td>\n",
       "      <td>NaN</td>\n",
       "      <td>NaN</td>\n",
       "      <td>NaN</td>\n",
       "    </tr>\n",
       "    <tr>\n",
       "      <th>1</th>\n",
       "      <td>2987001</td>\n",
       "      <td>0</td>\n",
       "      <td>86401</td>\n",
       "      <td>29.0</td>\n",
       "      <td>W</td>\n",
       "      <td>2755</td>\n",
       "      <td>404.0</td>\n",
       "      <td>150.0</td>\n",
       "      <td>mastercard</td>\n",
       "      <td>102.0</td>\n",
       "      <td>...</td>\n",
       "      <td>NaN</td>\n",
       "      <td>NaN</td>\n",
       "      <td>NaN</td>\n",
       "      <td>NaN</td>\n",
       "      <td>NaN</td>\n",
       "      <td>NaN</td>\n",
       "      <td>NaN</td>\n",
       "      <td>NaN</td>\n",
       "      <td>NaN</td>\n",
       "      <td>NaN</td>\n",
       "    </tr>\n",
       "    <tr>\n",
       "      <th>2</th>\n",
       "      <td>2987002</td>\n",
       "      <td>0</td>\n",
       "      <td>86469</td>\n",
       "      <td>59.0</td>\n",
       "      <td>W</td>\n",
       "      <td>4663</td>\n",
       "      <td>490.0</td>\n",
       "      <td>150.0</td>\n",
       "      <td>visa</td>\n",
       "      <td>166.0</td>\n",
       "      <td>...</td>\n",
       "      <td>NaN</td>\n",
       "      <td>NaN</td>\n",
       "      <td>NaN</td>\n",
       "      <td>NaN</td>\n",
       "      <td>NaN</td>\n",
       "      <td>NaN</td>\n",
       "      <td>NaN</td>\n",
       "      <td>NaN</td>\n",
       "      <td>NaN</td>\n",
       "      <td>NaN</td>\n",
       "    </tr>\n",
       "    <tr>\n",
       "      <th>3</th>\n",
       "      <td>2987003</td>\n",
       "      <td>0</td>\n",
       "      <td>86499</td>\n",
       "      <td>50.0</td>\n",
       "      <td>W</td>\n",
       "      <td>18132</td>\n",
       "      <td>567.0</td>\n",
       "      <td>150.0</td>\n",
       "      <td>mastercard</td>\n",
       "      <td>117.0</td>\n",
       "      <td>...</td>\n",
       "      <td>NaN</td>\n",
       "      <td>NaN</td>\n",
       "      <td>NaN</td>\n",
       "      <td>NaN</td>\n",
       "      <td>NaN</td>\n",
       "      <td>NaN</td>\n",
       "      <td>NaN</td>\n",
       "      <td>NaN</td>\n",
       "      <td>NaN</td>\n",
       "      <td>NaN</td>\n",
       "    </tr>\n",
       "    <tr>\n",
       "      <th>4</th>\n",
       "      <td>2987004</td>\n",
       "      <td>0</td>\n",
       "      <td>86506</td>\n",
       "      <td>50.0</td>\n",
       "      <td>H</td>\n",
       "      <td>4497</td>\n",
       "      <td>514.0</td>\n",
       "      <td>150.0</td>\n",
       "      <td>mastercard</td>\n",
       "      <td>102.0</td>\n",
       "      <td>...</td>\n",
       "      <td>0.0</td>\n",
       "      <td>0.0</td>\n",
       "      <td>0.0</td>\n",
       "      <td>0.0</td>\n",
       "      <td>0.0</td>\n",
       "      <td>0.0</td>\n",
       "      <td>0.0</td>\n",
       "      <td>0.0</td>\n",
       "      <td>0.0</td>\n",
       "      <td>0.0</td>\n",
       "    </tr>\n",
       "  </tbody>\n",
       "</table>\n",
       "<p>5 rows × 394 columns</p>\n",
       "</div>"
      ],
      "text/plain": [
       "   TransactionID  isFraud  TransactionDT  TransactionAmt ProductCD  card1  \\\n",
       "0        2987000        0          86400            68.5         W  13926   \n",
       "1        2987001        0          86401            29.0         W   2755   \n",
       "2        2987002        0          86469            59.0         W   4663   \n",
       "3        2987003        0          86499            50.0         W  18132   \n",
       "4        2987004        0          86506            50.0         H   4497   \n",
       "\n",
       "   card2  card3       card4  card5  ... V330  V331  V332  V333  V334 V335  \\\n",
       "0    NaN  150.0    discover  142.0  ...  NaN   NaN   NaN   NaN   NaN  NaN   \n",
       "1  404.0  150.0  mastercard  102.0  ...  NaN   NaN   NaN   NaN   NaN  NaN   \n",
       "2  490.0  150.0        visa  166.0  ...  NaN   NaN   NaN   NaN   NaN  NaN   \n",
       "3  567.0  150.0  mastercard  117.0  ...  NaN   NaN   NaN   NaN   NaN  NaN   \n",
       "4  514.0  150.0  mastercard  102.0  ...  0.0   0.0   0.0   0.0   0.0  0.0   \n",
       "\n",
       "  V336  V337  V338  V339  \n",
       "0  NaN   NaN   NaN   NaN  \n",
       "1  NaN   NaN   NaN   NaN  \n",
       "2  NaN   NaN   NaN   NaN  \n",
       "3  NaN   NaN   NaN   NaN  \n",
       "4  0.0   0.0   0.0   0.0  \n",
       "\n",
       "[5 rows x 394 columns]"
      ]
     },
     "execution_count": 5,
     "metadata": {},
     "output_type": "execute_result"
    }
   ],
   "source": [
    "train_transaction_df.head()"
   ]
  },
  {
   "cell_type": "markdown",
   "metadata": {},
   "source": [
    "## Preprocessing"
   ]
  },
  {
   "cell_type": "markdown",
   "metadata": {},
   "source": [
    "All columns"
   ]
  },
  {
   "cell_type": "code",
   "execution_count": 6,
   "metadata": {},
   "outputs": [
    {
     "name": "stdout",
     "output_type": "stream",
     "text": [
      "['TransactionID', 'isFraud', 'TransactionDT', 'TransactionAmt', 'ProductCD', 'card1', 'card2', 'card3', 'card4', 'card5', 'card6', 'addr1', 'addr2', 'dist1', 'dist2', 'P_emaildomain', 'R_emaildomain', 'C1', 'C2', 'C3', 'C4', 'C5', 'C6', 'C7', 'C8', 'C9', 'C10', 'C11', 'C12', 'C13', 'C14', 'D1', 'D2', 'D3', 'D4', 'D5', 'D6', 'D7', 'D8', 'D9', 'D10', 'D11', 'D12', 'D13', 'D14', 'D15', 'M1', 'M2', 'M3', 'M4', 'M5', 'M6', 'M7', 'M8', 'M9', 'V1', 'V2', 'V3', 'V4', 'V5', 'V6', 'V7', 'V8', 'V9', 'V10', 'V11', 'V12', 'V13', 'V14', 'V15', 'V16', 'V17', 'V18', 'V19', 'V20', 'V21', 'V22', 'V23', 'V24', 'V25', 'V26', 'V27', 'V28', 'V29', 'V30', 'V31', 'V32', 'V33', 'V34', 'V35', 'V36', 'V37', 'V38', 'V39', 'V40', 'V41', 'V42', 'V43', 'V44', 'V45', 'V46', 'V47', 'V48', 'V49', 'V50', 'V51', 'V52', 'V53', 'V54', 'V55', 'V56', 'V57', 'V58', 'V59', 'V60', 'V61', 'V62', 'V63', 'V64', 'V65', 'V66', 'V67', 'V68', 'V69', 'V70', 'V71', 'V72', 'V73', 'V74', 'V75', 'V76', 'V77', 'V78', 'V79', 'V80', 'V81', 'V82', 'V83', 'V84', 'V85', 'V86', 'V87', 'V88', 'V89', 'V90', 'V91', 'V92', 'V93', 'V94', 'V95', 'V96', 'V97', 'V98', 'V99', 'V100', 'V101', 'V102', 'V103', 'V104', 'V105', 'V106', 'V107', 'V108', 'V109', 'V110', 'V111', 'V112', 'V113', 'V114', 'V115', 'V116', 'V117', 'V118', 'V119', 'V120', 'V121', 'V122', 'V123', 'V124', 'V125', 'V126', 'V127', 'V128', 'V129', 'V130', 'V131', 'V132', 'V133', 'V134', 'V135', 'V136', 'V137', 'V138', 'V139', 'V140', 'V141', 'V142', 'V143', 'V144', 'V145', 'V146', 'V147', 'V148', 'V149', 'V150', 'V151', 'V152', 'V153', 'V154', 'V155', 'V156', 'V157', 'V158', 'V159', 'V160', 'V161', 'V162', 'V163', 'V164', 'V165', 'V166', 'V167', 'V168', 'V169', 'V170', 'V171', 'V172', 'V173', 'V174', 'V175', 'V176', 'V177', 'V178', 'V179', 'V180', 'V181', 'V182', 'V183', 'V184', 'V185', 'V186', 'V187', 'V188', 'V189', 'V190', 'V191', 'V192', 'V193', 'V194', 'V195', 'V196', 'V197', 'V198', 'V199', 'V200', 'V201', 'V202', 'V203', 'V204', 'V205', 'V206', 'V207', 'V208', 'V209', 'V210', 'V211', 'V212', 'V213', 'V214', 'V215', 'V216', 'V217', 'V218', 'V219', 'V220', 'V221', 'V222', 'V223', 'V224', 'V225', 'V226', 'V227', 'V228', 'V229', 'V230', 'V231', 'V232', 'V233', 'V234', 'V235', 'V236', 'V237', 'V238', 'V239', 'V240', 'V241', 'V242', 'V243', 'V244', 'V245', 'V246', 'V247', 'V248', 'V249', 'V250', 'V251', 'V252', 'V253', 'V254', 'V255', 'V256', 'V257', 'V258', 'V259', 'V260', 'V261', 'V262', 'V263', 'V264', 'V265', 'V266', 'V267', 'V268', 'V269', 'V270', 'V271', 'V272', 'V273', 'V274', 'V275', 'V276', 'V277', 'V278', 'V279', 'V280', 'V281', 'V282', 'V283', 'V284', 'V285', 'V286', 'V287', 'V288', 'V289', 'V290', 'V291', 'V292', 'V293', 'V294', 'V295', 'V296', 'V297', 'V298', 'V299', 'V300', 'V301', 'V302', 'V303', 'V304', 'V305', 'V306', 'V307', 'V308', 'V309', 'V310', 'V311', 'V312', 'V313', 'V314', 'V315', 'V316', 'V317', 'V318', 'V319', 'V320', 'V321', 'V322', 'V323', 'V324', 'V325', 'V326', 'V327', 'V328', 'V329', 'V330', 'V331', 'V332', 'V333', 'V334', 'V335', 'V336', 'V337', 'V338', 'V339']\n"
     ]
    }
   ],
   "source": [
    "print(train_transaction_df.columns.tolist())"
   ]
  },
  {
   "cell_type": "markdown",
   "metadata": {},
   "source": [
    "Remove NaN values"
   ]
  },
  {
   "cell_type": "code",
   "execution_count": 6,
   "metadata": {},
   "outputs": [],
   "source": [
    "train_transaction_df = train_transaction_df.replace(np.nan, 0)"
   ]
  },
  {
   "cell_type": "markdown",
   "metadata": {},
   "source": [
    "Limit to 5000 samples"
   ]
  },
  {
   "cell_type": "code",
   "execution_count": 7,
   "metadata": {},
   "outputs": [],
   "source": [
    "X_df = train_transaction_df[:5000]\n",
    "y_df = train_transaction_df['isFraud'][:5000]"
   ]
  },
  {
   "cell_type": "markdown",
   "metadata": {},
   "source": [
    "Transform categorical attributes on dummy variables\n",
    "\n",
    "Categorical features:\n",
    "- ProductCD\n",
    "- card1 - card6\n",
    "- addr1, addr2\n",
    "- P_emaildomain\n",
    "- R_emaildomain\n",
    "- M1 - M9"
   ]
  },
  {
   "cell_type": "code",
   "execution_count": 8,
   "metadata": {},
   "outputs": [],
   "source": [
    "ProductCD_data = pd.get_dummies(X_df['ProductCD']).add_prefix('ProductCD_')\n",
    "P_emaildomain_data = pd.get_dummies(X_df['P_emaildomain']).add_prefix('P_emaildomain_')\n",
    "R_emaildomain_data = pd.get_dummies(X_df['R_emaildomain']).add_prefix('R_emaildomain_')\n",
    "\n",
    "card1_data = pd.get_dummies(X_df['card1']).add_prefix('card1_')\n",
    "card2_data = pd.get_dummies(X_df['card2']).add_prefix('card2_')\n",
    "card3_data = pd.get_dummies(X_df['card3']).add_prefix('card3_')\n",
    "card4_data = pd.get_dummies(X_df['card4']).add_prefix('card4_')\n",
    "card5_data = pd.get_dummies(X_df['card5']).add_prefix('card5_')\n",
    "card6_data = pd.get_dummies(X_df['card6']).add_prefix('card6_')\n",
    "\n",
    "addr1_data = pd.get_dummies(X_df['addr1']).add_prefix('addr1_')\n",
    "addr2_data = pd.get_dummies(X_df['addr2']).add_prefix('addr2_')\n",
    "\n",
    "M1_data = pd.get_dummies(X_df['M1']).add_prefix('M1_')\n",
    "M2_data = pd.get_dummies(X_df['M2']).add_prefix('M2_')\n",
    "M3_data = pd.get_dummies(X_df['M3']).add_prefix('M3_')\n",
    "M4_data = pd.get_dummies(X_df['M4']).add_prefix('M4_')\n",
    "M5_data = pd.get_dummies(X_df['M5']).add_prefix('M5_')\n",
    "M6_data = pd.get_dummies(X_df['M6']).add_prefix('M6_')\n",
    "M7_data = pd.get_dummies(X_df['M7']).add_prefix('M7_')\n",
    "M8_data = pd.get_dummies(X_df['M8']).add_prefix('M8_')\n",
    "M9_data = pd.get_dummies(X_df['M9']).add_prefix('M9_')\n",
    "\n",
    "y = X_df['isFraud']\n",
    "X_df = X_df[X_df.columns.drop(['isFraud', 'TransactionID','ProductCD', 'P_emaildomain', 'R_emaildomain', 'card1', 'card2', 'card3', 'card4', 'card5', 'card6', 'addr1', 'addr2', 'M1', 'M2', 'M3', 'M4', 'M5', 'M6', 'M7', 'M8', 'M9'])]\n",
    "\n",
    "df = pd.concat([X_df, ProductCD_data, P_emaildomain_data, R_emaildomain_data, \n",
    "                    card1_data, card2_data, card3_data, card4_data, card5_data, card6_data,\n",
    "                    addr1_data, addr2_data,\n",
    "                    M1_data, M2_data, M3_data, M4_data, M5_data, M6_data, M7_data, M8_data, M9_data], join = 'outer', axis=1)\n"
   ]
  },
  {
   "cell_type": "code",
   "execution_count": 19,
   "metadata": {},
   "outputs": [
    {
     "data": {
      "text/html": [
       "<div>\n",
       "<style scoped>\n",
       "    .dataframe tbody tr th:only-of-type {\n",
       "        vertical-align: middle;\n",
       "    }\n",
       "\n",
       "    .dataframe tbody tr th {\n",
       "        vertical-align: top;\n",
       "    }\n",
       "\n",
       "    .dataframe thead th {\n",
       "        text-align: right;\n",
       "    }\n",
       "</style>\n",
       "<table border=\"1\" class=\"dataframe\">\n",
       "  <thead>\n",
       "    <tr style=\"text-align: right;\">\n",
       "      <th></th>\n",
       "      <th>TransactionDT</th>\n",
       "      <th>TransactionAmt</th>\n",
       "      <th>dist1</th>\n",
       "      <th>dist2</th>\n",
       "      <th>C1</th>\n",
       "      <th>C2</th>\n",
       "      <th>C3</th>\n",
       "      <th>C4</th>\n",
       "      <th>C5</th>\n",
       "      <th>C6</th>\n",
       "      <th>...</th>\n",
       "      <th>M6_T</th>\n",
       "      <th>M7_0</th>\n",
       "      <th>M7_F</th>\n",
       "      <th>M7_T</th>\n",
       "      <th>M8_0</th>\n",
       "      <th>M8_F</th>\n",
       "      <th>M8_T</th>\n",
       "      <th>M9_0</th>\n",
       "      <th>M9_F</th>\n",
       "      <th>M9_T</th>\n",
       "    </tr>\n",
       "  </thead>\n",
       "  <tbody>\n",
       "    <tr>\n",
       "      <th>0</th>\n",
       "      <td>86400</td>\n",
       "      <td>68.5</td>\n",
       "      <td>19.0</td>\n",
       "      <td>0.0</td>\n",
       "      <td>1.0</td>\n",
       "      <td>1.0</td>\n",
       "      <td>0.0</td>\n",
       "      <td>0.0</td>\n",
       "      <td>0.0</td>\n",
       "      <td>1.0</td>\n",
       "      <td>...</td>\n",
       "      <td>1</td>\n",
       "      <td>1</td>\n",
       "      <td>0</td>\n",
       "      <td>0</td>\n",
       "      <td>1</td>\n",
       "      <td>0</td>\n",
       "      <td>0</td>\n",
       "      <td>1</td>\n",
       "      <td>0</td>\n",
       "      <td>0</td>\n",
       "    </tr>\n",
       "    <tr>\n",
       "      <th>1</th>\n",
       "      <td>86401</td>\n",
       "      <td>29.0</td>\n",
       "      <td>0.0</td>\n",
       "      <td>0.0</td>\n",
       "      <td>1.0</td>\n",
       "      <td>1.0</td>\n",
       "      <td>0.0</td>\n",
       "      <td>0.0</td>\n",
       "      <td>0.0</td>\n",
       "      <td>1.0</td>\n",
       "      <td>...</td>\n",
       "      <td>1</td>\n",
       "      <td>1</td>\n",
       "      <td>0</td>\n",
       "      <td>0</td>\n",
       "      <td>1</td>\n",
       "      <td>0</td>\n",
       "      <td>0</td>\n",
       "      <td>1</td>\n",
       "      <td>0</td>\n",
       "      <td>0</td>\n",
       "    </tr>\n",
       "    <tr>\n",
       "      <th>2</th>\n",
       "      <td>86469</td>\n",
       "      <td>59.0</td>\n",
       "      <td>287.0</td>\n",
       "      <td>0.0</td>\n",
       "      <td>1.0</td>\n",
       "      <td>1.0</td>\n",
       "      <td>0.0</td>\n",
       "      <td>0.0</td>\n",
       "      <td>0.0</td>\n",
       "      <td>1.0</td>\n",
       "      <td>...</td>\n",
       "      <td>0</td>\n",
       "      <td>0</td>\n",
       "      <td>1</td>\n",
       "      <td>0</td>\n",
       "      <td>0</td>\n",
       "      <td>1</td>\n",
       "      <td>0</td>\n",
       "      <td>0</td>\n",
       "      <td>1</td>\n",
       "      <td>0</td>\n",
       "    </tr>\n",
       "    <tr>\n",
       "      <th>3</th>\n",
       "      <td>86499</td>\n",
       "      <td>50.0</td>\n",
       "      <td>0.0</td>\n",
       "      <td>0.0</td>\n",
       "      <td>2.0</td>\n",
       "      <td>5.0</td>\n",
       "      <td>0.0</td>\n",
       "      <td>0.0</td>\n",
       "      <td>0.0</td>\n",
       "      <td>4.0</td>\n",
       "      <td>...</td>\n",
       "      <td>0</td>\n",
       "      <td>1</td>\n",
       "      <td>0</td>\n",
       "      <td>0</td>\n",
       "      <td>1</td>\n",
       "      <td>0</td>\n",
       "      <td>0</td>\n",
       "      <td>1</td>\n",
       "      <td>0</td>\n",
       "      <td>0</td>\n",
       "    </tr>\n",
       "    <tr>\n",
       "      <th>4</th>\n",
       "      <td>86506</td>\n",
       "      <td>50.0</td>\n",
       "      <td>0.0</td>\n",
       "      <td>0.0</td>\n",
       "      <td>1.0</td>\n",
       "      <td>1.0</td>\n",
       "      <td>0.0</td>\n",
       "      <td>0.0</td>\n",
       "      <td>0.0</td>\n",
       "      <td>1.0</td>\n",
       "      <td>...</td>\n",
       "      <td>0</td>\n",
       "      <td>1</td>\n",
       "      <td>0</td>\n",
       "      <td>0</td>\n",
       "      <td>1</td>\n",
       "      <td>0</td>\n",
       "      <td>0</td>\n",
       "      <td>1</td>\n",
       "      <td>0</td>\n",
       "      <td>0</td>\n",
       "    </tr>\n",
       "  </tbody>\n",
       "</table>\n",
       "<p>5 rows × 2263 columns</p>\n",
       "</div>"
      ],
      "text/plain": [
       "   TransactionDT  TransactionAmt  dist1  dist2   C1   C2   C3   C4   C5   C6  \\\n",
       "0          86400            68.5   19.0    0.0  1.0  1.0  0.0  0.0  0.0  1.0   \n",
       "1          86401            29.0    0.0    0.0  1.0  1.0  0.0  0.0  0.0  1.0   \n",
       "2          86469            59.0  287.0    0.0  1.0  1.0  0.0  0.0  0.0  1.0   \n",
       "3          86499            50.0    0.0    0.0  2.0  5.0  0.0  0.0  0.0  4.0   \n",
       "4          86506            50.0    0.0    0.0  1.0  1.0  0.0  0.0  0.0  1.0   \n",
       "\n",
       "   ...  M6_T  M7_0  M7_F  M7_T  M8_0  M8_F  M8_T  M9_0  M9_F  M9_T  \n",
       "0  ...     1     1     0     0     1     0     0     1     0     0  \n",
       "1  ...     1     1     0     0     1     0     0     1     0     0  \n",
       "2  ...     0     0     1     0     0     1     0     0     1     0  \n",
       "3  ...     0     1     0     0     1     0     0     1     0     0  \n",
       "4  ...     0     1     0     0     1     0     0     1     0     0  \n",
       "\n",
       "[5 rows x 2263 columns]"
      ]
     },
     "execution_count": 19,
     "metadata": {},
     "output_type": "execute_result"
    }
   ],
   "source": [
    "df.head()"
   ]
  },
  {
   "cell_type": "code",
   "execution_count": 20,
   "metadata": {},
   "outputs": [
    {
     "data": {
      "text/plain": [
       "(5000, 2263)"
      ]
     },
     "execution_count": 20,
     "metadata": {},
     "output_type": "execute_result"
    }
   ],
   "source": [
    "df.shape"
   ]
  },
  {
   "cell_type": "markdown",
   "metadata": {},
   "source": [
    "## Balance dataset"
   ]
  },
  {
   "cell_type": "markdown",
   "metadata": {},
   "source": [
    "Analyzing the proportion of fraudulent samples:"
   ]
  },
  {
   "cell_type": "code",
   "execution_count": 9,
   "metadata": {},
   "outputs": [
    {
     "data": {
      "text/plain": [
       "0    0.9782\n",
       "1    0.0218\n",
       "Name: isFraud, dtype: float64"
      ]
     },
     "execution_count": 9,
     "metadata": {},
     "output_type": "execute_result"
    }
   ],
   "source": [
    "y.value_counts(normalize=True)"
   ]
  },
  {
   "cell_type": "markdown",
   "metadata": {},
   "source": [
    "The fraudulent samples are approximately 2% of the dataset, so we are dealing with an unbalanced dataset.\n",
    "\n",
    "We'll apply an oversampling technique."
   ]
  },
  {
   "cell_type": "code",
   "execution_count": 10,
   "metadata": {},
   "outputs": [],
   "source": [
    "def balance_dataset(X, y, proportion):\n",
    "    oversample = RandomOverSampler(sampling_strategy=proportion)    \n",
    "    X, y = oversample.fit_resample(X, y)\n",
    "\n",
    "    return X, y"
   ]
  },
  {
   "cell_type": "markdown",
   "metadata": {},
   "source": [
    "Define not balanced dataset"
   ]
  },
  {
   "cell_type": "code",
   "execution_count": 11,
   "metadata": {},
   "outputs": [],
   "source": [
    "X_not_balanced_02 = df\n",
    "y_not_balanced_02 = y"
   ]
  },
  {
   "cell_type": "markdown",
   "metadata": {},
   "source": [
    "Define balanced dataset"
   ]
  },
  {
   "cell_type": "code",
   "execution_count": 12,
   "metadata": {},
   "outputs": [],
   "source": [
    "X_balanced_10, y_balanced_10 = balance_dataset(df, y, 0.112) # 10% fraud\n",
    "X_balanced_20, y_balanced_20 = balance_dataset(df, y, 0.251) # 20% fraud\n",
    "X_balanced_30, y_balanced_30 = balance_dataset(df, y, 0.43)  # 30% fraud\n",
    "X_balanced_40, y_balanced_40 = balance_dataset(df, y, 0.667) # 40% fraud\n",
    "X_balanced_50, y_balanced_50 = balance_dataset(df, y, 1)     # 50% fraud"
   ]
  },
  {
   "cell_type": "code",
   "execution_count": 13,
   "metadata": {},
   "outputs": [
    {
     "data": {
      "text/plain": [
       "0    0.5\n",
       "1    0.5\n",
       "Name: isFraud, dtype: float64"
      ]
     },
     "execution_count": 13,
     "metadata": {},
     "output_type": "execute_result"
    }
   ],
   "source": [
    "y_balanced_50.value_counts(normalize=True)"
   ]
  },
  {
   "cell_type": "markdown",
   "metadata": {},
   "source": [
    "## Split dataset"
   ]
  },
  {
   "cell_type": "code",
   "execution_count": 14,
   "metadata": {},
   "outputs": [
    {
     "name": "stdout",
     "output_type": "stream",
     "text": [
      "X_train.shape (7336, 2263)\n",
      "X_test.shape (2446, 2263)\n"
     ]
    }
   ],
   "source": [
    "X_not_balanced_02_train, X_not_balanced_02_test, y_not_balanced_02_train, y_not_balanced_02_test = train_test_split(X_not_balanced_02, y_not_balanced_02, test_size=0.25, random_state=0)\n",
    "\n",
    "X_balanced_10_train, X_balanced_10_test, y_balanced_10_train, y_balanced_10_test = train_test_split(X_balanced_10, y_balanced_10, test_size=0.25, random_state=0)\n",
    "X_balanced_20_train, X_balanced_20_test, y_balanced_20_train, y_balanced_20_test = train_test_split(X_balanced_20, y_balanced_20, test_size=0.25, random_state=0)\n",
    "X_balanced_30_train, X_balanced_30_test, y_balanced_30_train, y_balanced_30_test = train_test_split(X_balanced_30, y_balanced_30, test_size=0.25, random_state=0)\n",
    "X_balanced_40_train, X_balanced_40_test, y_balanced_40_train, y_balanced_40_test = train_test_split(X_balanced_40, y_balanced_40, test_size=0.25, random_state=0)\n",
    "X_balanced_50_train, X_balanced_50_test, y_balanced_50_train, y_balanced_50_test = train_test_split(X_balanced_50, y_balanced_50, test_size=0.25, random_state=0)\n",
    "\n",
    "print('X_train.shape', X_balanced_50_train.shape)\n",
    "print('X_test.shape', X_balanced_50_test.shape)"
   ]
  },
  {
   "cell_type": "markdown",
   "metadata": {},
   "source": [
    "## Classification"
   ]
  },
  {
   "cell_type": "markdown",
   "metadata": {},
   "source": [
    "### Normalize data for Naive Bayes"
   ]
  },
  {
   "cell_type": "code",
   "execution_count": 15,
   "metadata": {},
   "outputs": [],
   "source": [
    "scaler = MinMaxScaler()\n",
    "\n",
    "X_not_balanced_02_train_normalized = scaler.fit(X_not_balanced_02_train).transform(X_not_balanced_02_train)\n",
    "X_balanced_10_train_normalized = scaler.fit(X_balanced_10_train).transform(X_balanced_10_train)\n",
    "X_balanced_20_train_normalized = scaler.fit(X_balanced_20_train).transform(X_balanced_20_train)\n",
    "X_balanced_30_train_normalized = scaler.fit(X_balanced_30_train).transform(X_balanced_30_train)\n",
    "X_balanced_40_train_normalized = scaler.fit(X_balanced_40_train).transform(X_balanced_40_train)\n",
    "X_balanced_50_train_normalized = scaler.fit(X_balanced_50_train).transform(X_balanced_50_train)\n",
    "\n",
    "X_not_balanced_02_test_normalized = scaler.fit(X_not_balanced_02_test).transform(X_not_balanced_02_test)\n",
    "X_balanced_10_test_normalized = scaler.fit(X_balanced_10_test).transform(X_balanced_10_test)\n",
    "X_balanced_20_test_normalized = scaler.fit(X_balanced_20_test).transform(X_balanced_20_test)\n",
    "X_balanced_30_test_normalized = scaler.fit(X_balanced_30_test).transform(X_balanced_30_test)\n",
    "X_balanced_40_test_normalized = scaler.fit(X_balanced_40_test).transform(X_balanced_40_test)\n",
    "X_balanced_50_test_normalized = scaler.fit(X_balanced_50_test).transform(X_balanced_50_test)"
   ]
  },
  {
   "cell_type": "markdown",
   "metadata": {},
   "source": [
    "### Test Hyperparameters"
   ]
  },
  {
   "cell_type": "code",
   "execution_count": 16,
   "metadata": {},
   "outputs": [],
   "source": [
    "def test_hyperparameters(classifier, X_train, y_train):\n",
    "    parameters = {}\n",
    "    classification = None\n",
    "\n",
    "    if classifier == 'Random Forest':\n",
    "        parameters = {'n_estimators': [100, 300, 500], \"max_depth\": [\n",
    "            3, 5, 7, None], 'criterion': ['gini', 'entropy'], 'max_features': ['auto', 'sqrt', 'log2']}\n",
    "        classification = RandomForestClassifier(random_state=0)\n",
    "    elif classifier == 'Naive Bayes':\n",
    "        parameters = {'alpha': [1, 0.1, 0.01, 0.001, 0.0001]}\n",
    "        classification = MultinomialNB()\n",
    "    elif classifier == 'Support Vector Machine':\n",
    "        parameters = {'kernel': ['rbf', 'poly', 'sigmoid', 'linear'], 'C': [1, 10, 100, 1000]}\n",
    "        classification = SVC(random_state=0)\n",
    "    elif classifier == 'Multilayer Perceptron':\n",
    "        parameters = {'hidden_layer_sizes': [(100,), (300,), (500,)], 'alpha': [1, 0.1, 0.01, 0.001, 0.0001]}\n",
    "        classification = MLPClassifier(random_state=0)\n",
    "\n",
    "    score = 'f1'\n",
    "\n",
    "    clf = GridSearchCV(classification, parameters, scoring=\"%s_macro\" % score, cv=5)\n",
    "    clf.fit(X_train, y_train)\n",
    "    \n",
    "    output = f\"Best hyperparameters for {classifier}: {clf.best_params_}\\n\"\n",
    "    print(output)\n",
    "    "
   ]
  },
  {
   "cell_type": "markdown",
   "metadata": {},
   "source": [
    "#### PCA unbalanced (2% fraud)"
   ]
  },
  {
   "cell_type": "code",
   "execution_count": null,
   "metadata": {},
   "outputs": [],
   "source": [
    "test_hyperparameters('Naive Bayes', X_not_balanced_02_train_normalized, y_not_balanced_02_train)\n",
    "test_hyperparameters('Support Vector Machine', X_not_balanced_02_train, y_not_balanced_02_train)\n",
    "test_hyperparameters('Random Forest', X_not_balanced_02_train, y_not_balanced_02_train)\n",
    "test_hyperparameters('Multilayer Perceptron', X_not_balanced_02_train, y_not_balanced_02_train)\n",
    "\n",
    "## Result\n",
    "# Best hyperparameters for Naive Bayes: {'alpha': 1}\n",
    "# Best hyperparameters for Support Vector Machine: {'C': 10, 'kernel': 'linear'}\n",
    "# Best hyperparameters for Random Forest: {'criterion': 'gini', 'max_depth': None, 'max_features': 'auto', 'n_estimators': 300}\n",
    "# Best hyperparameters for Multilayer Perceptron: Best hyperparameters for Multilayer Perceptron: {'alpha': 0.001, 'hidden_layer_sizes': (500,), 'learning_rate': 'constant', 'solver': 'adam'}"
   ]
  },
  {
   "cell_type": "markdown",
   "metadata": {},
   "source": [
    "#### PCA unbalanced (10% fraud)"
   ]
  },
  {
   "cell_type": "code",
   "execution_count": null,
   "metadata": {},
   "outputs": [],
   "source": [
    "test_hyperparameters('Naive Bayes', X_balanced_10_train_normalized, y_balanced_10_train)\n",
    "test_hyperparameters('Support Vector Machine', X_balanced_10_train, y_balanced_10_train)\n",
    "test_hyperparameters('Random Forest', X_balanced_10_train, y_balanced_10_train)\n",
    "test_hyperparameters('Multilayer Perceptron', X_balanced_20_train, y_balanced_20_train)\n",
    "\n",
    "## Results\n",
    "# Best hyperparameters for Naive Bayes: {'alpha': 0.0001}\n",
    "# Best hyperparameters for Support Vector Machine: {'C': 1, 'kernel': 'linear'}\n",
    "# Best hyperparameters for Random Forest: {'criterion': 'gini', 'max_depth': None, 'max_features': 'log2', 'n_estimators': 100}\n",
    "# Best hyperparameters for Multilayer Perceptron: Best hyperparameters for Multilayer Perceptron: {'alpha': 0.01, 'hidden_layer_sizes': (500,), 'learning_rate': 'constant', 'solver': 'adam'}"
   ]
  },
  {
   "cell_type": "markdown",
   "metadata": {},
   "source": [
    "#### PCA unbalanced (20% fraud)"
   ]
  },
  {
   "cell_type": "code",
   "execution_count": null,
   "metadata": {},
   "outputs": [],
   "source": [
    "test_hyperparameters('Naive Bayes', X_balanced_20_train_normalized, y_balanced_20_train)\n",
    "test_hyperparameters('Support Vector Machine', X_balanced_20_train, y_balanced_20_train)\n",
    "test_hyperparameters('Random Forest', X_balanced_20_train, y_balanced_20_train)\n",
    "test_hyperparameters('Multilayer Perceptron', X_balanced_20_train, y_balanced_20_train)\n",
    "\n",
    "## Results\n",
    "# Best hyperparameters for Naive Bayes: {'alpha': 0.0001}\n",
    "# Best hyperparameters for Support Vector Machine: {'C': 100, 'kernel': 'linear'}\n",
    "# Best hyperparameters for Random Forest: {'criterion': 'gini', 'max_depth': None, 'max_features': 'auto', 'n_estimators': 100}\n",
    "# Best hyperparameters for Multilayer Perceptron: {'alpha': 0.0001, 'hidden_layer_sizes': (300,), 'learning_rate': 'constant', 'solver': 'adam'}"
   ]
  },
  {
   "cell_type": "markdown",
   "metadata": {},
   "source": [
    "#### PCA unbalanced (30% fraud)"
   ]
  },
  {
   "cell_type": "code",
   "execution_count": null,
   "metadata": {},
   "outputs": [],
   "source": [
    "test_hyperparameters('Naive Bayes', X_balanced_30_train_normalized, y_balanced_30_train)\n",
    "test_hyperparameters('Support Vector Machine', X_balanced_30_train, y_balanced_30_train)\n",
    "test_hyperparameters('Random Forest', X_balanced_30_train, y_balanced_30_train)\n",
    "test_hyperparameters('Multilayer Perceptron', X_balanced_30_train, y_balanced_30_train)\n",
    "\n",
    "## Results\n",
    "# Best hyperparameters for Naive Bayes: {'alpha': 0.0001}\n",
    "# Best hyperparameters for Support Vector Machine: {'C': 100, 'kernel': 'linear'}\n",
    "# Best hyperparameters for Random Forest: {'criterion': 'gini', 'max_depth': None, 'max_features': 'auto', 'n_estimators': 100}\n",
    "# Best hyperparameters for Multilayer Perceptron: {'alpha': 0.1, 'hidden_layer_sizes': (300,), 'learning_rate': 'constant', 'solver': 'adam'}"
   ]
  },
  {
   "cell_type": "markdown",
   "metadata": {},
   "source": [
    "#### PCA unbalanced (40% fraud)"
   ]
  },
  {
   "cell_type": "code",
   "execution_count": null,
   "metadata": {},
   "outputs": [],
   "source": [
    "test_hyperparameters('Naive Bayes', X_balanced_40_train_normalized, y_balanced_40_train)\n",
    "test_hyperparameters('Support Vector Machine', X_balanced_40_train, y_balanced_40_train)\n",
    "test_hyperparameters('Random Forest', X_balanced_40_train, y_balanced_40_train)\n",
    "test_hyperparameters('Multilayer Perceptron', X_balanced_40_train, y_balanced_40_train)\n",
    "\n",
    "## Results\n",
    "# Best hyperparameters for Naive Bayes: {'alpha': 0.0001}\n",
    "# Best hyperparameters for Support Vector Machine: {'C': 100, 'kernel': 'linear'}\n",
    "# Best hyperparameters for Random Forest: {'criterion': 'gini', 'max_depth': None, 'max_features': 'log2', 'n_estimators': 100}\n",
    "# Best hyperparameters for Multilayer Perceptron: {'alpha': 0.001, 'hidden_layer_sizes': (100,), 'learning_rate': 'constant', 'solver': 'adam'}"
   ]
  },
  {
   "cell_type": "markdown",
   "metadata": {},
   "source": [
    "#### PCA unbalanced (50% fraud)"
   ]
  },
  {
   "cell_type": "code",
   "execution_count": null,
   "metadata": {},
   "outputs": [],
   "source": [
    "test_hyperparameters('Naive Bayes', X_balanced_50_train_normalized, y_balanced_50_train)\n",
    "test_hyperparameters('Support Vector Machine', X_balanced_50_train, y_balanced_50_train)\n",
    "test_hyperparameters('Random Forest', X_balanced_50_train, y_balanced_50_train)\n",
    "test_hyperparameters('Multilayer Perceptron', X_balanced_50_train, y_balanced_50_train)\n",
    "\n",
    "## Results\n",
    "# Best hyperparameters for Naive Bayes: {'alpha': 0.0001}\n",
    "# Best hyperparameters for Support Vector Machine: \n",
    "# Best hyperparameters for Random Forest: \n",
    "# Best hyperparameters for Multilayer Perceptron:"
   ]
  },
  {
   "cell_type": "markdown",
   "metadata": {},
   "source": [
    "### Classification\n",
    "\n",
    "- Support Vector Machine\n",
    "- Random Forest\n",
    "- Naive Bayes\n",
    "- Multilayer Perceptron"
   ]
  },
  {
   "cell_type": "markdown",
   "metadata": {},
   "source": [
    "#### PCA unbalanced (0.2% fraud)\n"
   ]
  },
  {
   "cell_type": "markdown",
   "metadata": {},
   "source": [
    "Naive Bayes"
   ]
  },
  {
   "cell_type": "code",
   "execution_count": 18,
   "metadata": {},
   "outputs": [
    {
     "name": "stdout",
     "output_type": "stream",
     "text": [
      "Classification report: \n",
      "              precision    recall  f1-score   support\n",
      "\n",
      "           0       0.99      0.94      0.96      1220\n",
      "           1       0.15      0.43      0.23        30\n",
      "\n",
      "    accuracy                           0.93      1250\n",
      "   macro avg       0.57      0.69      0.60      1250\n",
      "weighted avg       0.97      0.93      0.95      1250\n",
      "\n",
      "Confusion Matrix: \n"
     ]
    },
    {
     "data": {
      "image/png": "[encoded data removed]",
      "text/plain": [
       "<Figure size 432x288 with 2 Axes>"
      ]
     },
     "metadata": {
      "needs_background": "light"
     },
     "output_type": "display_data"
    }
   ],
   "source": [
    "nb_clf = MultinomialNB(alpha=1)\n",
    "\n",
    "y_pred = create_classifier(nb_clf, X_not_balanced_02_train_normalized, y_not_balanced_02_train, \n",
    "                          X_not_balanced_02_test_normalized, y_not_balanced_02_test)\n",
    "\n",
    "print('Confusion Matrix: ')\n",
    "plot_confusion_matrix(nb_clf, X_not_balanced_02_test_normalized, y_not_balanced_02_test)"
   ]
  },
  {
   "cell_type": "markdown",
   "metadata": {},
   "source": [
    "Support Vector Machine"
   ]
  },
  {
   "cell_type": "code",
   "execution_count": 23,
   "metadata": {},
   "outputs": [
    {
     "name": "stdout",
     "output_type": "stream",
     "text": [
      "Classification report: \n",
      "              precision    recall  f1-score   support\n",
      "\n",
      "           0       0.98      1.00      0.99      1220\n",
      "           1       1.00      0.23      0.38        30\n",
      "\n",
      "    accuracy                           0.98      1250\n",
      "   macro avg       0.99      0.62      0.68      1250\n",
      "weighted avg       0.98      0.98      0.98      1250\n",
      "\n",
      "Confusion Matrix: \n"
     ]
    },
    {
     "data": {
      "image/png": "[encoded data removed]",
      "text/plain": [
       "<Figure size 432x288 with 2 Axes>"
      ]
     },
     "metadata": {
      "needs_background": "light"
     },
     "output_type": "display_data"
    }
   ],
   "source": [
    "svm_clf = SVC(kernel='poly', C=1)\n",
    "\n",
    "y_pred = create_classifier(svm_clf, X_not_balanced_02_train_normalized, y_not_balanced_02_train, \n",
    "                          X_not_balanced_02_test_normalized, y_not_balanced_02_test)\n",
    "\n",
    "print('Confusion Matrix: ')\n",
    "plot_confusion_matrix(svm_clf, X_not_balanced_02_test_normalized, y_not_balanced_02_test)"
   ]
  },
  {
   "cell_type": "markdown",
   "metadata": {},
   "source": [
    "Random Forest"
   ]
  },
  {
   "cell_type": "code",
   "execution_count": 24,
   "metadata": {},
   "outputs": [
    {
     "name": "stdout",
     "output_type": "stream",
     "text": [
      "Classification report: \n",
      "              precision    recall  f1-score   support\n",
      "\n",
      "           0       0.98      1.00      0.99      1220\n",
      "           1       1.00      0.10      0.18        30\n",
      "\n",
      "    accuracy                           0.98      1250\n",
      "   macro avg       0.99      0.55      0.59      1250\n",
      "weighted avg       0.98      0.98      0.97      1250\n",
      "\n",
      "Confusion Matrix: \n"
     ]
    },
    {
     "data": {
      "image/png": "[encoded data removed]",
      "text/plain": [
       "<Figure size 432x288 with 2 Axes>"
      ]
     },
     "metadata": {
      "needs_background": "light"
     },
     "output_type": "display_data"
    }
   ],
   "source": [
    "rf_clf = RandomForestClassifier(n_estimators=100, max_features='auto', max_depth=3, criterion='gini')\n",
    "\n",
    "y_pred = create_classifier(rf_clf, X_not_balanced_02_train_normalized, y_not_balanced_02_train, \n",
    "                          X_not_balanced_02_test_normalized, y_not_balanced_02_test)\n",
    "\n",
    "print('Confusion Matrix: ')\n",
    "plot_confusion_matrix(rf_clf, X_not_balanced_02_test_normalized, y_not_balanced_02_test)"
   ]
  },
  {
   "cell_type": "markdown",
   "metadata": {},
   "source": [
    "Multilayer Perceptron"
   ]
  },
  {
   "cell_type": "code",
   "execution_count": 40,
   "metadata": {},
   "outputs": [
    {
     "name": "stdout",
     "output_type": "stream",
     "text": [
      "Classification report: \n",
      "              precision    recall  f1-score   support\n",
      "\n",
      "           0       0.99      0.98      0.99      1220\n",
      "           1       0.44      0.53      0.48        30\n",
      "\n",
      "    accuracy                           0.97      1250\n",
      "   macro avg       0.72      0.76      0.74      1250\n",
      "weighted avg       0.98      0.97      0.97      1250\n",
      "\n",
      "Confusion Matrix: \n"
     ]
    },
    {
     "data": {
      "image/png": "[encoded data removed]",
      "text/plain": [
       "<Figure size 432x288 with 2 Axes>"
      ]
     },
     "metadata": {
      "needs_background": "light"
     },
     "output_type": "display_data"
    }
   ],
   "source": [
    "mlp_clf = MLPClassifier(hidden_layer_sizes=(100,), alpha=0.001, random_state=0)\n",
    "\n",
    "y_pred = create_classifier(mlp_clf, X_not_balanced_02_train_normalized, y_not_balanced_02_train, \n",
    "                          X_not_balanced_02_test_normalized, y_not_balanced_02_test)\n",
    "\n",
    "print('Confusion Matrix: ')\n",
    "plot_confusion_matrix(mlp_clf, X_not_balanced_02_test_normalized, y_not_balanced_02_test)"
   ]
  },
  {
   "cell_type": "markdown",
   "metadata": {},
   "source": [
    "#### PCA balanced (10% fraud)"
   ]
  },
  {
   "cell_type": "markdown",
   "metadata": {},
   "source": [
    "Naive Bayes"
   ]
  },
  {
   "cell_type": "code",
   "execution_count": 19,
   "metadata": {},
   "outputs": [
    {
     "name": "stdout",
     "output_type": "stream",
     "text": [
      "Classification report: \n",
      "              precision    recall  f1-score   support\n",
      "\n",
      "           0       0.96      0.94      0.95      1221\n",
      "           1       0.55      0.67      0.60       139\n",
      "\n",
      "    accuracy                           0.91      1360\n",
      "   macro avg       0.75      0.80      0.78      1360\n",
      "weighted avg       0.92      0.91      0.91      1360\n",
      "\n",
      "Confusion Matrix: \n"
     ]
    },
    {
     "data": {
      "image/png": "[encoded data removed]",
      "text/plain": [
       "<Figure size 432x288 with 2 Axes>"
      ]
     },
     "metadata": {
      "needs_background": "light"
     },
     "output_type": "display_data"
    }
   ],
   "source": [
    "nb_clf = MultinomialNB(alpha=0.0001)\n",
    "\n",
    "y_pred = create_classifier(nb_clf, X_balanced_10_train_normalized, y_balanced_10_train, \n",
    "                          X_balanced_10_test_normalized, y_balanced_10_test)\n",
    "\n",
    "print('Confusion Matrix: ')\n",
    "plot_confusion_matrix(nb_clf, X_balanced_10_test_normalized, y_balanced_10_test)"
   ]
  },
  {
   "cell_type": "markdown",
   "metadata": {},
   "source": [
    "Support Vector Machine"
   ]
  },
  {
   "cell_type": "code",
   "execution_count": 25,
   "metadata": {},
   "outputs": [
    {
     "name": "stdout",
     "output_type": "stream",
     "text": [
      "Classification report: \n",
      "              precision    recall  f1-score   support\n",
      "\n",
      "           0       0.96      1.00      0.98      1221\n",
      "           1       0.99      0.64      0.78       139\n",
      "\n",
      "    accuracy                           0.96      1360\n",
      "   macro avg       0.97      0.82      0.88      1360\n",
      "weighted avg       0.96      0.96      0.96      1360\n",
      "\n",
      "Confusion Matrix: \n"
     ]
    },
    {
     "data": {
      "image/png": "[encoded data removed]",
      "text/plain": [
       "<Figure size 432x288 with 2 Axes>"
      ]
     },
     "metadata": {
      "needs_background": "light"
     },
     "output_type": "display_data"
    }
   ],
   "source": [
    "svm_clf = SVC(kernel='rbf', C=1)\n",
    "\n",
    "y_pred = create_classifier(svm_clf, X_balanced_10_train_normalized, y_balanced_10_train, \n",
    "                          X_balanced_10_test_normalized, y_balanced_10_test)\n",
    "\n",
    "print('Confusion Matrix: ')\n",
    "plot_confusion_matrix(svm_clf, X_balanced_10_test_normalized, y_balanced_10_test)"
   ]
  },
  {
   "cell_type": "markdown",
   "metadata": {},
   "source": [
    "Random Forest"
   ]
  },
  {
   "cell_type": "code",
   "execution_count": 26,
   "metadata": {},
   "outputs": [
    {
     "name": "stdout",
     "output_type": "stream",
     "text": [
      "Classification report: \n",
      "              precision    recall  f1-score   support\n",
      "\n",
      "           0       0.92      1.00      0.96      1221\n",
      "           1       1.00      0.20      0.34       139\n",
      "\n",
      "    accuracy                           0.92      1360\n",
      "   macro avg       0.96      0.60      0.65      1360\n",
      "weighted avg       0.93      0.92      0.89      1360\n",
      "\n",
      "Confusion Matrix: \n"
     ]
    },
    {
     "data": {
      "image/png": "[encoded data removed]",
      "text/plain": [
       "<Figure size 432x288 with 2 Axes>"
      ]
     },
     "metadata": {
      "needs_background": "light"
     },
     "output_type": "display_data"
    }
   ],
   "source": [
    "rf_clf = RandomForestClassifier(n_estimators=100, max_features='auto', max_depth=5, criterion='gini')\n",
    "\n",
    "y_pred = create_classifier(rf_clf, X_balanced_10_train_normalized, y_balanced_10_train, \n",
    "                          X_balanced_10_test_normalized, y_balanced_10_test)\n",
    "\n",
    "print('Confusion Matrix: ')\n",
    "plot_confusion_matrix(rf_clf, X_balanced_10_test_normalized, y_balanced_10_test)"
   ]
  },
  {
   "cell_type": "markdown",
   "metadata": {},
   "source": [
    "Multilayer Perceptron"
   ]
  },
  {
   "cell_type": "code",
   "execution_count": 39,
   "metadata": {},
   "outputs": [
    {
     "name": "stdout",
     "output_type": "stream",
     "text": [
      "Classification report: \n",
      "              precision    recall  f1-score   support\n",
      "\n",
      "           0       1.00      0.99      0.99      1221\n",
      "           1       0.89      0.96      0.93       139\n",
      "\n",
      "    accuracy                           0.98      1360\n",
      "   macro avg       0.94      0.98      0.96      1360\n",
      "weighted avg       0.99      0.98      0.98      1360\n",
      "\n",
      "Confusion Matrix: \n"
     ]
    },
    {
     "data": {
      "image/png": "[encoded data removed]",
      "text/plain": [
       "<Figure size 432x288 with 2 Axes>"
      ]
     },
     "metadata": {
      "needs_background": "light"
     },
     "output_type": "display_data"
    }
   ],
   "source": [
    "mlp_clf = MLPClassifier(hidden_layer_sizes=(100,), alpha=0.001, random_state=0)\n",
    "\n",
    "y_pred = create_classifier(mlp_clf, X_balanced_10_train_normalized, y_balanced_10_train, \n",
    "                          X_balanced_10_test_normalized, y_balanced_10_test)\n",
    "\n",
    "print('Confusion Matrix: ')\n",
    "plot_confusion_matrix(mlp_clf, X_balanced_10_test_normalized, y_balanced_10_test)"
   ]
  },
  {
   "cell_type": "markdown",
   "metadata": {},
   "source": [
    "#### PCA balanced (20% fraud)"
   ]
  },
  {
   "cell_type": "markdown",
   "metadata": {},
   "source": [
    "Naive Bayes"
   ]
  },
  {
   "cell_type": "code",
   "execution_count": 27,
   "metadata": {},
   "outputs": [
    {
     "name": "stdout",
     "output_type": "stream",
     "text": [
      "Classification report: \n",
      "              precision    recall  f1-score   support\n",
      "\n",
      "           0       0.93      0.93      0.93      1255\n",
      "           1       0.67      0.67      0.67       275\n",
      "\n",
      "    accuracy                           0.88      1530\n",
      "   macro avg       0.80      0.80      0.80      1530\n",
      "weighted avg       0.88      0.88      0.88      1530\n",
      "\n",
      "Confusion Matrix: \n"
     ]
    },
    {
     "data": {
      "image/png": "[encoded data removed]",
      "text/plain": [
       "<Figure size 432x288 with 2 Axes>"
      ]
     },
     "metadata": {
      "needs_background": "light"
     },
     "output_type": "display_data"
    }
   ],
   "source": [
    "nb_clf = MultinomialNB(alpha=0.0001)\n",
    "\n",
    "y_pred = create_classifier(nb_clf, X_balanced_20_train_normalized, y_balanced_20_train, \n",
    "                          X_balanced_20_test_normalized, y_balanced_20_test)\n",
    "\n",
    "print('Confusion Matrix: ')\n",
    "plot_confusion_matrix(nb_clf, X_balanced_20_test_normalized, y_balanced_20_test)"
   ]
  },
  {
   "cell_type": "markdown",
   "metadata": {},
   "source": [
    "Support Vector Machine"
   ]
  },
  {
   "cell_type": "code",
   "execution_count": 28,
   "metadata": {},
   "outputs": [
    {
     "name": "stdout",
     "output_type": "stream",
     "text": [
      "Classification report: \n",
      "              precision    recall  f1-score   support\n",
      "\n",
      "           0       0.98      0.99      0.99      1255\n",
      "           1       0.97      0.92      0.94       275\n",
      "\n",
      "    accuracy                           0.98      1530\n",
      "   macro avg       0.98      0.96      0.97      1530\n",
      "weighted avg       0.98      0.98      0.98      1530\n",
      "\n",
      "Confusion Matrix: \n"
     ]
    },
    {
     "data": {
      "image/png": "[encoded data removed]",
      "text/plain": [
       "<Figure size 432x288 with 2 Axes>"
      ]
     },
     "metadata": {
      "needs_background": "light"
     },
     "output_type": "display_data"
    }
   ],
   "source": [
    "svm_clf = SVC(kernel='rbf', C=1)\n",
    "\n",
    "y_pred = create_classifier(svm_clf, X_balanced_20_train_normalized, y_balanced_20_train, \n",
    "                          X_balanced_20_test_normalized, y_balanced_20_test)\n",
    "\n",
    "print('Confusion Matrix: ')\n",
    "plot_confusion_matrix(svm_clf, X_balanced_20_test_normalized, y_balanced_20_test)"
   ]
  },
  {
   "cell_type": "markdown",
   "metadata": {},
   "source": [
    "Random Forest"
   ]
  },
  {
   "cell_type": "code",
   "execution_count": 29,
   "metadata": {},
   "outputs": [
    {
     "name": "stdout",
     "output_type": "stream",
     "text": [
      "Classification report: \n",
      "              precision    recall  f1-score   support\n",
      "\n",
      "           0       0.85      1.00      0.92      1255\n",
      "           1       0.98      0.21      0.35       275\n",
      "\n",
      "    accuracy                           0.86      1530\n",
      "   macro avg       0.92      0.61      0.64      1530\n",
      "weighted avg       0.88      0.86      0.82      1530\n",
      "\n",
      "Confusion Matrix: \n"
     ]
    },
    {
     "data": {
      "image/png": "[encoded data removed]",
      "text/plain": [
       "<Figure size 432x288 with 2 Axes>"
      ]
     },
     "metadata": {
      "needs_background": "light"
     },
     "output_type": "display_data"
    }
   ],
   "source": [
    "rf_clf = RandomForestClassifier(n_estimators=100, max_features='auto', max_depth=3, criterion='gini')\n",
    "\n",
    "y_pred = create_classifier(rf_clf, X_balanced_20_train_normalized, y_balanced_20_train, \n",
    "                          X_balanced_20_test_normalized, y_balanced_20_test)\n",
    "\n",
    "print('Confusion Matrix: ')\n",
    "plot_confusion_matrix(rf_clf, X_balanced_20_test_normalized, y_balanced_20_test)"
   ]
  },
  {
   "cell_type": "markdown",
   "metadata": {},
   "source": [
    "Multilayer Perceptron"
   ]
  },
  {
   "cell_type": "code",
   "execution_count": 38,
   "metadata": {},
   "outputs": [
    {
     "name": "stdout",
     "output_type": "stream",
     "text": [
      "Classification report: \n",
      "              precision    recall  f1-score   support\n",
      "\n",
      "           0       1.00      0.98      0.99      1255\n",
      "           1       0.93      1.00      0.96       275\n",
      "\n",
      "    accuracy                           0.99      1530\n",
      "   macro avg       0.97      0.99      0.98      1530\n",
      "weighted avg       0.99      0.99      0.99      1530\n",
      "\n",
      "Confusion Matrix: \n"
     ]
    },
    {
     "data": {
      "image/png": "[encoded data removed]",
      "text/plain": [
       "<Figure size 432x288 with 2 Axes>"
      ]
     },
     "metadata": {
      "needs_background": "light"
     },
     "output_type": "display_data"
    }
   ],
   "source": [
    "mlp_clf = MLPClassifier(hidden_layer_sizes=(100,), alpha=0.001, random_state=0)\n",
    "\n",
    "y_pred = create_classifier(mlp_clf, X_balanced_20_train_normalized, y_balanced_20_train, \n",
    "                          X_balanced_20_test_normalized, y_balanced_20_test)\n",
    "\n",
    "print('Confusion Matrix: ')\n",
    "plot_confusion_matrix(mlp_clf, X_balanced_20_test_normalized, y_balanced_20_test)"
   ]
  },
  {
   "cell_type": "markdown",
   "metadata": {},
   "source": [
    "#### PCA balanced (30% fraud)"
   ]
  },
  {
   "cell_type": "markdown",
   "metadata": {},
   "source": [
    "Naive Bayes"
   ]
  },
  {
   "cell_type": "code",
   "execution_count": 20,
   "metadata": {},
   "outputs": [
    {
     "name": "stdout",
     "output_type": "stream",
     "text": [
      "Classification report: \n",
      "              precision    recall  f1-score   support\n",
      "\n",
      "           0       0.86      0.93      0.89      1227\n",
      "           1       0.80      0.64      0.71       522\n",
      "\n",
      "    accuracy                           0.84      1749\n",
      "   macro avg       0.83      0.78      0.80      1749\n",
      "weighted avg       0.84      0.84      0.84      1749\n",
      "\n",
      "Confusion Matrix: \n"
     ]
    },
    {
     "data": {
      "image/png": "[encoded data removed]",
      "text/plain": [
       "<Figure size 432x288 with 2 Axes>"
      ]
     },
     "metadata": {
      "needs_background": "light"
     },
     "output_type": "display_data"
    }
   ],
   "source": [
    "nb_clf = MultinomialNB(alpha=0.0001)\n",
    "\n",
    "y_pred = create_classifier(nb_clf, X_balanced_30_train_normalized, y_balanced_30_train, \n",
    "                          X_balanced_30_test_normalized, y_balanced_30_test)\n",
    "\n",
    "print('Confusion Matrix: ')\n",
    "plot_confusion_matrix(nb_clf, X_balanced_30_test_normalized, y_balanced_30_test)"
   ]
  },
  {
   "cell_type": "markdown",
   "metadata": {},
   "source": [
    "Support Vector Machine"
   ]
  },
  {
   "cell_type": "code",
   "execution_count": 30,
   "metadata": {},
   "outputs": [
    {
     "name": "stdout",
     "output_type": "stream",
     "text": [
      "Classification report: \n",
      "              precision    recall  f1-score   support\n",
      "\n",
      "           0       1.00      0.99      0.99      1227\n",
      "           1       0.97      1.00      0.98       522\n",
      "\n",
      "    accuracy                           0.99      1749\n",
      "   macro avg       0.99      0.99      0.99      1749\n",
      "weighted avg       0.99      0.99      0.99      1749\n",
      "\n",
      "Confusion Matrix: \n"
     ]
    },
    {
     "data": {
      "image/png": "[encoded data removed]",
      "text/plain": [
       "<Figure size 432x288 with 2 Axes>"
      ]
     },
     "metadata": {
      "needs_background": "light"
     },
     "output_type": "display_data"
    }
   ],
   "source": [
    "svm_clf = SVC(kernel='rbf', C=1)\n",
    "\n",
    "y_pred = create_classifier(svm_clf, X_balanced_30_train_normalized, y_balanced_30_train, \n",
    "                          X_balanced_30_test_normalized, y_balanced_30_test)\n",
    "\n",
    "print('Confusion Matrix: ')\n",
    "plot_confusion_matrix(svm_clf, X_balanced_30_test_normalized, y_balanced_30_test)"
   ]
  },
  {
   "cell_type": "markdown",
   "metadata": {},
   "source": [
    "Random Forest"
   ]
  },
  {
   "cell_type": "code",
   "execution_count": 31,
   "metadata": {},
   "outputs": [
    {
     "name": "stdout",
     "output_type": "stream",
     "text": [
      "Classification report: \n",
      "              precision    recall  f1-score   support\n",
      "\n",
      "           0       0.76      1.00      0.86      1227\n",
      "           1       0.96      0.25      0.39       522\n",
      "\n",
      "    accuracy                           0.77      1749\n",
      "   macro avg       0.86      0.62      0.63      1749\n",
      "weighted avg       0.82      0.77      0.72      1749\n",
      "\n",
      "Confusion Matrix: \n"
     ]
    },
    {
     "data": {
      "image/png": "[encoded data removed]",
      "text/plain": [
       "<Figure size 432x288 with 2 Axes>"
      ]
     },
     "metadata": {
      "needs_background": "light"
     },
     "output_type": "display_data"
    }
   ],
   "source": [
    "rf_clf = RandomForestClassifier(n_estimators=100, max_features='auto', max_depth=3, criterion='gini')\n",
    "\n",
    "y_pred = create_classifier(rf_clf, X_balanced_30_train_normalized, y_balanced_30_train, \n",
    "                          X_balanced_30_test_normalized, y_balanced_30_test)\n",
    "\n",
    "print('Confusion Matrix: ')\n",
    "plot_confusion_matrix(rf_clf, X_balanced_30_test_normalized, y_balanced_30_test)"
   ]
  },
  {
   "cell_type": "markdown",
   "metadata": {},
   "source": [
    "Multilayer Perceptron"
   ]
  },
  {
   "cell_type": "code",
   "execution_count": 35,
   "metadata": {},
   "outputs": [
    {
     "name": "stdout",
     "output_type": "stream",
     "text": [
      "Classification report: \n",
      "              precision    recall  f1-score   support\n",
      "\n",
      "           0       1.00      0.96      0.98      1227\n",
      "           1       0.92      1.00      0.96       522\n",
      "\n",
      "    accuracy                           0.97      1749\n",
      "   macro avg       0.96      0.98      0.97      1749\n",
      "weighted avg       0.98      0.97      0.97      1749\n",
      "\n",
      "Confusion Matrix: \n"
     ]
    },
    {
     "data": {
      "image/png": "[encoded data removed]",
      "text/plain": [
       "<Figure size 432x288 with 2 Axes>"
      ]
     },
     "metadata": {
      "needs_background": "light"
     },
     "output_type": "display_data"
    }
   ],
   "source": [
    "mlp_clf = MLPClassifier(hidden_layer_sizes=(100,), alpha=0.001, random_state=0)\n",
    "\n",
    "y_pred = create_classifier(mlp_clf, X_balanced_30_train_normalized, y_balanced_30_train, \n",
    "                          X_balanced_30_test_normalized, y_balanced_30_test)\n",
    "\n",
    "print('Confusion Matrix: ')\n",
    "plot_confusion_matrix(mlp_clf, X_balanced_30_test_normalized, y_balanced_30_test)"
   ]
  },
  {
   "cell_type": "markdown",
   "metadata": {},
   "source": [
    "#### PCA balanced (40% fraud)"
   ]
  },
  {
   "cell_type": "markdown",
   "metadata": {},
   "source": [
    "Naive Bayes"
   ]
  },
  {
   "cell_type": "code",
   "execution_count": 21,
   "metadata": {},
   "outputs": [
    {
     "name": "stdout",
     "output_type": "stream",
     "text": [
      "Classification report: \n",
      "              precision    recall  f1-score   support\n",
      "\n",
      "           0       0.79      0.94      0.86      1222\n",
      "           1       0.87      0.63      0.73       817\n",
      "\n",
      "    accuracy                           0.81      2039\n",
      "   macro avg       0.83      0.78      0.79      2039\n",
      "weighted avg       0.82      0.81      0.81      2039\n",
      "\n",
      "Confusion Matrix: \n"
     ]
    },
    {
     "data": {
      "image/png": "[encoded data removed]",
      "text/plain": [
       "<Figure size 432x288 with 2 Axes>"
      ]
     },
     "metadata": {
      "needs_background": "light"
     },
     "output_type": "display_data"
    }
   ],
   "source": [
    "nb_clf = MultinomialNB(alpha=0.0001)\n",
    "\n",
    "y_pred = create_classifier(nb_clf, X_balanced_40_train_normalized, y_balanced_40_train, \n",
    "                          X_balanced_40_test_normalized, y_balanced_40_test)\n",
    "\n",
    "print('Confusion Matrix: ')\n",
    "plot_confusion_matrix(nb_clf, X_balanced_40_test_normalized, y_balanced_40_test)"
   ]
  },
  {
   "cell_type": "markdown",
   "metadata": {},
   "source": [
    "Support Vector Machine"
   ]
  },
  {
   "cell_type": "code",
   "execution_count": null,
   "metadata": {},
   "outputs": [
    {
     "name": "stdout",
     "output_type": "stream",
     "text": [
      "Classification report: \n",
      "              precision    recall  f1-score   support\n",
      "\n",
      "           0       1.00      1.00      1.00      1955\n",
      "           1       1.00      1.00      1.00      1369\n",
      "\n",
      "    accuracy                           1.00      3324\n",
      "   macro avg       1.00      1.00      1.00      3324\n",
      "weighted avg       1.00      1.00      1.00      3324\n",
      "\n",
      "Confusion Matrix: \n"
     ]
    },
    {
     "data": {
      "image/png": "[encoded data removed]",
      "text/plain": [
       "<Figure size 432x288 with 2 Axes>"
      ]
     },
     "metadata": {},
     "output_type": "display_data"
    }
   ],
   "source": [
    "svm_clf = SVC(kernel='poly', C=100)\n",
    "\n",
    "y_pred = create_classifier(svm_clf, X_balanced_40_train_normalized, y_balanced_40_train, \n",
    "                          X_balanced_40_test_normalized, y_balanced_40_test)\n",
    "\n",
    "print('Confusion Matrix: ')\n",
    "plot_confusion_matrix(svm_clf, X_balanced_40_test_normalized, y_balanced_40_test)"
   ]
  },
  {
   "cell_type": "markdown",
   "metadata": {},
   "source": [
    "Random Forest"
   ]
  },
  {
   "cell_type": "code",
   "execution_count": 32,
   "metadata": {},
   "outputs": [
    {
     "name": "stdout",
     "output_type": "stream",
     "text": [
      "Classification report: \n",
      "              precision    recall  f1-score   support\n",
      "\n",
      "           0       0.71      0.97      0.82      1222\n",
      "           1       0.91      0.41      0.56       817\n",
      "\n",
      "    accuracy                           0.75      2039\n",
      "   macro avg       0.81      0.69      0.69      2039\n",
      "weighted avg       0.79      0.75      0.72      2039\n",
      "\n",
      "Confusion Matrix: \n"
     ]
    },
    {
     "data": {
      "image/png": "[encoded data removed]",
      "text/plain": [
       "<Figure size 432x288 with 2 Axes>"
      ]
     },
     "metadata": {
      "needs_background": "light"
     },
     "output_type": "display_data"
    }
   ],
   "source": [
    "rf_clf = RandomForestClassifier(n_estimators=100, max_features='auto', max_depth=3, criterion='gini')\n",
    "\n",
    "y_pred = create_classifier(rf_clf, X_balanced_40_train_normalized, y_balanced_40_train, \n",
    "                          X_balanced_40_test_normalized, y_balanced_40_test)\n",
    "\n",
    "print('Confusion Matrix: ')\n",
    "plot_confusion_matrix(rf_clf, X_balanced_40_test_normalized, y_balanced_40_test)"
   ]
  },
  {
   "cell_type": "markdown",
   "metadata": {},
   "source": [
    "Multilayer Perceptron"
   ]
  },
  {
   "cell_type": "code",
   "execution_count": 36,
   "metadata": {},
   "outputs": [
    {
     "name": "stdout",
     "output_type": "stream",
     "text": [
      "Classification report: \n",
      "              precision    recall  f1-score   support\n",
      "\n",
      "           0       1.00      0.98      0.99      1222\n",
      "           1       0.97      1.00      0.99       817\n",
      "\n",
      "    accuracy                           0.99      2039\n",
      "   macro avg       0.99      0.99      0.99      2039\n",
      "weighted avg       0.99      0.99      0.99      2039\n",
      "\n",
      "Confusion Matrix: \n"
     ]
    },
    {
     "data": {
      "image/png": "[encoded data removed]",
      "text/plain": [
       "<Figure size 432x288 with 2 Axes>"
      ]
     },
     "metadata": {
      "needs_background": "light"
     },
     "output_type": "display_data"
    }
   ],
   "source": [
    "mlp_clf = MLPClassifier(hidden_layer_sizes=(100,), alpha=0.001, random_state=0)\n",
    "\n",
    "y_pred = create_classifier(mlp_clf, X_balanced_40_train_normalized, y_balanced_40_train, \n",
    "                          X_balanced_40_test_normalized, y_balanced_40_test)\n",
    "\n",
    "print('Confusion Matrix: ')\n",
    "plot_confusion_matrix(mlp_clf, X_balanced_40_test_normalized, y_balanced_40_test)"
   ]
  },
  {
   "cell_type": "markdown",
   "metadata": {},
   "source": [
    "#### PCA balanced (50% fraud)"
   ]
  },
  {
   "cell_type": "markdown",
   "metadata": {},
   "source": [
    "Naive Bayes"
   ]
  },
  {
   "cell_type": "code",
   "execution_count": 22,
   "metadata": {},
   "outputs": [
    {
     "name": "stdout",
     "output_type": "stream",
     "text": [
      "Classification report: \n",
      "              precision    recall  f1-score   support\n",
      "\n",
      "           0       0.74      0.94      0.83      1209\n",
      "           1       0.92      0.68      0.78      1237\n",
      "\n",
      "    accuracy                           0.81      2446\n",
      "   macro avg       0.83      0.81      0.81      2446\n",
      "weighted avg       0.83      0.81      0.81      2446\n",
      "\n",
      "Confusion Matrix: \n"
     ]
    },
    {
     "data": {
      "image/png": "[encoded data removed]",
      "text/plain": [
       "<Figure size 432x288 with 2 Axes>"
      ]
     },
     "metadata": {
      "needs_background": "light"
     },
     "output_type": "display_data"
    }
   ],
   "source": [
    "nb_clf = MultinomialNB(alpha=0.0001)\n",
    "\n",
    "y_pred = create_classifier(nb_clf, X_balanced_50_train_normalized, y_balanced_50_train, \n",
    "                          X_balanced_50_test_normalized, y_balanced_50_test)\n",
    "\n",
    "print('Confusion Matrix: ')\n",
    "plot_confusion_matrix(nb_clf, X_balanced_50_test_normalized, y_balanced_50_test)"
   ]
  },
  {
   "cell_type": "markdown",
   "metadata": {},
   "source": [
    "Support Vector Machine"
   ]
  },
  {
   "cell_type": "code",
   "execution_count": 33,
   "metadata": {},
   "outputs": [
    {
     "name": "stdout",
     "output_type": "stream",
     "text": [
      "Classification report: \n",
      "              precision    recall  f1-score   support\n",
      "\n",
      "           0       1.00      1.00      1.00      1209\n",
      "           1       1.00      1.00      1.00      1237\n",
      "\n",
      "    accuracy                           1.00      2446\n",
      "   macro avg       1.00      1.00      1.00      2446\n",
      "weighted avg       1.00      1.00      1.00      2446\n",
      "\n",
      "Confusion Matrix: \n"
     ]
    },
    {
     "data": {
      "image/png": "[encoded data removed]",
      "text/plain": [
       "<Figure size 432x288 with 2 Axes>"
      ]
     },
     "metadata": {
      "needs_background": "light"
     },
     "output_type": "display_data"
    }
   ],
   "source": [
    "svm_clf = SVC(kernel='rbf', C=10)\n",
    "\n",
    "y_pred = create_classifier(svm_clf, X_balanced_50_train_normalized, y_balanced_50_train, \n",
    "                          X_balanced_50_test_normalized, y_balanced_50_test)\n",
    "\n",
    "print('Confusion Matrix: ')\n",
    "plot_confusion_matrix(svm_clf, X_balanced_50_test_normalized, y_balanced_50_test)"
   ]
  },
  {
   "cell_type": "markdown",
   "metadata": {},
   "source": [
    "Random Forest"
   ]
  },
  {
   "cell_type": "code",
   "execution_count": 34,
   "metadata": {},
   "outputs": [
    {
     "name": "stdout",
     "output_type": "stream",
     "text": [
      "Classification report: \n",
      "              precision    recall  f1-score   support\n",
      "\n",
      "           0       0.72      0.84      0.78      1209\n",
      "           1       0.82      0.69      0.75      1237\n",
      "\n",
      "    accuracy                           0.76      2446\n",
      "   macro avg       0.77      0.76      0.76      2446\n",
      "weighted avg       0.77      0.76      0.76      2446\n",
      "\n",
      "Confusion Matrix: \n"
     ]
    },
    {
     "data": {
      "image/png": "[encoded data removed]",
      "text/plain": [
       "<Figure size 432x288 with 2 Axes>"
      ]
     },
     "metadata": {
      "needs_background": "light"
     },
     "output_type": "display_data"
    }
   ],
   "source": [
    "rf_clf = RandomForestClassifier(n_estimators=100, max_features='auto', max_depth=3, criterion='gini')\n",
    "\n",
    "y_pred = create_classifier(rf_clf, X_balanced_50_train_normalized, y_balanced_50_train, \n",
    "                          X_balanced_50_test_normalized, y_balanced_50_test)\n",
    "\n",
    "print('Confusion Matrix: ')\n",
    "plot_confusion_matrix(rf_clf, X_balanced_50_test_normalized, y_balanced_50_test)"
   ]
  },
  {
   "cell_type": "markdown",
   "metadata": {},
   "source": [
    "Multilayer Perceptron"
   ]
  },
  {
   "cell_type": "code",
   "execution_count": 37,
   "metadata": {},
   "outputs": [
    {
     "name": "stdout",
     "output_type": "stream",
     "text": [
      "Classification report: \n",
      "              precision    recall  f1-score   support\n",
      "\n",
      "           0       0.97      0.98      0.98      1209\n",
      "           1       0.98      0.97      0.98      1237\n",
      "\n",
      "    accuracy                           0.98      2446\n",
      "   macro avg       0.98      0.98      0.98      2446\n",
      "weighted avg       0.98      0.98      0.98      2446\n",
      "\n",
      "Confusion Matrix: \n"
     ]
    },
    {
     "data": {
      "image/png": "[encoded data removed]",
      "text/plain": [
       "<Figure size 432x288 with 2 Axes>"
      ]
     },
     "metadata": {
      "needs_background": "light"
     },
     "output_type": "display_data"
    }
   ],
   "source": [
    "mlp_clf = MLPClassifier(hidden_layer_sizes=(100,), alpha=0.001, random_state=0)\n",
    "\n",
    "y_pred = create_classifier(mlp_clf, X_balanced_50_train_normalized, y_balanced_50_train, \n",
    "                          X_balanced_50_test_normalized, y_balanced_50_test)\n",
    "\n",
    "print('Confusion Matrix: ')\n",
    "plot_confusion_matrix(mlp_clf, X_balanced_50_test_normalized, y_balanced_50_test)"
   ]
  },
  {
   "cell_type": "markdown",
   "metadata": {},
   "source": [
    "#### Results"
   ]
  },
  {
   "cell_type": "code",
   "execution_count": null,
   "metadata": {},
   "outputs": [
    {
     "data": {
      "application/vnd.plotly.v1+json": {
       "config": {
        "plotlyServerURL": "https://plot.ly"
       },
       "data": [
        {
         "line": {
          "color": "#46C756"
         },
         "name": "Naive Bayes",
         "type": "scatter",
         "x": [
          "0.3%",
          "1%",
          "10%",
          "20%",
          "30%",
          "40%",
          "50%"
         ],
         "xaxis": "x",
         "y": [
          0,
          0,
          0.07,
          0.57,
          0.81,
          0.89,
          0.92
         ],
         "yaxis": "y"
        },
        {
         "line": {
          "color": "#FF69B4"
         },
         "name": "Support Vector Machine",
         "type": "scatter",
         "x": [
          "0.3%",
          "1%",
          "10%",
          "20%",
          "30%",
          "40%",
          "50%"
         ],
         "xaxis": "x",
         "y": [
          0.82,
          0.89,
          1,
          1,
          1,
          1,
          1
         ],
         "yaxis": "y"
        },
        {
         "line": {
          "color": "#2E7890"
         },
         "name": "Random Forest",
         "type": "scatter",
         "x": [
          "0.3%",
          "1%",
          "10%",
          "20%",
          "30%",
          "40%",
          "50%"
         ],
         "xaxis": "x",
         "y": [
          0.8,
          1,
          1,
          0.98,
          1,
          1,
          1
         ],
         "yaxis": "y"
        },
        {
         "line": {
          "color": "#46C756"
         },
         "showlegend": false,
         "type": "scatter",
         "x": [
          "0.3%",
          "1%",
          "10%",
          "20%",
          "30%",
          "40%",
          "50%"
         ],
         "xaxis": "x2",
         "y": [
          1,
          0.99,
          0.95,
          0.93,
          0.94,
          0.94,
          0.93
         ],
         "yaxis": "y2"
        },
        {
         "line": {
          "color": "#FF69B4"
         },
         "showlegend": false,
         "type": "scatter",
         "x": [
          "0.3%",
          "1%",
          "10%",
          "20%",
          "30%",
          "40%",
          "50%"
         ],
         "xaxis": "x2",
         "y": [
          1,
          1,
          1,
          1,
          1,
          1,
          1
         ],
         "yaxis": "y2"
        },
        {
         "line": {
          "color": "#2E7890"
         },
         "showlegend": false,
         "type": "scatter",
         "x": [
          "0.3%",
          "1%",
          "10%",
          "20%",
          "30%",
          "40%",
          "50%"
         ],
         "xaxis": "x2",
         "y": [
          1,
          1,
          1,
          1,
          1,
          1,
          1
         ],
         "yaxis": "y2"
        },
        {
         "line": {
          "color": "#46C756"
         },
         "showlegend": false,
         "type": "scatter",
         "x": [
          "0.3%",
          "1%",
          "10%",
          "20%",
          "30%",
          "40%",
          "50%"
         ],
         "xaxis": "x3",
         "y": [
          0.99,
          0.99,
          0.91,
          0.87,
          0.9,
          0.92,
          0.92
         ],
         "yaxis": "y3"
        },
        {
         "line": {
          "color": "#FF69B4"
         },
         "showlegend": false,
         "type": "scatter",
         "x": [
          "0.3%",
          "1%",
          "10%",
          "20%",
          "30%",
          "40%",
          "50%"
         ],
         "xaxis": "x3",
         "y": [
          1,
          1,
          1,
          1,
          1,
          1,
          1
         ],
         "yaxis": "y3"
        },
        {
         "line": {
          "color": "#2E7890"
         },
         "showlegend": false,
         "type": "scatter",
         "x": [
          "0.3%",
          "1%",
          "10%",
          "20%",
          "30%",
          "40%",
          "50%"
         ],
         "xaxis": "x3",
         "y": [
          1,
          1,
          1,
          0.99,
          1,
          1,
          1
         ],
         "yaxis": "y3"
        }
       ],
       "layout": {
        "annotations": [
         {
          "font": {
           "size": 16
          },
          "showarrow": false,
          "text": "Fraud",
          "x": 0.14444444444444446,
          "xanchor": "center",
          "xref": "paper",
          "y": 1,
          "yanchor": "bottom",
          "yref": "paper"
         },
         {
          "font": {
           "size": 16
          },
          "showarrow": false,
          "text": "Not fraud",
          "x": 0.5,
          "xanchor": "center",
          "xref": "paper",
          "y": 1,
          "yanchor": "bottom",
          "yref": "paper"
         },
         {
          "font": {
           "size": 16
          },
          "showarrow": false,
          "text": "Accuracy",
          "x": 0.8555555555555556,
          "xanchor": "center",
          "xref": "paper",
          "y": 1,
          "yanchor": "bottom",
          "yref": "paper"
         },
         {
          "font": {
           "size": 16
          },
          "showarrow": false,
          "text": "Balanced (%)",
          "x": 0.5,
          "xanchor": "center",
          "xref": "paper",
          "y": 0,
          "yanchor": "top",
          "yref": "paper",
          "yshift": -30
         },
         {
          "font": {
           "size": 16
          },
          "showarrow": false,
          "text": "F1-score",
          "textangle": -90,
          "x": 0,
          "xanchor": "right",
          "xref": "paper",
          "xshift": -40,
          "y": 0.5,
          "yanchor": "middle",
          "yref": "paper"
         }
        ],
        "font": {
         "color": "#37363d",
         "family": "Arial",
         "size": 14
        },
        "plot_bgcolor": "white",
        "template": {
         "data": {
          "bar": [
           {
            "error_x": {
             "color": "#2a3f5f"
            },
            "error_y": {
             "color": "#2a3f5f"
            },
            "marker": {
             "line": {
              "color": "#E5ECF6",
              "width": 0.5
             }
            },
            "type": "bar"
           }
          ],
          "barpolar": [
           {
            "marker": {
             "line": {
              "color": "#E5ECF6",
              "width": 0.5
             }
            },
            "type": "barpolar"
           }
          ],
          "carpet": [
           {
            "aaxis": {
             "endlinecolor": "#2a3f5f",
             "gridcolor": "white",
             "linecolor": "white",
             "minorgridcolor": "white",
             "startlinecolor": "#2a3f5f"
            },
            "baxis": {
             "endlinecolor": "#2a3f5f",
             "gridcolor": "white",
             "linecolor": "white",
             "minorgridcolor": "white",
             "startlinecolor": "#2a3f5f"
            },
            "type": "carpet"
           }
          ],
          "choropleth": [
           {
            "colorbar": {
             "outlinewidth": 0,
             "ticks": ""
            },
            "type": "choropleth"
           }
          ],
          "contour": [
           {
            "colorbar": {
             "outlinewidth": 0,
             "ticks": ""
            },
            "colorscale": [
             [
              0,
              "#0d0887"
             ],
             [
              0.1111111111111111,
              "#46039f"
             ],
             [
              0.2222222222222222,
              "#7201a8"
             ],
             [
              0.3333333333333333,
              "#9c179e"
             ],
             [
              0.4444444444444444,
              "#bd3786"
             ],
             [
              0.5555555555555556,
              "#d8576b"
             ],
             [
              0.6666666666666666,
              "#ed7953"
             ],
             [
              0.7777777777777778,
              "#fb9f3a"
             ],
             [
              0.8888888888888888,
              "#fdca26"
             ],
             [
              1,
              "#f0f921"
             ]
            ],
            "type": "contour"
           }
          ],
          "contourcarpet": [
           {
            "colorbar": {
             "outlinewidth": 0,
             "ticks": ""
            },
            "type": "contourcarpet"
           }
          ],
          "heatmap": [
           {
            "colorbar": {
             "outlinewidth": 0,
             "ticks": ""
            },
            "colorscale": [
             [
              0,
              "#0d0887"
             ],
             [
              0.1111111111111111,
              "#46039f"
             ],
             [
              0.2222222222222222,
              "#7201a8"
             ],
             [
              0.3333333333333333,
              "#9c179e"
             ],
             [
              0.4444444444444444,
              "#bd3786"
             ],
             [
              0.5555555555555556,
              "#d8576b"
             ],
             [
              0.6666666666666666,
              "#ed7953"
             ],
             [
              0.7777777777777778,
              "#fb9f3a"
             ],
             [
              0.8888888888888888,
              "#fdca26"
             ],
             [
              1,
              "#f0f921"
             ]
            ],
            "type": "heatmap"
           }
          ],
          "heatmapgl": [
           {
            "colorbar": {
             "outlinewidth": 0,
             "ticks": ""
            },
            "colorscale": [
             [
              0,
              "#0d0887"
             ],
             [
              0.1111111111111111,
              "#46039f"
             ],
             [
              0.2222222222222222,
              "#7201a8"
             ],
             [
              0.3333333333333333,
              "#9c179e"
             ],
             [
              0.4444444444444444,
              "#bd3786"
             ],
             [
              0.5555555555555556,
              "#d8576b"
             ],
             [
              0.6666666666666666,
              "#ed7953"
             ],
             [
              0.7777777777777778,
              "#fb9f3a"
             ],
             [
              0.8888888888888888,
              "#fdca26"
             ],
             [
              1,
              "#f0f921"
             ]
            ],
            "type": "heatmapgl"
           }
          ],
          "histogram": [
           {
            "marker": {
             "colorbar": {
              "outlinewidth": 0,
              "ticks": ""
             }
            },
            "type": "histogram"
           }
          ],
          "histogram2d": [
           {
            "colorbar": {
             "outlinewidth": 0,
             "ticks": ""
            },
            "colorscale": [
             [
              0,
              "#0d0887"
             ],
             [
              0.1111111111111111,
              "#46039f"
             ],
             [
              0.2222222222222222,
              "#7201a8"
             ],
             [
              0.3333333333333333,
              "#9c179e"
             ],
             [
              0.4444444444444444,
              "#bd3786"
             ],
             [
              0.5555555555555556,
              "#d8576b"
             ],
             [
              0.6666666666666666,
              "#ed7953"
             ],
             [
              0.7777777777777778,
              "#fb9f3a"
             ],
             [
              0.8888888888888888,
              "#fdca26"
             ],
             [
              1,
              "#f0f921"
             ]
            ],
            "type": "histogram2d"
           }
          ],
          "histogram2dcontour": [
           {
            "colorbar": {
             "outlinewidth": 0,
             "ticks": ""
            },
            "colorscale": [
             [
              0,
              "#0d0887"
             ],
             [
              0.1111111111111111,
              "#46039f"
             ],
             [
              0.2222222222222222,
              "#7201a8"
             ],
             [
              0.3333333333333333,
              "#9c179e"
             ],
             [
              0.4444444444444444,
              "#bd3786"
             ],
             [
              0.5555555555555556,
              "#d8576b"
             ],
             [
              0.6666666666666666,
              "#ed7953"
             ],
             [
              0.7777777777777778,
              "#fb9f3a"
             ],
             [
              0.8888888888888888,
              "#fdca26"
             ],
             [
              1,
              "#f0f921"
             ]
            ],
            "type": "histogram2dcontour"
           }
          ],
          "mesh3d": [
           {
            "colorbar": {
             "outlinewidth": 0,
             "ticks": ""
            },
            "type": "mesh3d"
           }
          ],
          "parcoords": [
           {
            "line": {
             "colorbar": {
              "outlinewidth": 0,
              "ticks": ""
             }
            },
            "type": "parcoords"
           }
          ],
          "pie": [
           {
            "automargin": true,
            "type": "pie"
           }
          ],
          "scatter": [
           {
            "marker": {
             "colorbar": {
              "outlinewidth": 0,
              "ticks": ""
             }
            },
            "type": "scatter"
           }
          ],
          "scatter3d": [
           {
            "line": {
             "colorbar": {
              "outlinewidth": 0,
              "ticks": ""
             }
            },
            "marker": {
             "colorbar": {
              "outlinewidth": 0,
              "ticks": ""
             }
            },
            "type": "scatter3d"
           }
          ],
          "scattercarpet": [
           {
            "marker": {
             "colorbar": {
              "outlinewidth": 0,
              "ticks": ""
             }
            },
            "type": "scattercarpet"
           }
          ],
          "scattergeo": [
           {
            "marker": {
             "colorbar": {
              "outlinewidth": 0,
              "ticks": ""
             }
            },
            "type": "scattergeo"
           }
          ],
          "scattergl": [
           {
            "marker": {
             "colorbar": {
              "outlinewidth": 0,
              "ticks": ""
             }
            },
            "type": "scattergl"
           }
          ],
          "scattermapbox": [
           {
            "marker": {
             "colorbar": {
              "outlinewidth": 0,
              "ticks": ""
             }
            },
            "type": "scattermapbox"
           }
          ],
          "scatterpolar": [
           {
            "marker": {
             "colorbar": {
              "outlinewidth": 0,
              "ticks": ""
             }
            },
            "type": "scatterpolar"
           }
          ],
          "scatterpolargl": [
           {
            "marker": {
             "colorbar": {
              "outlinewidth": 0,
              "ticks": ""
             }
            },
            "type": "scatterpolargl"
           }
          ],
          "scatterternary": [
           {
            "marker": {
             "colorbar": {
              "outlinewidth": 0,
              "ticks": ""
             }
            },
            "type": "scatterternary"
           }
          ],
          "surface": [
           {
            "colorbar": {
             "outlinewidth": 0,
             "ticks": ""
            },
            "colorscale": [
             [
              0,
              "#0d0887"
             ],
             [
              0.1111111111111111,
              "#46039f"
             ],
             [
              0.2222222222222222,
              "#7201a8"
             ],
             [
              0.3333333333333333,
              "#9c179e"
             ],
             [
              0.4444444444444444,
              "#bd3786"
             ],
             [
              0.5555555555555556,
              "#d8576b"
             ],
             [
              0.6666666666666666,
              "#ed7953"
             ],
             [
              0.7777777777777778,
              "#fb9f3a"
             ],
             [
              0.8888888888888888,
              "#fdca26"
             ],
             [
              1,
              "#f0f921"
             ]
            ],
            "type": "surface"
           }
          ],
          "table": [
           {
            "cells": {
             "fill": {
              "color": "#EBF0F8"
             },
             "line": {
              "color": "white"
             }
            },
            "header": {
             "fill": {
              "color": "#C8D4E3"
             },
             "line": {
              "color": "white"
             }
            },
            "type": "table"
           }
          ]
         },
         "layout": {
          "annotationdefaults": {
           "arrowcolor": "#2a3f5f",
           "arrowhead": 0,
           "arrowwidth": 1
          },
          "coloraxis": {
           "colorbar": {
            "outlinewidth": 0,
            "ticks": ""
           }
          },
          "colorscale": {
           "diverging": [
            [
             0,
             "#8e0152"
            ],
            [
             0.1,
             "#c51b7d"
            ],
            [
             0.2,
             "#de77ae"
            ],
            [
             0.3,
             "#f1b6da"
            ],
            [
             0.4,
             "#fde0ef"
            ],
            [
             0.5,
             "#f7f7f7"
            ],
            [
             0.6,
             "#e6f5d0"
            ],
            [
             0.7,
             "#b8e186"
            ],
            [
             0.8,
             "#7fbc41"
            ],
            [
             0.9,
             "#4d9221"
            ],
            [
             1,
             "#276419"
            ]
           ],
           "sequential": [
            [
             0,
             "#0d0887"
            ],
            [
             0.1111111111111111,
             "#46039f"
            ],
            [
             0.2222222222222222,
             "#7201a8"
            ],
            [
             0.3333333333333333,
             "#9c179e"
            ],
            [
             0.4444444444444444,
             "#bd3786"
            ],
            [
             0.5555555555555556,
             "#d8576b"
            ],
            [
             0.6666666666666666,
             "#ed7953"
            ],
            [
             0.7777777777777778,
             "#fb9f3a"
            ],
            [
             0.8888888888888888,
             "#fdca26"
            ],
            [
             1,
             "#f0f921"
            ]
           ],
           "sequentialminus": [
            [
             0,
             "#0d0887"
            ],
            [
             0.1111111111111111,
             "#46039f"
            ],
            [
             0.2222222222222222,
             "#7201a8"
            ],
            [
             0.3333333333333333,
             "#9c179e"
            ],
            [
             0.4444444444444444,
             "#bd3786"
            ],
            [
             0.5555555555555556,
             "#d8576b"
            ],
            [
             0.6666666666666666,
             "#ed7953"
            ],
            [
             0.7777777777777778,
             "#fb9f3a"
            ],
            [
             0.8888888888888888,
             "#fdca26"
            ],
            [
             1,
             "#f0f921"
            ]
           ]
          },
          "colorway": [
           "#636efa",
           "#EF553B",
           "#00cc96",
           "#ab63fa",
           "#FFA15A",
           "#19d3f3",
           "#FF6692",
           "#B6E880",
           "#FF97FF",
           "#FECB52"
          ],
          "font": {
           "color": "#2a3f5f"
          },
          "geo": {
           "bgcolor": "white",
           "lakecolor": "white",
           "landcolor": "#E5ECF6",
           "showlakes": true,
           "showland": true,
           "subunitcolor": "white"
          },
          "hoverlabel": {
           "align": "left"
          },
          "hovermode": "closest",
          "mapbox": {
           "style": "light"
          },
          "paper_bgcolor": "white",
          "plot_bgcolor": "#E5ECF6",
          "polar": {
           "angularaxis": {
            "gridcolor": "white",
            "linecolor": "white",
            "ticks": ""
           },
           "bgcolor": "#E5ECF6",
           "radialaxis": {
            "gridcolor": "white",
            "linecolor": "white",
            "ticks": ""
           }
          },
          "scene": {
           "xaxis": {
            "backgroundcolor": "#E5ECF6",
            "gridcolor": "white",
            "gridwidth": 2,
            "linecolor": "white",
            "showbackground": true,
            "ticks": "",
            "zerolinecolor": "white"
           },
           "yaxis": {
            "backgroundcolor": "#E5ECF6",
            "gridcolor": "white",
            "gridwidth": 2,
            "linecolor": "white",
            "showbackground": true,
            "ticks": "",
            "zerolinecolor": "white"
           },
           "zaxis": {
            "backgroundcolor": "#E5ECF6",
            "gridcolor": "white",
            "gridwidth": 2,
            "linecolor": "white",
            "showbackground": true,
            "ticks": "",
            "zerolinecolor": "white"
           }
          },
          "shapedefaults": {
           "line": {
            "color": "#2a3f5f"
           }
          },
          "ternary": {
           "aaxis": {
            "gridcolor": "white",
            "linecolor": "white",
            "ticks": ""
           },
           "baxis": {
            "gridcolor": "white",
            "linecolor": "white",
            "ticks": ""
           },
           "bgcolor": "#E5ECF6",
           "caxis": {
            "gridcolor": "white",
            "linecolor": "white",
            "ticks": ""
           }
          },
          "title": {
           "x": 0.05
          },
          "xaxis": {
           "automargin": true,
           "gridcolor": "white",
           "linecolor": "white",
           "ticks": "",
           "title": {
            "standoff": 15
           },
           "zerolinecolor": "white",
           "zerolinewidth": 2
          },
          "yaxis": {
           "automargin": true,
           "gridcolor": "white",
           "linecolor": "white",
           "ticks": "",
           "title": {
            "standoff": 15
           },
           "zerolinecolor": "white",
           "zerolinewidth": 2
          }
         }
        },
        "xaxis": {
         "anchor": "y",
         "domain": [
          0,
          0.2888888888888889
         ],
         "gridcolor": "lightgray",
         "gridwidth": 1,
         "linecolor": "black",
         "linewidth": 1,
         "showgrid": true,
         "showline": true
        },
        "xaxis2": {
         "anchor": "y2",
         "domain": [
          0.35555555555555557,
          0.6444444444444445
         ],
         "gridcolor": "lightgray",
         "gridwidth": 1,
         "linecolor": "black",
         "linewidth": 1,
         "showgrid": true,
         "showline": true
        },
        "xaxis3": {
         "anchor": "y3",
         "domain": [
          0.7111111111111111,
          1
         ],
         "gridcolor": "lightgray",
         "gridwidth": 1,
         "linecolor": "black",
         "linewidth": 1,
         "showgrid": true,
         "showline": true
        },
        "yaxis": {
         "anchor": "x",
         "domain": [
          0,
          1
         ],
         "gridcolor": "lightgray",
         "gridwidth": 1,
         "linecolor": "black",
         "linewidth": 1,
         "showgrid": true,
         "showline": true
        },
        "yaxis2": {
         "anchor": "x2",
         "domain": [
          0,
          1
         ],
         "gridcolor": "lightgray",
         "gridwidth": 1,
         "linecolor": "black",
         "linewidth": 1,
         "showgrid": true,
         "showline": true
        },
        "yaxis3": {
         "anchor": "x3",
         "domain": [
          0,
          1
         ],
         "gridcolor": "lightgray",
         "gridwidth": 1,
         "linecolor": "black",
         "linewidth": 1,
         "showgrid": true,
         "showline": true
        }
       }
      }
     },
     "metadata": {},
     "output_type": "display_data"
    }
   ],
   "source": [
    "x_axis = ['0.3%', '1%', '10%', '20%', '30%', '40%', '50%']\n",
    "\n",
    "fig = make_subplots(rows=1, cols=3, shared_xaxes=True, subplot_titles=['Fraud', 'Not fraud', 'Accuracy'], x_title='Balanced (%)', y_title='F1-score')\n",
    "\n",
    "fig.add_traces([go.Scatter(x=x_axis, y=[0, 0, 0.07, 0.57, 0.81, 0.89, 0.92], name='Naive Bayes', line=dict(color=\"#46C756\")),\n",
    "                go.Scatter(x=x_axis, y=[0.82, 0.89, 1, 1, 1, 1, 1], name='Support Vector Machine', line=dict(color=\"#FF69B4\")),\n",
    "                go.Scatter(x=x_axis, y=[0.8, 1, 1, 0.98, 1, 1, 1], name='Random Forest', line=dict(color=\"#2E7890\"))], rows=[1,1,1], cols=[1,1,1])\n",
    "\n",
    "fig.add_traces([go.Scatter(x=x_axis, y=[1, 0.99, 0.95, 0.93, 0.94, 0.94, 0.93], line=dict(color=\"#46C756\"), showlegend=False),\n",
    "                go.Scatter(x=x_axis, y=[1, 1, 1, 1, 1, 1, 1], line=dict(color=\"#FF69B4\"), showlegend=False),\n",
    "                go.Scatter(x=x_axis, y=[1, 1, 1, 1, 1, 1, 1], line=dict(color=\"#2E7890\"), showlegend=False)], rows=[1,1,1], cols=[2,2,2])\n",
    "\n",
    "fig.add_traces([go.Scatter(x=x_axis, y=[0.99, 0.99, 0.91, 0.87, 0.90, 0.92, 0.92], line=dict(color=\"#46C756\"), showlegend=False),\n",
    "                go.Scatter(x=x_axis, y=[1, 1, 1, 1, 1, 1, 1], line=dict(color=\"#FF69B4\"), showlegend=False),\n",
    "                go.Scatter(x=x_axis, y=[1, 1, 1, 0.99, 1, 1, 1], line=dict(color=\"#2E7890\"), showlegend=False)], rows=[1,1,1], cols=[3,3,3])\n",
    "\n",
    "fig.update_layout(\n",
    "plot_bgcolor = 'white',\n",
    "font = {'family': 'Arial','size': 14,'color': '#37363d'})\n",
    "\n",
    "fig.update_xaxes( showgrid=True, gridwidth=1, gridcolor='lightgray',\n",
    "showline=True, linewidth=1, linecolor='black')\n",
    "\n",
    "fig.update_yaxes(showgrid=True, gridwidth=1, gridcolor='lightgray',\n",
    "showline=True, linewidth=1, linecolor='black')\n",
    "\n",
    "fig.show()"
   ]
  },
  {
   "cell_type": "code",
   "execution_count": null,
   "metadata": {},
   "outputs": [
    {
     "data": {
      "image/png": "[encoded data removed]",
      "text/plain": [
       "<PIL.PngImagePlugin.PngImageFile image mode=RGBA size=1263x645 at 0x7F9246240190>"
      ]
     },
     "metadata": {},
     "output_type": "display_data"
    }
   ],
   "source": [
    "classification_results = Image.open('results/classification_results.png')\n",
    "classification_results"
   ]
  }
 ],
 "metadata": {
  "interpreter": {
   "hash": "453071c72c80de92b7692a33dbeefc920793dd11aacf5fbb1339ac2b396bb92f"
  },
  "kernelspec": {
   "display_name": "Python 3.8.10 ('.venv': venv)",
   "language": "python",
   "name": "python3"
  },
  "language_info": {
   "codemirror_mode": {
    "name": "ipython",
    "version": 3
   },
   "file_extension": ".py",
   "mimetype": "text/x-python",
   "name": "python",
   "nbconvert_exporter": "python",
   "pygments_lexer": "ipython3",
   "version": "3.8.10"
  },
  "orig_nbformat": 4
 },
 "nbformat": 4,
 "nbformat_minor": 2
}
